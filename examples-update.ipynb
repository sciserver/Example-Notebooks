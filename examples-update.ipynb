{
 "cells": [
  {
   "cell_type": "markdown",
   "metadata": {},
   "source": [
    "# Update example notebooks\n",
    "\n",
    "As we develop new features of SciServer, we will sometimes update these Example Notebooks to use those features. Check back often at our SciServer Releases page (http://www.sciserver.org/release/) for more information on what is new.\n",
    "\n",
    "To make sure you have the latest versions of all our Example Notebooks, run the single line of code in the Code cell below. It will pull any recent changes from our git repository (https://github.com/sciserver/Example-Notebooks).\n",
    "\n",
    "## WARNING!\n",
    "\n",
    "If you have made any changes to the Example Notebook files since your first checked them out, this command will overwrite them! Please duplicate any changed files and save them under a different name so you will not lose your changes."
   ]
  },
  {
   "cell_type": "code",
   "execution_count": null,
   "metadata": {
    "collapsed": false
   },
   "outputs": [],
   "source": [
    "!git pull"
   ]
  }
 ],
 "metadata": {
  "kernelspec": {
   "display_name": "Python 3",
   "language": "python",
   "name": "python3"
  },
  "language_info": {
   "codemirror_mode": {
    "name": "ipython",
    "version": 3
   },
   "file_extension": ".py",
   "mimetype": "text/x-python",
   "name": "python",
   "nbconvert_exporter": "python",
   "pygments_lexer": "ipython3",
   "version": "3.5.1"
  }
 },
 "nbformat": 4,
 "nbformat_minor": 0
}
