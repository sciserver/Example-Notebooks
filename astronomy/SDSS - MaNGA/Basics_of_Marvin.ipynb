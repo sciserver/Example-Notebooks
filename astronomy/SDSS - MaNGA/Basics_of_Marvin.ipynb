{
 "cells": [
  {
   "cell_type": "markdown",
   "metadata": {},
   "source": [
    "# Basics of Marvin\n",
    "\n",
    "In this notebook, you will learn the common core functionality across many of the Marvin Tools.  This includes the basics of accessing and handling MaNGA data from different locations, as well as a beginners guide of interacting with data via the core tools of Cubes and Maps.  Much of this information can be found in the [Getting Started section](https://sdss-marvin.readthedocs.io/en/stable/getting-started.html) of the Marvin documentation.  \n",
    "\n",
    "## Table of Contents\n",
    "- [Data Access Modes](#modes) <br>\n",
    "- [Interacting with Data Content](#interaction) <br>\n",
    " - [Object Datamodels](#datamodel) <br>\n",
    " - [Extracting Data](#extract) <br> \n",
    " - [Accessing Associated Objects](#associates)<br>\n",
    " - [Quality and Target Flags](#flags)<br>\n",
    " - [NSA and DAPall Metadata](#mixin)<br>\n",
    " - [Downloading Files](#download)<br>\n",
    "- [Interacting with Spaxels](#spaxels)<br>"
   ]
  },
  {
   "cell_type": "markdown",
   "metadata": {},
   "source": [
    "<a id=\"common\"></a>\n",
    "## Common Core Functionality \n",
    "\n",
    "Marvin Tools provides the core functionality for accessing MaNGA data with Marvin. At the lowest level they are class wrappers around data products or elements (datacubes, maps, and spaxels). Their purpose is to provide a more natural way to interact with the data, unconstrained by specific data storage architectures such as files or databases, or by data location such as a laptop or remote server.  \n",
    "\n",
    "All Marvin Tools are built off a set of common core functionalities and features, and thus behave in very similar ways.  There are four main classes provided in Marvin: the ``Cube``, the ``RSS``, the ``Maps``, and the ``ModelCube``.\n",
    "We will start by focusing on a Marvin Cube to demonstrate the common features and handling of Marvin Tools.  Everything discussed here also applies to any of the other available Marvin Tools listed above.   \n",
    "  \n",
    "Let's start by importing the Marvin Cube class."
   ]
  },
  {
   "cell_type": "code",
   "execution_count": 42,
   "metadata": {
    "execution": {
     "iopub.execute_input": "2021-12-05T22:48:32.314176Z",
     "iopub.status.busy": "2021-12-05T22:48:32.313166Z",
     "iopub.status.idle": "2021-12-05T22:48:32.325161Z",
     "shell.execute_reply": "2021-12-05T22:48:32.322773Z",
     "shell.execute_reply.started": "2021-12-05T22:48:32.314113Z"
    },
    "tags": []
   },
   "outputs": [],
   "source": [
    "from marvin.tools import Cube"
   ]
  },
  {
   "cell_type": "markdown",
   "metadata": {},
   "source": [
    "You may see the info message `No release version set. Setting default to DR15`.  The default data release Marvin uses is DR15. For this tutorial, we will be using DR15 data so there is no need to do anything further.  In general, to change which release Marvin uses, we can use the Marvin `config.setRelease` method on the `config` object.   "
   ]
  },
  {
   "cell_type": "code",
   "execution_count": 8,
   "metadata": {
    "execution": {
     "iopub.execute_input": "2021-12-05T21:55:41.150893Z",
     "iopub.status.busy": "2021-12-05T21:55:41.149947Z",
     "iopub.status.idle": "2021-12-05T21:55:44.780948Z",
     "shell.execute_reply": "2021-12-05T21:55:44.778779Z",
     "shell.execute_reply.started": "2021-12-05T21:55:41.150825Z"
    },
    "tags": []
   },
   "outputs": [
    {
     "name": "stderr",
     "output_type": "stream",
     "text": [
      "Exception ignored in: <function MarvinToolsClass.__del__ at 0x7fa7e80e6310>\n",
      "Traceback (most recent call last):\n",
      "  File \"/home/idies/miniconda3/envs/py38/lib/python3.8/site-packages/marvin/tools/core.py\", line 253, in __del__\n",
      "    self.close()\n",
      "  File \"/home/idies/miniconda3/envs/py38/lib/python3.8/site-packages/marvin/tools/core.py\", line 240, in close\n",
      "    if self.source_is_fits_hdulist:\n",
      "AttributeError: 'Cube' object has no attribute 'source_is_fits_hdulist'\n"
     ]
    }
   ],
   "source": [
    "from marvin import config\n",
    "\n",
    "# set the release to DR17\n",
    "config.setRelease(\"DR16\")"
   ]
  },
  {
   "cell_type": "markdown",
   "metadata": {},
   "source": [
    "<a id=\"modes\"></a>\n",
    "### Data Access Modes"
   ]
  },
  {
   "cell_type": "markdown",
   "metadata": {},
   "source": [
    "Let's instantiate our first cube, for galaxy with plate-IFU designation 8485-1901.  Each marvin tool takes a string id input and can one of: a string filepath and name, a plate-IFU designation, or a manga-ID designation.  Marvin will attempt to identify the input format and properly load the target data."
   ]
  },
  {
   "cell_type": "code",
   "execution_count": 9,
   "metadata": {
    "execution": {
     "iopub.execute_input": "2021-12-05T21:55:44.797866Z",
     "iopub.status.busy": "2021-12-05T21:55:44.797368Z",
     "iopub.status.idle": "2021-12-05T21:55:44.863312Z",
     "shell.execute_reply": "2021-12-05T21:55:44.861425Z",
     "shell.execute_reply.started": "2021-12-05T21:55:44.797822Z"
    },
    "tags": []
   },
   "outputs": [
    {
     "data": {
      "text/plain": [
       "<Marvin Cube (plateifu='8485-1901', mode='local', data_origin='db')>"
      ]
     },
     "execution_count": 9,
     "metadata": {},
     "output_type": "execute_result"
    }
   ],
   "source": [
    "# instantiate a cube for 8485-1901\n",
    "cube = Cube('8485-1901')\n",
    "cube"
   ]
  },
  {
   "cell_type": "markdown",
   "metadata": {},
   "source": [
    "Once instantiated, each marvin tool indicates a **mode** and a **data-origin**.  Note that `mode=\"local\"` and  `data_origin=\"db\"`.  This indicates that we have accessed the object from the SciServer-hosted DR17 MaNGA database."
   ]
  },
  {
   "cell_type": "markdown",
   "metadata": {},
   "source": [
    "What if we won't have the MaNGa data products for our target of interest?  We can specify the **plateifu** or **mangaid** of the target and Marvin will access it remotely.  In this case, you would see `mode=\"remote\"` and `data_origin=\"api\"`.  This indicates the cube has been remotely loaded using the built-in Marvin API. By specifying an input plateifu or mangaid, marvin will always first try to access the data locally, and then fall back to remote access.  Since we're accesing data hosted on SciServer, all data is local either in database or files. "
   ]
  },
  {
   "cell_type": "markdown",
   "metadata": {},
   "source": [
    "You can also explicitly load a file using the ``filename`` keyword argument.    "
   ]
  },
  {
   "cell_type": "code",
   "execution_count": 11,
   "metadata": {
    "execution": {
     "iopub.execute_input": "2021-12-05T21:55:54.303315Z",
     "iopub.status.busy": "2021-12-05T21:55:54.302542Z",
     "iopub.status.idle": "2021-12-05T21:55:56.291561Z",
     "shell.execute_reply": "2021-12-05T21:55:56.276774Z",
     "shell.execute_reply.started": "2021-12-05T21:55:54.303257Z"
    },
    "tags": []
   },
   "outputs": [
    {
     "data": {
      "text/plain": [
       "<Marvin Cube (plateifu='8485-1901', mode='local', data_origin='file')>"
      ]
     },
     "execution_count": 11,
     "metadata": {},
     "output_type": "execute_result"
    }
   ],
   "source": [
    "# Explicitly load a cube from a file on disk \n",
    "filename = '/home/idies/workspace/sdss_sas/dr16/manga/spectro/redux/v2_4_3/8485/stack/manga-8485-1901-LOGCUBE.fits.gz'\n",
    "cube = Cube(filename=filename)\n",
    "cube"
   ]
  },
  {
   "cell_type": "markdown",
   "metadata": {},
   "source": [
    "<a id=\"interaction\"></a>\n",
    "### Interacting with Data Content\n",
    "\n",
    "Regardless of how you load an object, the way we interact with all the tools, and the way they behave, is the same.  They also all provide some quick access to basic metadata, like coordinates, header information, and WCS.\n",
    "<a id=\"metadata\"></a>"
   ]
  },
  {
   "cell_type": "code",
   "execution_count": 12,
   "metadata": {
    "execution": {
     "iopub.execute_input": "2021-12-05T21:56:00.071900Z",
     "iopub.status.busy": "2021-12-05T21:56:00.071268Z",
     "iopub.status.idle": "2021-12-05T21:56:00.100317Z",
     "shell.execute_reply": "2021-12-05T21:56:00.098408Z",
     "shell.execute_reply.started": "2021-12-05T21:56:00.071849Z"
    }
   },
   "outputs": [
    {
     "name": "stdout",
     "output_type": "stream",
     "text": [
      "Target Coordindates: 232.544703894 48.6902009334\n",
      "Header:\n"
     ]
    },
    {
     "data": {
      "text/plain": [
       "XTENSION= 'IMAGE   '           / IMAGE extension                                \n",
       "BITPIX  =                  -32 / Number of bits per data pixel                  \n",
       "NAXIS   =                    3 / Number of data axes                            \n",
       "NAXIS1  =                   34 /                                                \n",
       "NAXIS2  =                   34 /                                                \n",
       "NAXIS3  =                 4563 /                                                \n",
       "PCOUNT  =                    0 / No Group Parameters                            \n",
       "GCOUNT  =                    1 / One Data Group                                 \n",
       "AUTHOR  = 'Brian Cherinka & David Law <bcherin1@jhu.edu, dlaw@stsci.edu>' /     \n",
       "VERSDRP2= 'v2_4_3  '           / MaNGA DRP version (2d processing)              \n",
       "VERSDRP3= 'v2_4_3  '           / MaNGA DRP Version (3d processing)              \n",
       "VERSPLDS= 'v2_52   '           / Platedesign Version                            \n",
       "VERSFLAT= 'v1_31   '           / Specflat Version                               \n",
       "VERSCORE= 'v1_6_2  '           / MaNGAcore Version                              \n",
       "VERSPRIM= 'v2_5    '           / MaNGA Preimaging Version                       \n",
       "VERSUTIL= 'v5_5_32 '           / Version of idlutils                            \n",
       "VERSIDL = 'x86_64 linux unix linux 7.1.1 Aug 21 2009 64 64 ' / Version of IDL   \n",
       "BSCALE  =              1.00000 / Intensity unit scaling                         \n",
       "BZERO   =              0.00000 / Intensity zeropoint                            \n",
       "BUNIT   = '1E-17 erg/s/cm^2/Ang/spaxel' / Specific intensity (per spaxel)       \n",
       "MASKNAME= 'MANGA_DRP3PIXMASK'  / Bits in sdssMaskbits.par used by mask extension\n",
       "TELESCOP= 'SDSS 2.5-M'         / Sloan Digital Sky Survey                       \n",
       "INSTRUME= 'MaNGA   '           / SDSS-IV MaNGA IFU                              \n",
       "SRVYMODE= 'MaNGA dither'       / Survey leading this observation and its mode   \n",
       "PLATETYP= 'APOGEE-2&MaNGA'     / Type of plate (e.g. MaNGA, APOGEE-2&MANGA)     \n",
       "OBJSYS  = 'ICRS    '           / The TCC objSys                                 \n",
       "EQUINOX =              2000.00 /                                                \n",
       "RADESYS = 'FK5     '           /                                                \n",
       "LAMPLIST= 'lamphgcdne.dat'     /                                                \n",
       "TPLDATA = 'BOSZ_3000-11000A.fits' /                                             \n",
       "NEXP    =                    9 / Total number of exposures                      \n",
       "EXPTIME =              8100.87 / Total exposure time (seconds)                  \n",
       "BLUESN2 =              19.9834 / Total SN2 in blue channel                      \n",
       "REDSN2  =              42.7417 / Total SN2 in red channel                       \n",
       "AIRMSMIN=              1.03987 / Minimum airmass                                \n",
       "AIRMSMED=              1.04708 / Median airmass                                 \n",
       "AIRMSMAX=              1.08221 / Maximum airmass                                \n",
       "SEEMIN  =              1.17790 / Best guider seeing                             \n",
       "SEEMED  =              1.30425 / Median guider seeing                           \n",
       "SEEMAX  =              1.42179 / Worst guider seeing                            \n",
       "TRANSMIN=             0.802254 / Worst guider transparency                      \n",
       "TRANSMED=             0.831209 / Median guider transparency                     \n",
       "TRANSMAX=             0.839501 / Best guider transparency                       \n",
       "MJDMIN  =                57132 / MJD of first exposure                          \n",
       "MJDMED  =                57132 / MJD of median exposure                         \n",
       "MJDMAX  =                57132 / MJD of last exposure                           \n",
       "DATE-OBS= '2015-04-20'         / Date of median exposure                        \n",
       "MJDRED  =                58198 / MJD of the reduction                           \n",
       "DATERED = '2018-03-21'         / Date of the reduction                          \n",
       "MNGTARG1=                 2336 / manga_target1 maskbit                          \n",
       "MNGTARG2=                    0 / manga_target2 maskbit                          \n",
       "MNGTARG3=                    0 / manga_target3 maskbit                          \n",
       "IFURA   =        232.544700000 / IFU R.A. (J2000 deg.)                          \n",
       "IFUDEC  =        48.6902010000 / IFU Dec. (J2000 deg.)                          \n",
       "OBJRA   =        232.544703894 / Object R.A. (J2000 deg.)                       \n",
       "OBJDEC  =        48.6902009334 / Object Dec. (J2000 deg.)                       \n",
       "CENRA   =        234.064260000 / Plate center R.A. (J2000 deg.)                 \n",
       "CENDEC  =        48.5898740000 / Plate center Dec. (J2000 deg.)                 \n",
       "PLATEID =                 8485 / Current plate                                  \n",
       "DESIGNID=                 8980 / Current design                                 \n",
       "IFUDSGN =                 1901 / ifuDesign                                      \n",
       "FRLPLUG =                   29 / Plugged ferrule                                \n",
       "PLATEIFU= '8485-1901'          / PLATEID-ifuDesign                              \n",
       "CARTID  = '3       '           / Cart(s) used                                   \n",
       "HARNAME = 'ma060   '           / Harness name(s)                                \n",
       "METFILE = 'ma060-56887-1.par'  / IFU metrology file(s)                          \n",
       "MANGAID = '1-209232'           / MaNGA ID number                                \n",
       "CATIDNUM= '1       '           / Primary target input catalog                   \n",
       "PLTTARG = 'plateTargets-1.par' / plateTarget reference file                     \n",
       "DRP3QUAL=                    0 / DRP-3d quality bitmask                         \n",
       "IFUGLON =        78.9550411299 / IFU Galactic longitude (deg)                   \n",
       "IFUGLAT =        52.6212190954 / IFU Galactic latitude (deg)                    \n",
       "EBVGAL  =            0.0144335 / Galactic reddening E(B-V)                      \n",
       "GFWHM   =              2.46769 / Reconstructed FWHM in g-band (arcsec)          \n",
       "RFWHM   =              2.47181 / Reconstructed FWHM in r-band (arcsec)          \n",
       "IFWHM   =              2.45516 / Reconstructed FWHM in i-band (arcsec)          \n",
       "ZFWHM   =              2.43769 / Reconstructed FWHM in z-band (arcsec)          \n",
       "CTYPE3  = 'WAVE-LOG'           /                                                \n",
       "CRPIX3  =                    1 / Starting pixel (1-indexed)                     \n",
       "CRVAL3  =        3621.59598486 / Central wavelength of first pixel              \n",
       "CD3_3   =       0.833903304339 / Initial dispersion per pixel                   \n",
       "CUNIT3  = 'Angstrom'           /                                                \n",
       "CRPIX1  =              18.0000 /Reference pixel (1-indexed)                     \n",
       "CRPIX2  =              18.0000 /Reference pixel (1-indexed)                     \n",
       "CRVAL1  =        232.544700000 /                                                \n",
       "CRVAL2  =        48.6902010000 /                                                \n",
       "CD1_1   =         -0.000138889 /                                                \n",
       "CD2_2   =          0.000138889 /                                                \n",
       "CTYPE1  = 'RA---TAN'           /                                                \n",
       "CTYPE2  = 'DEC--TAN'           /                                                \n",
       "CUNIT1  = 'deg     '           /                                                \n",
       "CUNIT2  = 'deg     '           /                                                \n",
       "HDUCLASS= 'SDSS    '           /SDSS format class                               \n",
       "HDUCLAS1= 'CUBE    '           /                                                \n",
       "HDUCLAS2= 'DATA    '           /                                                \n",
       "ERRDATA = 'IVAR    '           / Error extension name                           \n",
       "QUALDATA= 'MASK    '           / Mask extension name                            \n",
       "EXTNAME = 'FLUX    '           /                                                \n",
       "DATASUM = '2745070007'         / data unit checksum updated 2018-03-21T06:08:47 \n",
       "CHECKSUM= 'KZaaKYRXKYXaKYXU'   / HDU checksum updated 2018-03-21T06:08:47       "
      ]
     },
     "execution_count": 12,
     "metadata": {},
     "output_type": "execute_result"
    }
   ],
   "source": [
    "print('Target Coordindates:', cube.ra, cube.dec)\n",
    "print('Header:')\n",
    "\n",
    "# access the PRIMARY header for the current object\n",
    "cube.header"
   ]
  },
  {
   "cell_type": "code",
   "execution_count": 13,
   "metadata": {
    "execution": {
     "iopub.execute_input": "2021-12-05T21:56:00.558963Z",
     "iopub.status.busy": "2021-12-05T21:56:00.558294Z",
     "iopub.status.idle": "2021-12-05T21:56:00.573629Z",
     "shell.execute_reply": "2021-12-05T21:56:00.571071Z",
     "shell.execute_reply.started": "2021-12-05T21:56:00.558911Z"
    }
   },
   "outputs": [
    {
     "data": {
      "text/plain": [
       "WCS Keywords\n",
       "\n",
       "Number of WCS axes: 3\n",
       "CTYPE : 'RA---TAN'  'DEC--TAN'  'WAVE-LOG'  \n",
       "CRVAL : 232.5447  48.690201  3.62159598486e-07  \n",
       "CRPIX : 18.0  18.0  1.0  \n",
       "CD1_1 CD1_2 CD1_3  : -0.000138889  0.0  0.0  \n",
       "CD2_1 CD2_2 CD2_3  : 0.0  0.000138889  0.0  \n",
       "CD3_1 CD3_2 CD3_3  : 0.0  0.0  8.33903304339e-11  \n",
       "NAXIS : 34  34  4563"
      ]
     },
     "execution_count": 13,
     "metadata": {},
     "output_type": "execute_result"
    }
   ],
   "source": [
    "# show the WCS for the current object\n",
    "cube.wcs"
   ]
  },
  {
   "cell_type": "markdown",
   "metadata": {},
   "source": [
    "<a id=\"datamodel\"></a>\n",
    "### Object Datamodels\n",
    "Every Marvin object comes with a built-in **datamodel**, which shows us what extensions are available, how they are names, and what they contain.  "
   ]
  },
  {
   "cell_type": "code",
   "execution_count": 14,
   "metadata": {
    "execution": {
     "iopub.execute_input": "2021-12-05T21:56:02.126629Z",
     "iopub.status.busy": "2021-12-05T21:56:02.125933Z",
     "iopub.status.idle": "2021-12-05T21:56:02.139240Z",
     "shell.execute_reply": "2021-12-05T21:56:02.137403Z",
     "shell.execute_reply.started": "2021-12-05T21:56:02.126580Z"
    }
   },
   "outputs": [
    {
     "data": {
      "text/plain": [
       "<DRPCubeDataModel release='DR16', n_datacubes=3, n_spectra=2>"
      ]
     },
     "execution_count": 14,
     "metadata": {},
     "output_type": "execute_result"
    }
   ],
   "source": [
    "# look up the cube datmaodel\n",
    "datamodel = cube.datamodel\n",
    "datamodel"
   ]
  },
  {
   "cell_type": "markdown",
   "metadata": {},
   "source": [
    "The datamodel for a cube contains 3 datacube extensions and 2 spectral extensions.  Let's look at them more closely.   "
   ]
  },
  {
   "cell_type": "code",
   "execution_count": 15,
   "metadata": {
    "execution": {
     "iopub.execute_input": "2021-12-05T21:56:04.079728Z",
     "iopub.status.busy": "2021-12-05T21:56:04.079013Z",
     "iopub.status.idle": "2021-12-05T21:56:04.105763Z",
     "shell.execute_reply": "2021-12-05T21:56:04.103295Z",
     "shell.execute_reply.started": "2021-12-05T21:56:04.079676Z"
    }
   },
   "outputs": [
    {
     "name": "stdout",
     "output_type": "stream",
     "text": [
      "Datacubes:\n"
     ]
    },
    {
     "data": {
      "text/plain": [
       "[<DataCube 'flux', release='DR16', unit='1e-17 erg / (Angstrom cm2 s spaxel)'>,\n",
       " <DataCube 'dispersion', release='DR16', unit='Angstrom'>,\n",
       " <DataCube 'dispersion_prepixel', release='DR16', unit='Angstrom'>]"
      ]
     },
     "execution_count": 15,
     "metadata": {},
     "output_type": "execute_result"
    }
   ],
   "source": [
    "# see what datacubes are available\n",
    "print('Datacubes:')\n",
    "datamodel.datacubes"
   ]
  },
  {
   "cell_type": "code",
   "execution_count": 16,
   "metadata": {
    "execution": {
     "iopub.execute_input": "2021-12-05T21:56:04.610651Z",
     "iopub.status.busy": "2021-12-05T21:56:04.609467Z",
     "iopub.status.idle": "2021-12-05T21:56:04.629739Z",
     "shell.execute_reply": "2021-12-05T21:56:04.627240Z",
     "shell.execute_reply.started": "2021-12-05T21:56:04.610568Z"
    }
   },
   "outputs": [
    {
     "name": "stdout",
     "output_type": "stream",
     "text": [
      "Spectra:\n"
     ]
    },
    {
     "data": {
      "text/plain": [
       "[<Spectrum 'spectral_resolution', release='DR16', unit='Angstrom'>,\n",
       " <Spectrum 'spectral_resolution_prepixel', release='DR16', unit='Angstrom'>]"
      ]
     },
     "execution_count": 16,
     "metadata": {},
     "output_type": "execute_result"
    }
   ],
   "source": [
    "# see what additional spectral extensions are available\n",
    "print('Spectra:')\n",
    "datamodel.spectra"
   ]
  },
  {
   "cell_type": "markdown",
   "metadata": {},
   "source": [
    "This tells us that this cube has three associated 3D datacubes, ``flux``, ``dispersion``, and ``dispersion_prepixel``, and two associated spectra, ``spectral_resolution`` and ``spectral_resolution_prepixel``, as well as their associated units. The ``description`` attribute provides information on what the extension is.  "
   ]
  },
  {
   "cell_type": "code",
   "execution_count": 17,
   "metadata": {
    "execution": {
     "iopub.execute_input": "2021-12-05T21:56:06.067622Z",
     "iopub.status.busy": "2021-12-05T21:56:06.066869Z",
     "iopub.status.idle": "2021-12-05T21:56:06.080871Z",
     "shell.execute_reply": "2021-12-05T21:56:06.079175Z",
     "shell.execute_reply.started": "2021-12-05T21:56:06.067571Z"
    }
   },
   "outputs": [
    {
     "name": "stdout",
     "output_type": "stream",
     "text": [
      "Flux description: 3D rectified cube\n",
      "Spectral Resolution description: Median spectral resolution as a function of wavelength for the fibers in this IFU\n"
     ]
    }
   ],
   "source": [
    "print('Flux description:', datamodel.datacubes.flux.description)\n",
    "print('Spectral Resolution description:', datamodel.spectra.spectral_resolution.description)"
   ]
  },
  {
   "cell_type": "markdown",
   "metadata": {},
   "source": [
    "The names of each of the datacubes and spectral extensions are available as object attributes and can be used to access the associated data quantity.  Let's access the ``flux`` for our current cube.  "
   ]
  },
  {
   "cell_type": "code",
   "execution_count": 18,
   "metadata": {
    "execution": {
     "iopub.execute_input": "2021-12-05T21:56:07.213886Z",
     "iopub.status.busy": "2021-12-05T21:56:07.213235Z",
     "iopub.status.idle": "2021-12-05T21:56:07.567878Z",
     "shell.execute_reply": "2021-12-05T21:56:07.566085Z",
     "shell.execute_reply.started": "2021-12-05T21:56:07.213835Z"
    }
   },
   "outputs": [
    {
     "name": "stdout",
     "output_type": "stream",
     "text": [
      "[[[0. 0. 0. ... 0. 0. 0.]\n",
      "  [0. 0. 0. ... 0. 0. 0.]\n",
      "  [0. 0. 0. ... 0. 0. 0.]\n",
      "  ...\n",
      "  [0. 0. 0. ... 0. 0. 0.]\n",
      "  [0. 0. 0. ... 0. 0. 0.]\n",
      "  [0. 0. 0. ... 0. 0. 0.]]\n",
      "\n",
      " [[0. 0. 0. ... 0. 0. 0.]\n",
      "  [0. 0. 0. ... 0. 0. 0.]\n",
      "  [0. 0. 0. ... 0. 0. 0.]\n",
      "  ...\n",
      "  [0. 0. 0. ... 0. 0. 0.]\n",
      "  [0. 0. 0. ... 0. 0. 0.]\n",
      "  [0. 0. 0. ... 0. 0. 0.]]\n",
      "\n",
      " [[0. 0. 0. ... 0. 0. 0.]\n",
      "  [0. 0. 0. ... 0. 0. 0.]\n",
      "  [0. 0. 0. ... 0. 0. 0.]\n",
      "  ...\n",
      "  [0. 0. 0. ... 0. 0. 0.]\n",
      "  [0. 0. 0. ... 0. 0. 0.]\n",
      "  [0. 0. 0. ... 0. 0. 0.]]\n",
      "\n",
      " ...\n",
      "\n",
      " [[0. 0. 0. ... 0. 0. 0.]\n",
      "  [0. 0. 0. ... 0. 0. 0.]\n",
      "  [0. 0. 0. ... 0. 0. 0.]\n",
      "  ...\n",
      "  [0. 0. 0. ... 0. 0. 0.]\n",
      "  [0. 0. 0. ... 0. 0. 0.]\n",
      "  [0. 0. 0. ... 0. 0. 0.]]\n",
      "\n",
      " [[0. 0. 0. ... 0. 0. 0.]\n",
      "  [0. 0. 0. ... 0. 0. 0.]\n",
      "  [0. 0. 0. ... 0. 0. 0.]\n",
      "  ...\n",
      "  [0. 0. 0. ... 0. 0. 0.]\n",
      "  [0. 0. 0. ... 0. 0. 0.]\n",
      "  [0. 0. 0. ... 0. 0. 0.]]\n",
      "\n",
      " [[0. 0. 0. ... 0. 0. 0.]\n",
      "  [0. 0. 0. ... 0. 0. 0.]\n",
      "  [0. 0. 0. ... 0. 0. 0.]\n",
      "  ...\n",
      "  [0. 0. 0. ... 0. 0. 0.]\n",
      "  [0. 0. 0. ... 0. 0. 0.]\n",
      "  [0. 0. 0. ... 0. 0. 0.]]] 1e-17 erg / (Angstrom cm2 s spaxel)\n"
     ]
    }
   ],
   "source": [
    "flux = cube.flux\n",
    "print(flux)"
   ]
  },
  {
   "cell_type": "markdown",
   "metadata": {},
   "source": [
    "The flux is represented as a 3D array with units. We can also access the inverse variance and the mask using ``flux.ivar`` and ``flux.mask``, respectively.  Marvin uses [Astropy quantities](https://sdss-marvin.readthedocs.io/en/stable/getting-started.html#marvin-quantities) to represent all internal multidimensional data, e.g. 3-d datacube and 2-d map arrays, or 1-d spectral data.  \n",
    "\n",
    "<a id=\"extract\"></a>\n",
    "### Extracting data\n",
    "All marvin arrays can be sliced to extract subsets of data.  Slices of datacubes produce new datacubes.  Slices of spectra produce new spectra.  A single slice from a datacube extracts a spectrum.  Each spectrum can be easily displayed with its ``plot`` attribute.        "
   ]
  },
  {
   "cell_type": "code",
   "execution_count": 19,
   "metadata": {
    "execution": {
     "iopub.execute_input": "2021-12-05T21:56:09.076922Z",
     "iopub.status.busy": "2021-12-05T21:56:09.075705Z",
     "iopub.status.idle": "2021-12-05T21:56:09.129799Z",
     "shell.execute_reply": "2021-12-05T21:56:09.126576Z",
     "shell.execute_reply.started": "2021-12-05T21:56:09.076843Z"
    }
   },
   "outputs": [
    {
     "name": "stdout",
     "output_type": "stream",
     "text": [
      "[[[-9.16599557e-02 -5.78625016e-02 -6.94407746e-02 ...  5.32984734e-02\n",
      "    6.20185137e-02  6.16922937e-02]\n",
      "  [-3.97908762e-02  1.20252068e-03  2.06540991e-02 ...  1.00885510e-01\n",
      "    8.66814181e-02  7.78314918e-02]\n",
      "  [ 1.94589365e-02  7.72830471e-02  1.05140269e-01 ...  2.03505382e-01\n",
      "    1.41564950e-01  9.58263427e-02]\n",
      "  ...\n",
      "  [ 1.12388328e-01  2.10729003e-01  2.60301948e-01 ...  3.12808931e-01\n",
      "    1.56647325e-01  4.54077013e-02]\n",
      "  [ 1.01755328e-01  1.66880727e-01  1.91964597e-01 ...  2.56007493e-01\n",
      "    1.70176849e-01  8.56428519e-02]\n",
      "  [ 5.47984019e-02  9.07830223e-02  9.47821960e-02 ...  1.92040160e-01\n",
      "    1.47444233e-01  9.26205441e-02]]\n",
      "\n",
      " [[ 8.24379250e-02  1.35063708e-01  1.57697245e-01 ... -1.76929608e-02\n",
      "   -9.13652964e-03 -1.15352366e-02]\n",
      "  [ 8.23814496e-02  1.40590683e-01  2.04658732e-01 ...  3.05860623e-04\n",
      "    1.53621566e-02  2.57933903e-02]\n",
      "  [ 1.07422858e-01  1.95807114e-01  2.63079435e-01 ...  9.03225392e-02\n",
      "    9.90704969e-02  1.02157541e-01]\n",
      "  ...\n",
      "  [ 1.37243912e-01  2.47272745e-01  3.24360907e-01 ...  2.08878517e-01\n",
      "    1.51915297e-01  8.93454403e-02]\n",
      "  [ 7.13739470e-02  1.83532774e-01  2.79935002e-01 ...  1.99065372e-01\n",
      "    1.90286234e-01  1.48373917e-01]\n",
      "  [ 3.95391695e-02  1.44572601e-01  2.31401280e-01 ...  1.94287479e-01\n",
      "    1.82473257e-01  1.46105483e-01]]\n",
      "\n",
      " [[ 8.03934336e-02  1.53652593e-01  1.79915980e-01 ...  1.11578606e-01\n",
      "    1.46225289e-01  1.33815423e-01]\n",
      "  [ 6.31743744e-02  1.33021459e-01  1.93599552e-01 ...  9.28888842e-02\n",
      "    1.28452018e-01  1.38673380e-01]\n",
      "  [ 7.33360946e-02  1.54827043e-01  2.29727849e-01 ...  1.26440138e-01\n",
      "    1.26382127e-01  1.23866320e-01]\n",
      "  ...\n",
      "  [ 1.33584067e-01  2.06937492e-01  2.93383598e-01 ...  2.95592517e-01\n",
      "    2.51683921e-01  2.27172732e-01]\n",
      "  [ 6.84914812e-02  1.62472859e-01  2.79225290e-01 ...  2.72445500e-01\n",
      "    2.49400869e-01  2.48976529e-01]\n",
      "  [ 2.57807355e-02  1.42676815e-01  2.49333069e-01 ...  2.54985571e-01\n",
      "    2.21554413e-01  1.87573984e-01]]\n",
      "\n",
      " ...\n",
      "\n",
      " [[ 0.00000000e+00  0.00000000e+00  0.00000000e+00 ...  0.00000000e+00\n",
      "    0.00000000e+00  0.00000000e+00]\n",
      "  [ 0.00000000e+00  0.00000000e+00  0.00000000e+00 ...  0.00000000e+00\n",
      "    0.00000000e+00  0.00000000e+00]\n",
      "  [ 0.00000000e+00  0.00000000e+00  0.00000000e+00 ...  0.00000000e+00\n",
      "    0.00000000e+00  0.00000000e+00]\n",
      "  ...\n",
      "  [ 0.00000000e+00  0.00000000e+00  0.00000000e+00 ...  0.00000000e+00\n",
      "    0.00000000e+00  0.00000000e+00]\n",
      "  [ 0.00000000e+00  0.00000000e+00  0.00000000e+00 ...  0.00000000e+00\n",
      "    0.00000000e+00  0.00000000e+00]\n",
      "  [ 0.00000000e+00  0.00000000e+00  0.00000000e+00 ...  0.00000000e+00\n",
      "    0.00000000e+00  0.00000000e+00]]\n",
      "\n",
      " [[ 0.00000000e+00  0.00000000e+00  0.00000000e+00 ...  0.00000000e+00\n",
      "    0.00000000e+00  0.00000000e+00]\n",
      "  [ 0.00000000e+00  0.00000000e+00  0.00000000e+00 ...  0.00000000e+00\n",
      "    0.00000000e+00  0.00000000e+00]\n",
      "  [ 0.00000000e+00  0.00000000e+00  0.00000000e+00 ...  0.00000000e+00\n",
      "    0.00000000e+00  0.00000000e+00]\n",
      "  ...\n",
      "  [ 0.00000000e+00  0.00000000e+00  0.00000000e+00 ...  0.00000000e+00\n",
      "    0.00000000e+00  0.00000000e+00]\n",
      "  [ 0.00000000e+00  0.00000000e+00  0.00000000e+00 ...  0.00000000e+00\n",
      "    0.00000000e+00  0.00000000e+00]\n",
      "  [ 0.00000000e+00  0.00000000e+00  0.00000000e+00 ...  0.00000000e+00\n",
      "    0.00000000e+00  0.00000000e+00]]\n",
      "\n",
      " [[ 0.00000000e+00  0.00000000e+00  0.00000000e+00 ...  0.00000000e+00\n",
      "    0.00000000e+00  0.00000000e+00]\n",
      "  [ 0.00000000e+00  0.00000000e+00  0.00000000e+00 ...  0.00000000e+00\n",
      "    0.00000000e+00  0.00000000e+00]\n",
      "  [ 0.00000000e+00  0.00000000e+00  0.00000000e+00 ...  0.00000000e+00\n",
      "    0.00000000e+00  0.00000000e+00]\n",
      "  ...\n",
      "  [ 0.00000000e+00  0.00000000e+00  0.00000000e+00 ...  0.00000000e+00\n",
      "    0.00000000e+00  0.00000000e+00]\n",
      "  [ 0.00000000e+00  0.00000000e+00  0.00000000e+00 ...  0.00000000e+00\n",
      "    0.00000000e+00  0.00000000e+00]\n",
      "  [ 0.00000000e+00  0.00000000e+00  0.00000000e+00 ...  0.00000000e+00\n",
      "    0.00000000e+00  0.00000000e+00]]] 1e-17 erg / (Angstrom cm2 s spaxel)\n"
     ]
    }
   ],
   "source": [
    "# create a small datacube subset in a 10x10 pixel region around the center of the target\n",
    "central_pixel = int(cube.flux.shape[1]/2)\n",
    "lo = central_pixel - 5\n",
    "hi = central_pixel + 5\n",
    "subset = flux[:, lo:hi, lo:hi]\n",
    "print(subset)"
   ]
  },
  {
   "cell_type": "code",
   "execution_count": 20,
   "metadata": {
    "execution": {
     "iopub.execute_input": "2021-12-05T21:56:10.073581Z",
     "iopub.status.busy": "2021-12-05T21:56:10.070640Z",
     "iopub.status.idle": "2021-12-05T21:56:10.086728Z",
     "shell.execute_reply": "2021-12-05T21:56:10.084362Z",
     "shell.execute_reply.started": "2021-12-05T21:56:10.073491Z"
    }
   },
   "outputs": [
    {
     "name": "stdout",
     "output_type": "stream",
     "text": [
      "[0.5186563  0.43517455 0.41204447 ... 0.         0.         0.        ] 1e-17 erg / (Angstrom cm2 s spaxel)\n"
     ]
    }
   ],
   "source": [
    "# extract a single spectrum and display it\n",
    "spectrum = flux[:, 16, 17]\n",
    "print(spectrum)"
   ]
  },
  {
   "cell_type": "code",
   "execution_count": 21,
   "metadata": {
    "execution": {
     "iopub.execute_input": "2021-12-05T21:56:10.388270Z",
     "iopub.status.busy": "2021-12-05T21:56:10.387440Z",
     "iopub.status.idle": "2021-12-05T21:56:11.556391Z",
     "shell.execute_reply": "2021-12-05T21:56:11.554286Z",
     "shell.execute_reply.started": "2021-12-05T21:56:10.388169Z"
    }
   },
   "outputs": [
    {
     "data": {
      "text/plain": [
       "<AxesSubplot:xlabel='$\\\\mathrm{Wavelength}\\\\,[$$\\\\mathrm{\\\\mathring{A}}$$]$', ylabel='$\\\\mathrm{Flux}\\\\,[$$\\\\mathrm{1 \\\\times 10^{-17}\\\\,erg\\\\,\\\\mathring{A}^{-1}\\\\,s^{-1}\\\\,spaxel^{-1}\\\\,cm^{-2}}$$]$'>"
      ]
     },
     "execution_count": 21,
     "metadata": {},
     "output_type": "execute_result"
    },
    {
     "data": {
      "image/png": "[encoded data removed]",
      "text/plain": [
       "<Figure size 432x288 with 1 Axes>"
      ]
     },
     "metadata": {},
     "output_type": "display_data"
    }
   ],
   "source": [
    "spectrum.plot(show_std=True)"
   ]
  },
  {
   "cell_type": "markdown",
   "metadata": {},
   "source": [
    "<a id=\"associates\"></a>\n",
    "### Accessing Associated Objects\n",
    "\n",
    "For a given target galaxy, there are many associated MaNGA Data Products from both the reduction and analysis pipelines.  Marvin seamlessly connects these together so you don't have to access them individually.  Let's access the DAP Maps objects associated with our cube.  To do so we use the ``getMaps`` method on ``cube``.  All instances have ``getXXX`` methods that allow you to access associated data objects for a given target.  "
   ]
  },
  {
   "cell_type": "code",
   "execution_count": 22,
   "metadata": {
    "execution": {
     "iopub.execute_input": "2021-12-05T21:56:12.134262Z",
     "iopub.status.busy": "2021-12-05T21:56:12.133565Z",
     "iopub.status.idle": "2021-12-05T21:56:14.623421Z",
     "shell.execute_reply": "2021-12-05T21:56:14.621182Z",
     "shell.execute_reply.started": "2021-12-05T21:56:12.134168Z"
    }
   },
   "outputs": [
    {
     "data": {
      "text/plain": [
       "<Marvin Maps (plateifu='8485-1901', mode='local', data_origin='db', bintype='HYB10', template='GAU-MILESHC')>"
      ]
     },
     "execution_count": 22,
     "metadata": {},
     "output_type": "execute_result"
    }
   ],
   "source": [
    "# access the Maps object from our cube\n",
    "maps = cube.getMaps()\n",
    "maps"
   ]
  },
  {
   "cell_type": "markdown",
   "metadata": {},
   "source": [
    "When accessing associated objects, Marvin also smartly determines whether to open the file locally or remotely grab it over the API.  In our case, the **mode** is local and **data_origin** is file.  DAP Maps have different bintypes.  The default binning is **HYB10**, a hybrid binning scheme to S/N~10.  To load a different bintype, use the ``bintype`` keyword argument in the ``cube.getMaps`` method.    \n",
    "\n",
    "A ``Maps`` behaves very similarly to a ``Cube`` and everything we have discussed above will still work. Instead of datacubes and spectra, a ``Maps`` object contains a set of 2D quantities called ``Map``, each one of them representing a different property measured by the DAP. One can get a full list of all the properties available using the datamodel."
   ]
  },
  {
   "cell_type": "code",
   "execution_count": 23,
   "metadata": {
    "execution": {
     "iopub.execute_input": "2021-12-05T21:56:15.096531Z",
     "iopub.status.busy": "2021-12-05T21:56:15.095829Z",
     "iopub.status.idle": "2021-12-05T21:56:15.144341Z",
     "shell.execute_reply": "2021-12-05T21:56:15.142499Z",
     "shell.execute_reply.started": "2021-12-05T21:56:15.096480Z"
    }
   },
   "outputs": [
    {
     "data": {
      "text/plain": [
       "[<Property 'spx_skycoo', channel='on_sky_x', release='2.2.1', unit='arcsec'>,\n",
       " <Property 'spx_skycoo', channel='on_sky_y', release='2.2.1', unit='arcsec'>,\n",
       " <Property 'spx_ellcoo', channel='elliptical_radius', release='2.2.1', unit='arcsec'>,\n",
       " <Property 'spx_ellcoo', channel='r_re', release='2.2.1', unit=''>,\n",
       " <Property 'spx_ellcoo', channel='elliptical_azimuth', release='2.2.1', unit='deg'>,\n",
       " <Property 'spx_mflux', channel='None', release='2.2.1', unit='1e-17 erg / (cm2 s spaxel)'>,\n",
       " <Property 'spx_snr', channel='None', release='2.2.1', unit=''>,\n",
       " <Property 'binid', channel='binned_spectra', release='2.2.1', unit=''>,\n",
       " <Property 'binid', channel='stellar_continua', release='2.2.1', unit=''>,\n",
       " <Property 'binid', channel='em_line_moments', release='2.2.1', unit=''>,\n",
       " <Property 'binid', channel='em_line_models', release='2.2.1', unit=''>,\n",
       " <Property 'binid', channel='spectral_indices', release='2.2.1', unit=''>,\n",
       " <Property 'bin_lwskycoo', channel='lum_weighted_on_sky_x', release='2.2.1', unit='arcsec'>,\n",
       " <Property 'bin_lwskycoo', channel='lum_weighted_on_sky_y', release='2.2.1', unit='arcsec'>,\n",
       " <Property 'bin_lwellcoo', channel='lum_weighted_elliptical_radius', release='2.2.1', unit='arcsec'>,\n",
       " <Property 'bin_lwellcoo', channel='r_re', release='2.2.1', unit=''>,\n",
       " <Property 'bin_lwellcoo', channel='lum_weighted_elliptical_azimuth', release='2.2.1', unit='deg'>,\n",
       " <Property 'bin_area', channel='None', release='2.2.1', unit='arcsec2'>,\n",
       " <Property 'bin_farea', channel='None', release='2.2.1', unit=''>,\n",
       " <Property 'bin_mflux', channel='None', release='2.2.1', unit='1e-17 erg / (cm2 s spaxel)'>,\n",
       " <Property 'bin_snr', channel='None', release='2.2.1', unit=''>,\n",
       " <Property 'stellar_vel', channel='None', release='2.2.1', unit='km / s'>,\n",
       " <Property 'stellar_sigma', channel='None', release='2.2.1', unit='km / s'>,\n",
       " <Property 'stellar_sigmacorr', channel='None', release='2.2.1', unit='km / s'>,\n",
       " <Property 'stellar_cont_fresid', channel='68th_percentile', release='2.2.1', unit=''>,\n",
       " <Property 'stellar_cont_fresid', channel='99th_percentile', release='2.2.1', unit=''>,\n",
       " <Property 'stellar_cont_rchi2', channel='None', release='2.2.1', unit=''>,\n",
       " <Property 'emline_sflux', channel='oiid_3728', release='2.2.1', unit='1e-17 erg / (cm2 s spaxel)'>,\n",
       " <Property 'emline_sflux', channel='oii_3729', release='2.2.1', unit='1e-17 erg / (cm2 s spaxel)'>,\n",
       " <Property 'emline_sflux', channel='hthe_3798', release='2.2.1', unit='1e-17 erg / (cm2 s spaxel)'>,\n",
       " <Property 'emline_sflux', channel='heta_3836', release='2.2.1', unit='1e-17 erg / (cm2 s spaxel)'>,\n",
       " <Property 'emline_sflux', channel='neiii_3869', release='2.2.1', unit='1e-17 erg / (cm2 s spaxel)'>,\n",
       " <Property 'emline_sflux', channel='hzet_3890', release='2.2.1', unit='1e-17 erg / (cm2 s spaxel)'>,\n",
       " <Property 'emline_sflux', channel='neiii_3968', release='2.2.1', unit='1e-17 erg / (cm2 s spaxel)'>,\n",
       " <Property 'emline_sflux', channel='heps_3971', release='2.2.1', unit='1e-17 erg / (cm2 s spaxel)'>,\n",
       " <Property 'emline_sflux', channel='hdel_4102', release='2.2.1', unit='1e-17 erg / (cm2 s spaxel)'>,\n",
       " <Property 'emline_sflux', channel='hgam_4341', release='2.2.1', unit='1e-17 erg / (cm2 s spaxel)'>,\n",
       " <Property 'emline_sflux', channel='heii_4687', release='2.2.1', unit='1e-17 erg / (cm2 s spaxel)'>,\n",
       " <Property 'emline_sflux', channel='hb_4862', release='2.2.1', unit='1e-17 erg / (cm2 s spaxel)'>,\n",
       " <Property 'emline_sflux', channel='oiii_4960', release='2.2.1', unit='1e-17 erg / (cm2 s spaxel)'>,\n",
       " <Property 'emline_sflux', channel='oiii_5008', release='2.2.1', unit='1e-17 erg / (cm2 s spaxel)'>,\n",
       " <Property 'emline_sflux', channel='hei_5877', release='2.2.1', unit='1e-17 erg / (cm2 s spaxel)'>,\n",
       " <Property 'emline_sflux', channel='oi_6302', release='2.2.1', unit='1e-17 erg / (cm2 s spaxel)'>,\n",
       " <Property 'emline_sflux', channel='oi_6365', release='2.2.1', unit='1e-17 erg / (cm2 s spaxel)'>,\n",
       " <Property 'emline_sflux', channel='nii_6549', release='2.2.1', unit='1e-17 erg / (cm2 s spaxel)'>,\n",
       " <Property 'emline_sflux', channel='ha_6564', release='2.2.1', unit='1e-17 erg / (cm2 s spaxel)'>,\n",
       " <Property 'emline_sflux', channel='nii_6585', release='2.2.1', unit='1e-17 erg / (cm2 s spaxel)'>,\n",
       " <Property 'emline_sflux', channel='sii_6718', release='2.2.1', unit='1e-17 erg / (cm2 s spaxel)'>,\n",
       " <Property 'emline_sflux', channel='sii_6732', release='2.2.1', unit='1e-17 erg / (cm2 s spaxel)'>,\n",
       " <Property 'emline_sew', channel='oiid_3728', release='2.2.1', unit='Angstrom'>,\n",
       " <Property 'emline_sew', channel='oii_3729', release='2.2.1', unit='Angstrom'>,\n",
       " <Property 'emline_sew', channel='hthe_3798', release='2.2.1', unit='Angstrom'>,\n",
       " <Property 'emline_sew', channel='heta_3836', release='2.2.1', unit='Angstrom'>,\n",
       " <Property 'emline_sew', channel='neiii_3869', release='2.2.1', unit='Angstrom'>,\n",
       " <Property 'emline_sew', channel='hzet_3890', release='2.2.1', unit='Angstrom'>,\n",
       " <Property 'emline_sew', channel='neiii_3968', release='2.2.1', unit='Angstrom'>,\n",
       " <Property 'emline_sew', channel='heps_3971', release='2.2.1', unit='Angstrom'>,\n",
       " <Property 'emline_sew', channel='hdel_4102', release='2.2.1', unit='Angstrom'>,\n",
       " <Property 'emline_sew', channel='hgam_4341', release='2.2.1', unit='Angstrom'>,\n",
       " <Property 'emline_sew', channel='heii_4687', release='2.2.1', unit='Angstrom'>,\n",
       " <Property 'emline_sew', channel='hb_4862', release='2.2.1', unit='Angstrom'>,\n",
       " <Property 'emline_sew', channel='oiii_4960', release='2.2.1', unit='Angstrom'>,\n",
       " <Property 'emline_sew', channel='oiii_5008', release='2.2.1', unit='Angstrom'>,\n",
       " <Property 'emline_sew', channel='hei_5877', release='2.2.1', unit='Angstrom'>,\n",
       " <Property 'emline_sew', channel='oi_6302', release='2.2.1', unit='Angstrom'>,\n",
       " <Property 'emline_sew', channel='oi_6365', release='2.2.1', unit='Angstrom'>,\n",
       " <Property 'emline_sew', channel='nii_6549', release='2.2.1', unit='Angstrom'>,\n",
       " <Property 'emline_sew', channel='ha_6564', release='2.2.1', unit='Angstrom'>,\n",
       " <Property 'emline_sew', channel='nii_6585', release='2.2.1', unit='Angstrom'>,\n",
       " <Property 'emline_sew', channel='sii_6718', release='2.2.1', unit='Angstrom'>,\n",
       " <Property 'emline_sew', channel='sii_6732', release='2.2.1', unit='Angstrom'>,\n",
       " <Property 'emline_gflux', channel='oii_3727', release='2.2.1', unit='1e-17 erg / (cm2 s spaxel)'>,\n",
       " <Property 'emline_gflux', channel='oii_3729', release='2.2.1', unit='1e-17 erg / (cm2 s spaxel)'>,\n",
       " <Property 'emline_gflux', channel='hthe_3798', release='2.2.1', unit='1e-17 erg / (cm2 s spaxel)'>,\n",
       " <Property 'emline_gflux', channel='heta_3836', release='2.2.1', unit='1e-17 erg / (cm2 s spaxel)'>,\n",
       " <Property 'emline_gflux', channel='neiii_3869', release='2.2.1', unit='1e-17 erg / (cm2 s spaxel)'>,\n",
       " <Property 'emline_gflux', channel='hzet_3890', release='2.2.1', unit='1e-17 erg / (cm2 s spaxel)'>,\n",
       " <Property 'emline_gflux', channel='neiii_3968', release='2.2.1', unit='1e-17 erg / (cm2 s spaxel)'>,\n",
       " <Property 'emline_gflux', channel='heps_3971', release='2.2.1', unit='1e-17 erg / (cm2 s spaxel)'>,\n",
       " <Property 'emline_gflux', channel='hdel_4102', release='2.2.1', unit='1e-17 erg / (cm2 s spaxel)'>,\n",
       " <Property 'emline_gflux', channel='hgam_4341', release='2.2.1', unit='1e-17 erg / (cm2 s spaxel)'>,\n",
       " <Property 'emline_gflux', channel='heii_4687', release='2.2.1', unit='1e-17 erg / (cm2 s spaxel)'>,\n",
       " <Property 'emline_gflux', channel='hb_4862', release='2.2.1', unit='1e-17 erg / (cm2 s spaxel)'>,\n",
       " <Property 'emline_gflux', channel='oiii_4960', release='2.2.1', unit='1e-17 erg / (cm2 s spaxel)'>,\n",
       " <Property 'emline_gflux', channel='oiii_5008', release='2.2.1', unit='1e-17 erg / (cm2 s spaxel)'>,\n",
       " <Property 'emline_gflux', channel='hei_5877', release='2.2.1', unit='1e-17 erg / (cm2 s spaxel)'>,\n",
       " <Property 'emline_gflux', channel='oi_6302', release='2.2.1', unit='1e-17 erg / (cm2 s spaxel)'>,\n",
       " <Property 'emline_gflux', channel='oi_6365', release='2.2.1', unit='1e-17 erg / (cm2 s spaxel)'>,\n",
       " <Property 'emline_gflux', channel='nii_6549', release='2.2.1', unit='1e-17 erg / (cm2 s spaxel)'>,\n",
       " <Property 'emline_gflux', channel='ha_6564', release='2.2.1', unit='1e-17 erg / (cm2 s spaxel)'>,\n",
       " <Property 'emline_gflux', channel='nii_6585', release='2.2.1', unit='1e-17 erg / (cm2 s spaxel)'>,\n",
       " <Property 'emline_gflux', channel='sii_6718', release='2.2.1', unit='1e-17 erg / (cm2 s spaxel)'>,\n",
       " <Property 'emline_gflux', channel='sii_6732', release='2.2.1', unit='1e-17 erg / (cm2 s spaxel)'>,\n",
       " <Property 'emline_gvel', channel='oii_3727', release='2.2.1', unit='km / s'>,\n",
       " <Property 'emline_gvel', channel='oii_3729', release='2.2.1', unit='km / s'>,\n",
       " <Property 'emline_gvel', channel='hthe_3798', release='2.2.1', unit='km / s'>,\n",
       " <Property 'emline_gvel', channel='heta_3836', release='2.2.1', unit='km / s'>,\n",
       " <Property 'emline_gvel', channel='neiii_3869', release='2.2.1', unit='km / s'>,\n",
       " <Property 'emline_gvel', channel='hzet_3890', release='2.2.1', unit='km / s'>,\n",
       " <Property 'emline_gvel', channel='neiii_3968', release='2.2.1', unit='km / s'>,\n",
       " <Property 'emline_gvel', channel='heps_3971', release='2.2.1', unit='km / s'>,\n",
       " <Property 'emline_gvel', channel='hdel_4102', release='2.2.1', unit='km / s'>,\n",
       " <Property 'emline_gvel', channel='hgam_4341', release='2.2.1', unit='km / s'>,\n",
       " <Property 'emline_gvel', channel='heii_4687', release='2.2.1', unit='km / s'>,\n",
       " <Property 'emline_gvel', channel='hb_4862', release='2.2.1', unit='km / s'>,\n",
       " <Property 'emline_gvel', channel='oiii_4960', release='2.2.1', unit='km / s'>,\n",
       " <Property 'emline_gvel', channel='oiii_5008', release='2.2.1', unit='km / s'>,\n",
       " <Property 'emline_gvel', channel='hei_5877', release='2.2.1', unit='km / s'>,\n",
       " <Property 'emline_gvel', channel='oi_6302', release='2.2.1', unit='km / s'>,\n",
       " <Property 'emline_gvel', channel='oi_6365', release='2.2.1', unit='km / s'>,\n",
       " <Property 'emline_gvel', channel='nii_6549', release='2.2.1', unit='km / s'>,\n",
       " <Property 'emline_gvel', channel='ha_6564', release='2.2.1', unit='km / s'>,\n",
       " <Property 'emline_gvel', channel='nii_6585', release='2.2.1', unit='km / s'>,\n",
       " <Property 'emline_gvel', channel='sii_6718', release='2.2.1', unit='km / s'>,\n",
       " <Property 'emline_gvel', channel='sii_6732', release='2.2.1', unit='km / s'>,\n",
       " <Property 'emline_gew', channel='oii_3727', release='2.2.1', unit='Angstrom'>,\n",
       " <Property 'emline_gew', channel='oii_3729', release='2.2.1', unit='Angstrom'>,\n",
       " <Property 'emline_gew', channel='hthe_3798', release='2.2.1', unit='Angstrom'>,\n",
       " <Property 'emline_gew', channel='heta_3836', release='2.2.1', unit='Angstrom'>,\n",
       " <Property 'emline_gew', channel='neiii_3869', release='2.2.1', unit='Angstrom'>,\n",
       " <Property 'emline_gew', channel='hzet_3890', release='2.2.1', unit='Angstrom'>,\n",
       " <Property 'emline_gew', channel='neiii_3968', release='2.2.1', unit='Angstrom'>,\n",
       " <Property 'emline_gew', channel='heps_3971', release='2.2.1', unit='Angstrom'>,\n",
       " <Property 'emline_gew', channel='hdel_4102', release='2.2.1', unit='Angstrom'>,\n",
       " <Property 'emline_gew', channel='hgam_4341', release='2.2.1', unit='Angstrom'>,\n",
       " <Property 'emline_gew', channel='heii_4687', release='2.2.1', unit='Angstrom'>,\n",
       " <Property 'emline_gew', channel='hb_4862', release='2.2.1', unit='Angstrom'>,\n",
       " <Property 'emline_gew', channel='oiii_4960', release='2.2.1', unit='Angstrom'>,\n",
       " <Property 'emline_gew', channel='oiii_5008', release='2.2.1', unit='Angstrom'>,\n",
       " <Property 'emline_gew', channel='hei_5877', release='2.2.1', unit='Angstrom'>,\n",
       " <Property 'emline_gew', channel='oi_6302', release='2.2.1', unit='Angstrom'>,\n",
       " <Property 'emline_gew', channel='oi_6365', release='2.2.1', unit='Angstrom'>,\n",
       " <Property 'emline_gew', channel='nii_6549', release='2.2.1', unit='Angstrom'>,\n",
       " <Property 'emline_gew', channel='ha_6564', release='2.2.1', unit='Angstrom'>,\n",
       " <Property 'emline_gew', channel='nii_6585', release='2.2.1', unit='Angstrom'>,\n",
       " <Property 'emline_gew', channel='sii_6718', release='2.2.1', unit='Angstrom'>,\n",
       " <Property 'emline_gew', channel='sii_6732', release='2.2.1', unit='Angstrom'>,\n",
       " <Property 'emline_gsigma', channel='oii_3727', release='2.2.1', unit='km / s'>,\n",
       " <Property 'emline_gsigma', channel='oii_3729', release='2.2.1', unit='km / s'>,\n",
       " <Property 'emline_gsigma', channel='hthe_3798', release='2.2.1', unit='km / s'>,\n",
       " <Property 'emline_gsigma', channel='heta_3836', release='2.2.1', unit='km / s'>,\n",
       " <Property 'emline_gsigma', channel='neiii_3869', release='2.2.1', unit='km / s'>,\n",
       " <Property 'emline_gsigma', channel='hzet_3890', release='2.2.1', unit='km / s'>,\n",
       " <Property 'emline_gsigma', channel='neiii_3968', release='2.2.1', unit='km / s'>,\n",
       " <Property 'emline_gsigma', channel='heps_3971', release='2.2.1', unit='km / s'>,\n",
       " <Property 'emline_gsigma', channel='hdel_4102', release='2.2.1', unit='km / s'>,\n",
       " <Property 'emline_gsigma', channel='hgam_4341', release='2.2.1', unit='km / s'>,\n",
       " <Property 'emline_gsigma', channel='heii_4687', release='2.2.1', unit='km / s'>,\n",
       " <Property 'emline_gsigma', channel='hb_4862', release='2.2.1', unit='km / s'>,\n",
       " <Property 'emline_gsigma', channel='oiii_4960', release='2.2.1', unit='km / s'>,\n",
       " <Property 'emline_gsigma', channel='oiii_5008', release='2.2.1', unit='km / s'>,\n",
       " <Property 'emline_gsigma', channel='hei_5877', release='2.2.1', unit='km / s'>,\n",
       " <Property 'emline_gsigma', channel='oi_6302', release='2.2.1', unit='km / s'>,\n",
       " <Property 'emline_gsigma', channel='oi_6365', release='2.2.1', unit='km / s'>,\n",
       " <Property 'emline_gsigma', channel='nii_6549', release='2.2.1', unit='km / s'>,\n",
       " <Property 'emline_gsigma', channel='ha_6564', release='2.2.1', unit='km / s'>,\n",
       " <Property 'emline_gsigma', channel='nii_6585', release='2.2.1', unit='km / s'>,\n",
       " <Property 'emline_gsigma', channel='sii_6718', release='2.2.1', unit='km / s'>,\n",
       " <Property 'emline_gsigma', channel='sii_6732', release='2.2.1', unit='km / s'>,\n",
       " <Property 'emline_instsigma', channel='oii_3727', release='2.2.1', unit='km / s'>,\n",
       " <Property 'emline_instsigma', channel='oii_3729', release='2.2.1', unit='km / s'>,\n",
       " <Property 'emline_instsigma', channel='hthe_3798', release='2.2.1', unit='km / s'>,\n",
       " <Property 'emline_instsigma', channel='heta_3836', release='2.2.1', unit='km / s'>,\n",
       " <Property 'emline_instsigma', channel='neiii_3869', release='2.2.1', unit='km / s'>,\n",
       " <Property 'emline_instsigma', channel='hzet_3890', release='2.2.1', unit='km / s'>,\n",
       " <Property 'emline_instsigma', channel='neiii_3968', release='2.2.1', unit='km / s'>,\n",
       " <Property 'emline_instsigma', channel='heps_3971', release='2.2.1', unit='km / s'>,\n",
       " <Property 'emline_instsigma', channel='hdel_4102', release='2.2.1', unit='km / s'>,\n",
       " <Property 'emline_instsigma', channel='hgam_4341', release='2.2.1', unit='km / s'>,\n",
       " <Property 'emline_instsigma', channel='heii_4687', release='2.2.1', unit='km / s'>,\n",
       " <Property 'emline_instsigma', channel='hb_4862', release='2.2.1', unit='km / s'>,\n",
       " <Property 'emline_instsigma', channel='oiii_4960', release='2.2.1', unit='km / s'>,\n",
       " <Property 'emline_instsigma', channel='oiii_5008', release='2.2.1', unit='km / s'>,\n",
       " <Property 'emline_instsigma', channel='hei_5877', release='2.2.1', unit='km / s'>,\n",
       " <Property 'emline_instsigma', channel='oi_6302', release='2.2.1', unit='km / s'>,\n",
       " <Property 'emline_instsigma', channel='oi_6365', release='2.2.1', unit='km / s'>,\n",
       " <Property 'emline_instsigma', channel='nii_6549', release='2.2.1', unit='km / s'>,\n",
       " <Property 'emline_instsigma', channel='ha_6564', release='2.2.1', unit='km / s'>,\n",
       " <Property 'emline_instsigma', channel='nii_6585', release='2.2.1', unit='km / s'>,\n",
       " <Property 'emline_instsigma', channel='sii_6718', release='2.2.1', unit='km / s'>,\n",
       " <Property 'emline_instsigma', channel='sii_6732', release='2.2.1', unit='km / s'>,\n",
       " <Property 'emline_tplsigma', channel='oii_3727', release='2.2.1', unit='km / s'>,\n",
       " <Property 'emline_tplsigma', channel='oii_3729', release='2.2.1', unit='km / s'>,\n",
       " <Property 'emline_tplsigma', channel='hthe_3798', release='2.2.1', unit='km / s'>,\n",
       " <Property 'emline_tplsigma', channel='heta_3836', release='2.2.1', unit='km / s'>,\n",
       " <Property 'emline_tplsigma', channel='neiii_3869', release='2.2.1', unit='km / s'>,\n",
       " <Property 'emline_tplsigma', channel='hzet_3890', release='2.2.1', unit='km / s'>,\n",
       " <Property 'emline_tplsigma', channel='neiii_3968', release='2.2.1', unit='km / s'>,\n",
       " <Property 'emline_tplsigma', channel='heps_3971', release='2.2.1', unit='km / s'>,\n",
       " <Property 'emline_tplsigma', channel='hdel_4102', release='2.2.1', unit='km / s'>,\n",
       " <Property 'emline_tplsigma', channel='hgam_4341', release='2.2.1', unit='km / s'>,\n",
       " <Property 'emline_tplsigma', channel='heii_4687', release='2.2.1', unit='km / s'>,\n",
       " <Property 'emline_tplsigma', channel='hb_4862', release='2.2.1', unit='km / s'>,\n",
       " <Property 'emline_tplsigma', channel='oiii_4960', release='2.2.1', unit='km / s'>,\n",
       " <Property 'emline_tplsigma', channel='oiii_5008', release='2.2.1', unit='km / s'>,\n",
       " <Property 'emline_tplsigma', channel='hei_5877', release='2.2.1', unit='km / s'>,\n",
       " <Property 'emline_tplsigma', channel='oi_6302', release='2.2.1', unit='km / s'>,\n",
       " <Property 'emline_tplsigma', channel='oi_6365', release='2.2.1', unit='km / s'>,\n",
       " <Property 'emline_tplsigma', channel='nii_6549', release='2.2.1', unit='km / s'>,\n",
       " <Property 'emline_tplsigma', channel='ha_6564', release='2.2.1', unit='km / s'>,\n",
       " <Property 'emline_tplsigma', channel='nii_6585', release='2.2.1', unit='km / s'>,\n",
       " <Property 'emline_tplsigma', channel='sii_6718', release='2.2.1', unit='km / s'>,\n",
       " <Property 'emline_tplsigma', channel='sii_6732', release='2.2.1', unit='km / s'>,\n",
       " <Property 'specindex', channel='cn1', release='2.2.1', unit='mag'>,\n",
       " <Property 'specindex', channel='cn2', release='2.2.1', unit='mag'>,\n",
       " <Property 'specindex', channel='ca4227', release='2.2.1', unit='Angstrom'>,\n",
       " <Property 'specindex', channel='g4300', release='2.2.1', unit='Angstrom'>,\n",
       " <Property 'specindex', channel='fe4383', release='2.2.1', unit='Angstrom'>,\n",
       " <Property 'specindex', channel='ca4455', release='2.2.1', unit='Angstrom'>,\n",
       " <Property 'specindex', channel='fe4531', release='2.2.1', unit='Angstrom'>,\n",
       " <Property 'specindex', channel='c24668', release='2.2.1', unit='Angstrom'>,\n",
       " <Property 'specindex', channel='hb', release='2.2.1', unit='Angstrom'>,\n",
       " <Property 'specindex', channel='fe5015', release='2.2.1', unit='Angstrom'>,\n",
       " <Property 'specindex', channel='mg1', release='2.2.1', unit='mag'>,\n",
       " <Property 'specindex', channel='mg2', release='2.2.1', unit='mag'>,\n",
       " <Property 'specindex', channel='mgb', release='2.2.1', unit='Angstrom'>,\n",
       " <Property 'specindex', channel='fe5270', release='2.2.1', unit='Angstrom'>,\n",
       " <Property 'specindex', channel='fe5335', release='2.2.1', unit='Angstrom'>,\n",
       " <Property 'specindex', channel='fe5406', release='2.2.1', unit='Angstrom'>,\n",
       " <Property 'specindex', channel='fe5709', release='2.2.1', unit='Angstrom'>,\n",
       " <Property 'specindex', channel='fe5782', release='2.2.1', unit='Angstrom'>,\n",
       " <Property 'specindex', channel='nad', release='2.2.1', unit='Angstrom'>,\n",
       " <Property 'specindex', channel='tio1', release='2.2.1', unit='mag'>,\n",
       " <Property 'specindex', channel='tio2', release='2.2.1', unit='mag'>,\n",
       " <Property 'specindex', channel='hdeltaa', release='2.2.1', unit='Angstrom'>,\n",
       " <Property 'specindex', channel='hgammaa', release='2.2.1', unit='Angstrom'>,\n",
       " <Property 'specindex', channel='hdeltaf', release='2.2.1', unit='Angstrom'>,\n",
       " <Property 'specindex', channel='hgammaf', release='2.2.1', unit='Angstrom'>,\n",
       " <Property 'specindex', channel='cahk', release='2.2.1', unit='Angstrom'>,\n",
       " <Property 'specindex', channel='caii1', release='2.2.1', unit='Angstrom'>,\n",
       " <Property 'specindex', channel='caii2', release='2.2.1', unit='Angstrom'>,\n",
       " <Property 'specindex', channel='caii3', release='2.2.1', unit='Angstrom'>,\n",
       " <Property 'specindex', channel='pa17', release='2.2.1', unit='Angstrom'>,\n",
       " <Property 'specindex', channel='pa14', release='2.2.1', unit='Angstrom'>,\n",
       " <Property 'specindex', channel='pa12', release='2.2.1', unit='Angstrom'>,\n",
       " <Property 'specindex', channel='mgicvd', release='2.2.1', unit='Angstrom'>,\n",
       " <Property 'specindex', channel='naicvd', release='2.2.1', unit='Angstrom'>,\n",
       " <Property 'specindex', channel='mgiir', release='2.2.1', unit='Angstrom'>,\n",
       " <Property 'specindex', channel='fehcvd', release='2.2.1', unit='Angstrom'>,\n",
       " <Property 'specindex', channel='nai', release='2.2.1', unit='Angstrom'>,\n",
       " <Property 'specindex', channel='btio', release='2.2.1', unit='mag'>,\n",
       " <Property 'specindex', channel='atio', release='2.2.1', unit='mag'>,\n",
       " <Property 'specindex', channel='cah1', release='2.2.1', unit='mag'>,\n",
       " <Property 'specindex', channel='cah2', release='2.2.1', unit='mag'>,\n",
       " <Property 'specindex', channel='naisdss', release='2.2.1', unit='Angstrom'>,\n",
       " <Property 'specindex', channel='tio2sdss', release='2.2.1', unit='Angstrom'>,\n",
       " <Property 'specindex', channel='d4000', release='2.2.1', unit=''>,\n",
       " <Property 'specindex', channel='dn4000', release='2.2.1', unit=''>,\n",
       " <Property 'specindex', channel='tiocvd', release='2.2.1', unit=''>,\n",
       " <Property 'specindex_corr', channel='cn1', release='2.2.1', unit='mag'>,\n",
       " <Property 'specindex_corr', channel='cn2', release='2.2.1', unit='mag'>,\n",
       " <Property 'specindex_corr', channel='ca4227', release='2.2.1', unit='Angstrom'>,\n",
       " <Property 'specindex_corr', channel='g4300', release='2.2.1', unit='Angstrom'>,\n",
       " <Property 'specindex_corr', channel='fe4383', release='2.2.1', unit='Angstrom'>,\n",
       " <Property 'specindex_corr', channel='ca4455', release='2.2.1', unit='Angstrom'>,\n",
       " <Property 'specindex_corr', channel='fe4531', release='2.2.1', unit='Angstrom'>,\n",
       " <Property 'specindex_corr', channel='c24668', release='2.2.1', unit='Angstrom'>,\n",
       " <Property 'specindex_corr', channel='hb', release='2.2.1', unit='Angstrom'>,\n",
       " <Property 'specindex_corr', channel='fe5015', release='2.2.1', unit='Angstrom'>,\n",
       " <Property 'specindex_corr', channel='mg1', release='2.2.1', unit='mag'>,\n",
       " <Property 'specindex_corr', channel='mg2', release='2.2.1', unit='mag'>,\n",
       " <Property 'specindex_corr', channel='mgb', release='2.2.1', unit='Angstrom'>,\n",
       " <Property 'specindex_corr', channel='fe5270', release='2.2.1', unit='Angstrom'>,\n",
       " <Property 'specindex_corr', channel='fe5335', release='2.2.1', unit='Angstrom'>,\n",
       " <Property 'specindex_corr', channel='fe5406', release='2.2.1', unit='Angstrom'>,\n",
       " <Property 'specindex_corr', channel='fe5709', release='2.2.1', unit='Angstrom'>,\n",
       " <Property 'specindex_corr', channel='fe5782', release='2.2.1', unit='Angstrom'>,\n",
       " <Property 'specindex_corr', channel='nad', release='2.2.1', unit='Angstrom'>,\n",
       " <Property 'specindex_corr', channel='tio1', release='2.2.1', unit='mag'>,\n",
       " <Property 'specindex_corr', channel='tio2', release='2.2.1', unit='mag'>,\n",
       " <Property 'specindex_corr', channel='hdeltaa', release='2.2.1', unit='Angstrom'>,\n",
       " <Property 'specindex_corr', channel='hgammaa', release='2.2.1', unit='Angstrom'>,\n",
       " <Property 'specindex_corr', channel='hdeltaf', release='2.2.1', unit='Angstrom'>,\n",
       " <Property 'specindex_corr', channel='hgammaf', release='2.2.1', unit='Angstrom'>,\n",
       " <Property 'specindex_corr', channel='cahk', release='2.2.1', unit='Angstrom'>,\n",
       " <Property 'specindex_corr', channel='caii1', release='2.2.1', unit='Angstrom'>,\n",
       " <Property 'specindex_corr', channel='caii2', release='2.2.1', unit='Angstrom'>,\n",
       " <Property 'specindex_corr', channel='caii3', release='2.2.1', unit='Angstrom'>,\n",
       " <Property 'specindex_corr', channel='pa17', release='2.2.1', unit='Angstrom'>,\n",
       " <Property 'specindex_corr', channel='pa14', release='2.2.1', unit='Angstrom'>,\n",
       " <Property 'specindex_corr', channel='pa12', release='2.2.1', unit='Angstrom'>,\n",
       " <Property 'specindex_corr', channel='mgicvd', release='2.2.1', unit='Angstrom'>,\n",
       " <Property 'specindex_corr', channel='naicvd', release='2.2.1', unit='Angstrom'>,\n",
       " <Property 'specindex_corr', channel='mgiir', release='2.2.1', unit='Angstrom'>,\n",
       " <Property 'specindex_corr', channel='fehcvd', release='2.2.1', unit='Angstrom'>,\n",
       " <Property 'specindex_corr', channel='nai', release='2.2.1', unit='Angstrom'>,\n",
       " <Property 'specindex_corr', channel='btio', release='2.2.1', unit='mag'>,\n",
       " <Property 'specindex_corr', channel='atio', release='2.2.1', unit='mag'>,\n",
       " <Property 'specindex_corr', channel='cah1', release='2.2.1', unit='mag'>,\n",
       " <Property 'specindex_corr', channel='cah2', release='2.2.1', unit='mag'>,\n",
       " <Property 'specindex_corr', channel='naisdss', release='2.2.1', unit='Angstrom'>,\n",
       " <Property 'specindex_corr', channel='tio2sdss', release='2.2.1', unit='Angstrom'>,\n",
       " <Property 'specindex_corr', channel='d4000', release='2.2.1', unit=''>,\n",
       " <Property 'specindex_corr', channel='dn4000', release='2.2.1', unit=''>,\n",
       " <Property 'specindex_corr', channel='tiocvd', release='2.2.1', unit=''>]"
      ]
     },
     "execution_count": 23,
     "metadata": {},
     "output_type": "execute_result"
    }
   ],
   "source": [
    "# look at the datamodel for the maps\n",
    "maps.datamodel"
   ]
  },
  {
   "cell_type": "markdown",
   "metadata": {},
   "source": [
    "Note that some properties such as ``spx_skycoo`` have multiple channels (in this case the ``on-sky`` ``x`` and ``y`` coordinates). To access the individual property, simply combine the property name and the channel name with an underscore, i.e. ``spx_skycoo_on_sky_x``.  As before, we can get more information about a property using the ``description`` attribute.  "
   ]
  },
  {
   "cell_type": "code",
   "execution_count": 24,
   "metadata": {
    "execution": {
     "iopub.execute_input": "2021-12-05T21:56:16.476829Z",
     "iopub.status.busy": "2021-12-05T21:56:16.476162Z",
     "iopub.status.idle": "2021-12-05T21:56:16.512703Z",
     "shell.execute_reply": "2021-12-05T21:56:16.510851Z",
     "shell.execute_reply.started": "2021-12-05T21:56:16.476777Z"
    }
   },
   "outputs": [
    {
     "name": "stdout",
     "output_type": "stream",
     "text": [
      "spx_skycoo_on_sky_x:  Offsets of each spaxel from the galaxy center. Channel = On-sky X.\n"
     ]
    }
   ],
   "source": [
    "print('spx_skycoo_on_sky_x: ', maps.datamodel.spx_skycoo_on_sky_x.description)"
   ]
  },
  {
   "cell_type": "markdown",
   "metadata": {},
   "source": [
    "More information about Marvin datamodels can be found [here](https://sdss-marvin.readthedocs.io/en/stable/datamodel/datamodels.html).  See the [DR15 Datamodel](https://sdss-marvin.readthedocs.io/en/stable/datamodel/dr15.html#datamodel-dr15) for a full description of the available datamodels for DR15.  \n",
    "\n",
    "We can retrieve the map associated to a specific property directly from the Maps instance. For example, let’s get the Hα emission line flux (fitted by a Gaussian).  As ``Map`` quantities are similar to ``DataCube``, we can easily plot the 2d map. "
   ]
  },
  {
   "cell_type": "code",
   "execution_count": 25,
   "metadata": {
    "execution": {
     "iopub.execute_input": "2021-12-05T21:56:17.634869Z",
     "iopub.status.busy": "2021-12-05T21:56:17.634166Z",
     "iopub.status.idle": "2021-12-05T21:56:17.807328Z",
     "shell.execute_reply": "2021-12-05T21:56:17.805578Z",
     "shell.execute_reply.started": "2021-12-05T21:56:17.634818Z"
    }
   },
   "outputs": [
    {
     "name": "stdout",
     "output_type": "stream",
     "text": [
      "[[0. 0. 0. ... 0. 0. 0.]\n",
      " [0. 0. 0. ... 0. 0. 0.]\n",
      " [0. 0. 0. ... 0. 0. 0.]\n",
      " ...\n",
      " [0. 0. 0. ... 0. 0. 0.]\n",
      " [0. 0. 0. ... 0. 0. 0.]\n",
      " [0. 0. 0. ... 0. 0. 0.]] 1e-17 erg / (cm2 s spaxel)\n"
     ]
    }
   ],
   "source": [
    "# grab the map of H-alpha emission line flux\n",
    "ha = maps.emline_gflux_ha_6564\n",
    "print(ha)"
   ]
  },
  {
   "cell_type": "code",
   "execution_count": 26,
   "metadata": {
    "execution": {
     "iopub.execute_input": "2021-12-05T21:56:18.400006Z",
     "iopub.status.busy": "2021-12-05T21:56:18.399384Z",
     "iopub.status.idle": "2021-12-05T21:56:19.166301Z",
     "shell.execute_reply": "2021-12-05T21:56:19.164181Z",
     "shell.execute_reply.started": "2021-12-05T21:56:18.399954Z"
    }
   },
   "outputs": [
    {
     "data": {
      "image/png": "[encoded data removed]",
      "text/plain": [
       "<Figure size 432x288 with 2 Axes>"
      ]
     },
     "metadata": {},
     "output_type": "display_data"
    }
   ],
   "source": [
    "# plot the H-alpha map\n",
    "fig, ax = ha.plot()"
   ]
  },
  {
   "cell_type": "markdown",
   "metadata": {},
   "source": [
    "Note that the ``plot`` method returns the matplotlib ``Figure`` and ``Axes`` for the plot. We can use those to modify or save the plot. Marvin plotting routines try to select the best parameters, colour maps, and dynamic ranges. You can modify those by passing extra arguments to plot. You can learn more in the [Map plotting section](https://sdss-marvin.readthedocs.io/en/stable/tools/utils/plot-map.html#marvin-utils-plot-map). We will talk about the Map class in detail in Working with [Astropy Quantities](https://sdss-marvin.readthedocs.io/en/stable/getting-started.html#marvin-quantities) and in [Map](https://sdss-marvin.readthedocs.io/en/stable/tools/map.html#marvin-map).\n",
    "\n",
    "Remember that all associated objects are connected together.  They can be accessed either from within an object instance or loaded independently from the class itself.  From within an instance, the core tools, ``Maps``, ``RSS``, and ``ModelCube`` are available using the ``getXXX`` methods, as well as additional auxillary tools and object data, such as ``Image``.         "
   ]
  },
  {
   "cell_type": "code",
   "execution_count": 27,
   "metadata": {
    "execution": {
     "iopub.execute_input": "2021-12-05T21:56:21.081328Z",
     "iopub.status.busy": "2021-12-05T21:56:21.080526Z",
     "iopub.status.idle": "2021-12-05T21:56:21.344989Z",
     "shell.execute_reply": "2021-12-05T21:56:21.342890Z",
     "shell.execute_reply.started": "2021-12-05T21:56:21.081271Z"
    }
   },
   "outputs": [],
   "source": [
    "# load the same Maps object by itself\n",
    "from marvin.tools import Maps\n",
    "my_maps = Maps('8485-1901')\n",
    "my_maps\n",
    "\n",
    "# get the stellar velocity map\n",
    "stvel = my_maps.stellar_velocity"
   ]
  },
  {
   "cell_type": "code",
   "execution_count": 28,
   "metadata": {
    "execution": {
     "iopub.execute_input": "2021-12-05T21:56:22.074963Z",
     "iopub.status.busy": "2021-12-05T21:56:22.074251Z",
     "iopub.status.idle": "2021-12-05T21:56:25.905853Z",
     "shell.execute_reply": "2021-12-05T21:56:25.903784Z",
     "shell.execute_reply.started": "2021-12-05T21:56:22.074908Z"
    }
   },
   "outputs": [
    {
     "data": {
      "text/plain": [
       "<WCSAxes:>"
      ]
     },
     "execution_count": 28,
     "metadata": {},
     "output_type": "execute_result"
    },
    {
     "data": {
      "image/png": "[encoded data removed]",
      "text/plain": [
       "<Figure size 432x432 with 1 Axes>"
      ]
     },
     "metadata": {
      "needs_background": "light"
     },
     "output_type": "display_data"
    }
   ],
   "source": [
    "# load an auxilliary tool, the gri color image of the target galaxy using the Marvin Image tool\n",
    "\n",
    "# get the Image of the galaxy and plot it\n",
    "image = cube.getImage()\n",
    "image.plot()"
   ]
  },
  {
   "cell_type": "markdown",
   "metadata": {},
   "source": [
    "<a id=\"flags\"></a>\n",
    "### Quality and Target Flags and Maskbits\n",
    "Each MaNGA target has associated quality assurance flags as well targeting flags.  Quality flags indiciate the overall quality of the data and/or any problems with the data discovered during the reduction and analysis pipeline runs.    "
   ]
  },
  {
   "cell_type": "code",
   "execution_count": 29,
   "metadata": {
    "execution": {
     "iopub.execute_input": "2021-12-05T21:56:25.961515Z",
     "iopub.status.busy": "2021-12-05T21:56:25.961010Z",
     "iopub.status.idle": "2021-12-05T21:56:25.979261Z",
     "shell.execute_reply": "2021-12-05T21:56:25.977286Z",
     "shell.execute_reply.started": "2021-12-05T21:56:25.961471Z"
    }
   },
   "outputs": [
    {
     "data": {
      "text/plain": [
       "<Maskbit 'MANGA_DRP3QUAL' []>"
      ]
     },
     "execution_count": 29,
     "metadata": {},
     "output_type": "execute_result"
    }
   ],
   "source": [
    "# look at the overall cube quality flags\n",
    "cube.quality_flag"
   ]
  },
  {
   "cell_type": "markdown",
   "metadata": {},
   "source": [
    "In this case the MANGA_DRP3QUAL maskbit does not have any bit activated, which means the data is safe to use. See the [Maskbits](https://sdss-marvin.readthedocs.io/en/stable/tools/utils/maskbit.html#marvin-maskbit) section for more information on how to interact with Marvin Maskbits.\n",
    "\n",
    "The targeting flags highlight the **targeting bits** set for this galaxy and tell you which sample the target belongs to."
   ]
  },
  {
   "cell_type": "code",
   "execution_count": 30,
   "metadata": {
    "execution": {
     "iopub.execute_input": "2021-12-05T21:56:25.983281Z",
     "iopub.status.busy": "2021-12-05T21:56:25.982766Z",
     "iopub.status.idle": "2021-12-05T21:56:26.001495Z",
     "shell.execute_reply": "2021-12-05T21:56:25.999578Z",
     "shell.execute_reply.started": "2021-12-05T21:56:25.983221Z"
    }
   },
   "outputs": [
    {
     "data": {
      "text/plain": [
       "[<Maskbit 'MANGA_TARGET1' ['SECONDARY_v1_1_0', 'SECONDARY_COM2', 'SECONDARY_v1_2_0']>,\n",
       " <Maskbit 'MANGA_TARGET2' []>,\n",
       " <Maskbit 'MANGA_TARGET3' []>]"
      ]
     },
     "execution_count": 30,
     "metadata": {},
     "output_type": "execute_result"
    }
   ],
   "source": [
    "# look at the targeting flags for this galaxy\n",
    "cube.target_flags"
   ]
  },
  {
   "cell_type": "markdown",
   "metadata": {},
   "source": [
    "Note that in this case the galaxy belongs to the secondary sample from the final target selection (``SECONDARY_v1_2_0``) as well as to the secondary samples from several commissioning target selections. The galaxy does not have any ancillary bit (**manga_target3**).  An **manga_target3** bit set indicates the target belongs to one of the [MaNGA Ancillary programs](https://www.sdss.org/dr15/manga/manga-target-selection/ancillary-targets/).  "
   ]
  },
  {
   "cell_type": "markdown",
   "metadata": {},
   "source": [
    "<a id=\"mixin\"></a>\n",
    "### NSA, DAPall, and Value-Added catalog data\n",
    "For each target we can also access additional catalog data: the associated parameters from the [NASA Sloan Atlas](http://nsatlas.org/), and the [DAPall](https://www.sdss.org/dr15/manga/manga-data/catalogs/#DAPALLFile) file.  The NSA catalog contains measured global galaxy photometric and shape profile information, while the DAPall catalog contains aggregrate statistics as measured by the MaNGA DAP pipeline.  NSA properties are available on all Marvin objects under the ``nsa`` attribute.  DAPall properties are available on all Marvin ``Maps`` and ``Modelcube`` objects.  "
   ]
  },
  {
   "cell_type": "code",
   "execution_count": 31,
   "metadata": {
    "execution": {
     "iopub.execute_input": "2021-12-05T21:56:27.069311Z",
     "iopub.status.busy": "2021-12-05T21:56:27.068629Z",
     "iopub.status.idle": "2021-12-05T21:56:27.144922Z",
     "shell.execute_reply": "2021-12-05T21:56:27.143135Z",
     "shell.execute_reply.started": "2021-12-05T21:56:27.069258Z"
    }
   },
   "outputs": [
    {
     "data": {
      "text/plain": [
       "{'iauname': 'J153010.73+484124.8',\n",
       " 'field': 145,\n",
       " 'run': 3225,\n",
       " 'camcol': 2,\n",
       " 'version': 'v1_0_1',\n",
       " 'nsaid': 221394,\n",
       " 'nsaid_v1b': -999,\n",
       " 'z': 0.0407447,\n",
       " 'zdist': 0.0412014,\n",
       " 'sersic_absmag': [-14.2599,\n",
       "  -15.9543,\n",
       "  -17.0904,\n",
       "  -18.2817,\n",
       "  -18.9128,\n",
       "  -19.2697,\n",
       "  -19.5088],\n",
       " 'elpetro_absmag': [-14.3422,\n",
       "  -15.7994,\n",
       "  -17.0133,\n",
       "  -18.1788,\n",
       "  -18.775,\n",
       "  -19.1125,\n",
       "  -19.3132],\n",
       " 'elpetro_amivar': [1.39298,\n",
       "  52.442,\n",
       "  188.696,\n",
       "  2311.74,\n",
       "  2362.19,\n",
       "  2158.28,\n",
       "  909.175],\n",
       " 'sersic_mass': 4259420000.0,\n",
       " 'elpetro_mass': 3676850000.0,\n",
       " 'elpetro_ba': 0.87454,\n",
       " 'elpetro_phi': 154.873,\n",
       " 'extinction': [0.11668,\n",
       "  0.115132,\n",
       "  0.0725557,\n",
       "  0.0533858,\n",
       "  0.0387198,\n",
       "  0.0293601,\n",
       "  0.0208166],\n",
       " 'elpetro_th50_r': 1.33067,\n",
       " 'petro_th50': 1.32995,\n",
       " 'petro_flux': [2.42345, 7.63147, 33.5316, 103.177, 187.303, 266.833, 320.63],\n",
       " 'petro_flux_ivar': [0.261188,\n",
       "  0.978818,\n",
       "  0.357724,\n",
       "  4.59488,\n",
       "  1.37015,\n",
       "  0.156463,\n",
       "  0.0512794],\n",
       " 'elpetro_flux': [2.9988, 10.9678, 33.184, 104.279, 189.074, 266.311, 329.502],\n",
       " 'elpetro_flux_ivar': [0.183006,\n",
       "  0.560983,\n",
       "  0.382391,\n",
       "  3.32798,\n",
       "  1.41304,\n",
       "  0.262453,\n",
       "  0.0543157],\n",
       " 'sersic_ba': 0.773047,\n",
       " 'sersic_n': 3.29617,\n",
       " 'sersic_phi': 163.295,\n",
       " 'sersic_th50': 1.27748,\n",
       " 'sersic_flux': [2.7631, 12.5968, 35.5298, 114.376, 213.438, 306.252, 391.783],\n",
       " 'sersic_flux_ivar': [0.234907,\n",
       "  0.390875,\n",
       "  1.03359,\n",
       "  2.70403,\n",
       "  1.11227,\n",
       "  0.504806,\n",
       "  0.0975765]}"
      ]
     },
     "execution_count": 31,
     "metadata": {},
     "output_type": "execute_result"
    }
   ],
   "source": [
    "# look at the NSA properties for this galaxy from the cube instance\n",
    "nsa = cube.nsa\n",
    "nsa"
   ]
  },
  {
   "cell_type": "code",
   "execution_count": 32,
   "metadata": {
    "execution": {
     "iopub.execute_input": "2021-12-05T21:56:27.643944Z",
     "iopub.status.busy": "2021-12-05T21:56:27.643163Z",
     "iopub.status.idle": "2021-12-05T21:56:28.089465Z",
     "shell.execute_reply": "2021-12-05T21:56:28.087130Z",
     "shell.execute_reply.started": "2021-12-05T21:56:27.643894Z"
    }
   },
   "outputs": [
    {
     "data": {
      "text/plain": [
       "{'plate': 8485,\n",
       " 'ifudesign': 1901,\n",
       " 'plateifu': '8485-1901',\n",
       " 'mangaid': '1-209232',\n",
       " 'drpallindx': 3991,\n",
       " 'mode': 'CUBE',\n",
       " 'daptype': 'HYB10-GAU-MILESHC',\n",
       " 'dapdone': 'true',\n",
       " 'objra': 232.545,\n",
       " 'objdec': 48.6902,\n",
       " 'ifura': 232.545,\n",
       " 'ifudec': 48.6902,\n",
       " 'mngtarg1': 2336,\n",
       " 'mngtarg2': 0,\n",
       " 'mngtarg3': 0,\n",
       " 'z': 0.0407447,\n",
       " 'ldist_z': 125.951,\n",
       " 'adist_z': 116.282,\n",
       " 'nsa_z': 0.0407447,\n",
       " 'nsa_zdist': 0.0412014,\n",
       " 'ldist_nsa_z': 125.951,\n",
       " 'adist_nsa_z': 116.282,\n",
       " 'nsa_elpetro_ba': 0.87454,\n",
       " 'nsa_elpetro_phi': 154.873,\n",
       " 'nsa_elpetro_th50_r': 1.33067,\n",
       " 'nsa_sersic_ba': 0.773047,\n",
       " 'nsa_sersic_phi': 163.295,\n",
       " 'nsa_sersic_th50': 1.27748,\n",
       " 'nsa_sersic_n': 3.29617,\n",
       " 'versdrp2': 'v2_4_3',\n",
       " 'versdrp3': 'v2_4_3',\n",
       " 'verscore': 'v1_6_2',\n",
       " 'versutil': 'v5_5_32',\n",
       " 'versdap': '2.2.1',\n",
       " 'drp3qual': 0,\n",
       " 'dapqual': 0,\n",
       " 'rdxqakey': 'SNRG',\n",
       " 'binkey': 'HYB10',\n",
       " 'sckey': 'GAU-MILESHC',\n",
       " 'elmkey': 'EMOMM',\n",
       " 'elfkey': 'EFITMDB',\n",
       " 'sikey': 'INDXEN',\n",
       " 'bintype': 'voronoi',\n",
       " 'binsnr': 10.0,\n",
       " 'tplkey': 'MILESHC',\n",
       " 'datedap': '2018-07-21',\n",
       " 'dapbins': 393,\n",
       " 'rcov90': 4.59393,\n",
       " 'snr_med_1': 23.8189,\n",
       " 'snr_med_2': 31.975,\n",
       " 'snr_med_3': 36.9326,\n",
       " 'snr_med_4': 29.9123,\n",
       " 'snr_ring_1': 43.2201,\n",
       " 'snr_ring_2': 54.947,\n",
       " 'snr_ring_3': 68.2999,\n",
       " 'snr_ring_4': 40.6828,\n",
       " 'sb_1re': 0.739731,\n",
       " 'bin_rmax': 3.51652,\n",
       " 'bin_r_n_1': 21.0,\n",
       " 'bin_r_n_2': 36.0,\n",
       " 'bin_r_n_3': 40.0,\n",
       " 'bin_r_snr_1': 31.4442,\n",
       " 'bin_r_snr_2': 26.3586,\n",
       " 'bin_r_snr_3': 12.5334,\n",
       " 'stellar_z': 0.0407708,\n",
       " 'stellar_vel_lo': -105.375,\n",
       " 'stellar_vel_hi': 51.7862,\n",
       " 'stellar_vel_lo_clip': -58.0984,\n",
       " 'stellar_vel_hi_clip': 49.8629,\n",
       " 'stellar_sigma_1re': 76.3244,\n",
       " 'stellar_cont_rchi2_1re': 1.58237,\n",
       " 'ha_z': 0.0407546,\n",
       " 'ha_gvel_lo': -102.1,\n",
       " 'ha_gvel_hi': 101.714,\n",
       " 'ha_gvel_lo_clip': -102.1,\n",
       " 'ha_gvel_hi_clip': 101.714,\n",
       " 'ha_gsigma_1re': 68.0218,\n",
       " 'ha_gsigma_hi': 71.8789,\n",
       " 'ha_gsigma_hi_clip': 69.0736,\n",
       " 'emline_sflux_cen_oiid_3728': 109.32,\n",
       " 'emline_sflux_cen_oii_3729': -999.0,\n",
       " 'emline_sflux_cen_hthe_3798': 6.28873,\n",
       " 'emline_sflux_cen_heta_3836': -3.9439,\n",
       " 'emline_sflux_cen_neiii_3869': -3.12948,\n",
       " 'emline_sflux_cen_hzet_3890': 14.1059,\n",
       " 'emline_sflux_cen_neiii_3968': 14.4864,\n",
       " 'emline_sflux_cen_heps_3971': 13.7186,\n",
       " 'emline_sflux_cen_hdel_4102': 17.8432,\n",
       " 'emline_sflux_cen_hgam_4341': 45.7339,\n",
       " 'emline_sflux_cen_heii_4687': -3.06547,\n",
       " 'emline_sflux_cen_hb_4862': 114.248,\n",
       " 'emline_sflux_cen_oiii_4960': 8.97325,\n",
       " 'emline_sflux_cen_oiii_5008': 29.4651,\n",
       " 'emline_sflux_cen_hei_5877': 11.667,\n",
       " 'emline_sflux_cen_oi_6302': 7.24872,\n",
       " 'emline_sflux_cen_oi_6365': 1.36866,\n",
       " 'emline_sflux_cen_nii_6549': 66.7283,\n",
       " 'emline_sflux_cen_ha_6564': 516.301,\n",
       " 'emline_sflux_cen_nii_6585': 208.848,\n",
       " 'emline_sflux_cen_sii_6718': 78.8998,\n",
       " 'emline_sflux_cen_sii_6732': 54.9941,\n",
       " 'emline_sflux_1re_oiid_3728': 109.32,\n",
       " 'emline_sflux_1re_oii_3729': -999.0,\n",
       " 'emline_sflux_1re_hthe_3798': 6.28873,\n",
       " 'emline_sflux_1re_heta_3836': -3.9439,\n",
       " 'emline_sflux_1re_neiii_3869': -3.12948,\n",
       " 'emline_sflux_1re_hzet_3890': 14.1059,\n",
       " 'emline_sflux_1re_neiii_3968': 14.4864,\n",
       " 'emline_sflux_1re_heps_3971': 13.7186,\n",
       " 'emline_sflux_1re_hdel_4102': 17.8432,\n",
       " 'emline_sflux_1re_hgam_4341': 45.7339,\n",
       " 'emline_sflux_1re_heii_4687': -3.06547,\n",
       " 'emline_sflux_1re_hb_4862': 114.248,\n",
       " 'emline_sflux_1re_oiii_4960': 8.97325,\n",
       " 'emline_sflux_1re_oiii_5008': 29.4651,\n",
       " 'emline_sflux_1re_hei_5877': 11.667,\n",
       " 'emline_sflux_1re_oi_6302': 7.24872,\n",
       " 'emline_sflux_1re_oi_6365': 1.36866,\n",
       " 'emline_sflux_1re_nii_6549': 66.7283,\n",
       " 'emline_sflux_1re_ha_6564': 516.301,\n",
       " 'emline_sflux_1re_nii_6585': 208.848,\n",
       " 'emline_sflux_1re_sii_6718': 78.8998,\n",
       " 'emline_sflux_1re_sii_6732': 54.9941,\n",
       " 'emline_sflux_tot_oiid_3728': 373.351,\n",
       " 'emline_sflux_tot_oii_3729': -999.0,\n",
       " 'emline_sflux_tot_hthe_3798': 26.5551,\n",
       " 'emline_sflux_tot_heta_3836': 3.11666,\n",
       " 'emline_sflux_tot_neiii_3869': 11.572,\n",
       " 'emline_sflux_tot_hzet_3890': 59.6586,\n",
       " 'emline_sflux_tot_neiii_3968': 34.5501,\n",
       " 'emline_sflux_tot_heps_3971': 28.3504,\n",
       " 'emline_sflux_tot_hdel_4102': 71.1853,\n",
       " 'emline_sflux_tot_hgam_4341': 121.194,\n",
       " 'emline_sflux_tot_heii_4687': 9.70377,\n",
       " 'emline_sflux_tot_hb_4862': 325.567,\n",
       " 'emline_sflux_tot_oiii_4960': 33.7084,\n",
       " 'emline_sflux_tot_oiii_5008': 91.7779,\n",
       " 'emline_sflux_tot_hei_5877': 11.6504,\n",
       " 'emline_sflux_tot_oi_6302': 12.4225,\n",
       " 'emline_sflux_tot_oi_6365': 2.60493,\n",
       " 'emline_sflux_tot_nii_6549': 189.182,\n",
       " 'emline_sflux_tot_ha_6564': 1351.66,\n",
       " 'emline_sflux_tot_nii_6585': 563.471,\n",
       " 'emline_sflux_tot_sii_6718': 229.86,\n",
       " 'emline_sflux_tot_sii_6732': 147.315,\n",
       " 'emline_ssb_1re_oiid_3728': 5.20572,\n",
       " 'emline_ssb_1re_oii_3729': -999.0,\n",
       " 'emline_ssb_1re_hthe_3798': 0.299464,\n",
       " 'emline_ssb_1re_heta_3836': -0.187805,\n",
       " 'emline_ssb_1re_neiii_3869': -0.149023,\n",
       " 'emline_ssb_1re_hzet_3890': 0.671709,\n",
       " 'emline_ssb_1re_neiii_3968': 0.68983,\n",
       " 'emline_ssb_1re_heps_3971': 0.653266,\n",
       " 'emline_ssb_1re_hdel_4102': 0.849675,\n",
       " 'emline_ssb_1re_hgam_4341': 2.1778,\n",
       " 'emline_ssb_1re_heii_4687': -0.145975,\n",
       " 'emline_ssb_1re_hb_4862': 5.44036,\n",
       " 'emline_ssb_1re_oiii_4960': 0.427298,\n",
       " 'emline_ssb_1re_oiii_5008': 1.4031,\n",
       " 'emline_ssb_1re_hei_5877': 0.555572,\n",
       " 'emline_ssb_1re_oi_6302': 0.345177,\n",
       " 'emline_ssb_1re_oi_6365': 0.0651744,\n",
       " 'emline_ssb_1re_nii_6549': 3.17754,\n",
       " 'emline_ssb_1re_ha_6564': 24.5857,\n",
       " 'emline_ssb_1re_nii_6585': 9.94513,\n",
       " 'emline_ssb_1re_sii_6718': 3.75713,\n",
       " 'emline_ssb_1re_sii_6732': 2.61876,\n",
       " 'emline_ssb_peak_oiid_3728': 6.39757,\n",
       " 'emline_ssb_peak_oii_3729': -999.0,\n",
       " 'emline_ssb_peak_hthe_3798': 0.471803,\n",
       " 'emline_ssb_peak_heta_3836': 0.336819,\n",
       " 'emline_ssb_peak_neiii_3869': 0.3048,\n",
       " 'emline_ssb_peak_hzet_3890': 0.85201,\n",
       " 'emline_ssb_peak_neiii_3968': 0.972068,\n",
       " 'emline_ssb_peak_heps_3971': 0.913496,\n",
       " 'emline_ssb_peak_hdel_4102': 1.12167,\n",
       " 'emline_ssb_peak_hgam_4341': 2.76951,\n",
       " 'emline_ssb_peak_heii_4687': 0.317394,\n",
       " 'emline_ssb_peak_hb_4862': 6.8731,\n",
       " 'emline_ssb_peak_oiii_4960': 0.609163,\n",
       " 'emline_ssb_peak_oiii_5008': 1.8637,\n",
       " 'emline_ssb_peak_hei_5877': 0.771162,\n",
       " 'emline_ssb_peak_oi_6302': 0.680455,\n",
       " 'emline_ssb_peak_oi_6365': 0.330885,\n",
       " 'emline_ssb_peak_nii_6549': 4.12037,\n",
       " 'emline_ssb_peak_ha_6564': 31.8687,\n",
       " 'emline_ssb_peak_nii_6585': 12.6504,\n",
       " 'emline_ssb_peak_sii_6718': 4.67824,\n",
       " 'emline_ssb_peak_sii_6732': 3.41485,\n",
       " 'emline_sew_1re_oiid_3728': 10.447,\n",
       " 'emline_sew_1re_oii_3729': -999.0,\n",
       " 'emline_sew_1re_hthe_3798': 0.484435,\n",
       " 'emline_sew_1re_heta_3836': -0.282407,\n",
       " 'emline_sew_1re_neiii_3869': -0.225166,\n",
       " 'emline_sew_1re_hzet_3890': 1.01556,\n",
       " 'emline_sew_1re_neiii_3968': 1.0079,\n",
       " 'emline_sew_1re_heps_3971': 0.945434,\n",
       " 'emline_sew_1re_hdel_4102': 1.15052,\n",
       " 'emline_sew_1re_hgam_4341': 2.76551,\n",
       " 'emline_sew_1re_heii_4687': -0.176071,\n",
       " 'emline_sew_1re_hb_4862': 6.20649,\n",
       " 'emline_sew_1re_oiii_4960': 0.487555,\n",
       " 'emline_sew_1re_oiii_5008': 1.63108,\n",
       " 'emline_sew_1re_hei_5877': 0.643927,\n",
       " 'emline_sew_1re_oi_6302': 0.389209,\n",
       " 'emline_sew_1re_oi_6365': 0.0757347,\n",
       " 'emline_sew_1re_nii_6549': 3.54708,\n",
       " 'emline_sew_1re_ha_6564': 27.3901,\n",
       " 'emline_sew_1re_nii_6585': 11.1028,\n",
       " 'emline_sew_1re_sii_6718': 4.23529,\n",
       " 'emline_sew_1re_sii_6732': 2.94104,\n",
       " 'emline_sew_peak_oiid_3728': 138.728,\n",
       " 'emline_sew_peak_oii_3729': -999.0,\n",
       " 'emline_sew_peak_hthe_3798': 42.6538,\n",
       " 'emline_sew_peak_heta_3836': 93.6932,\n",
       " 'emline_sew_peak_neiii_3869': 49.094,\n",
       " 'emline_sew_peak_hzet_3890': 109.956,\n",
       " 'emline_sew_peak_neiii_3968': 26.5169,\n",
       " 'emline_sew_peak_heps_3971': 21.7571,\n",
       " 'emline_sew_peak_hdel_4102': 35.8587,\n",
       " 'emline_sew_peak_hgam_4341': 9.01091,\n",
       " 'emline_sew_peak_heii_4687': 16.449,\n",
       " 'emline_sew_peak_hb_4862': 16.3811,\n",
       " 'emline_sew_peak_oiii_4960': 9.00773,\n",
       " 'emline_sew_peak_oiii_5008': 9.37749,\n",
       " 'emline_sew_peak_hei_5877': 7.47555,\n",
       " 'emline_sew_peak_oi_6302': 27.9179,\n",
       " 'emline_sew_peak_oi_6365': 6.31804,\n",
       " 'emline_sew_peak_nii_6549': 7.72292,\n",
       " 'emline_sew_peak_ha_6564': 36.6182,\n",
       " 'emline_sew_peak_nii_6585': 14.3616,\n",
       " 'emline_sew_peak_sii_6718': 8.54078,\n",
       " 'emline_sew_peak_sii_6732': 6.52371,\n",
       " 'emline_gflux_cen_oii_3727': 44.3049,\n",
       " 'emline_gflux_cen_oii_3729': 57.3429,\n",
       " 'emline_gflux_cen_hthe_3798': 8.36326,\n",
       " 'emline_gflux_cen_heta_3836': 5.22986,\n",
       " 'emline_gflux_cen_neiii_3869': 1.94241,\n",
       " 'emline_gflux_cen_hzet_3890': 17.7498,\n",
       " 'emline_gflux_cen_neiii_3968': 0.0240209,\n",
       " 'emline_gflux_cen_heps_3971': 11.6298,\n",
       " 'emline_gflux_cen_hdel_4102': 21.3803,\n",
       " 'emline_gflux_cen_hgam_4341': 47.1128,\n",
       " 'emline_gflux_cen_heii_4687': 1.19922,\n",
       " 'emline_gflux_cen_hb_4862': 112.42,\n",
       " 'emline_gflux_cen_oiii_4960': 8.81263,\n",
       " 'emline_gflux_cen_oiii_5008': 25.9195,\n",
       " 'emline_gflux_cen_hei_5877': 12.863,\n",
       " 'emline_gflux_cen_oi_6302': 8.00018,\n",
       " 'emline_gflux_cen_oi_6365': 2.62406,\n",
       " 'emline_gflux_cen_nii_6549': 67.4505,\n",
       " 'emline_gflux_cen_ha_6564': 518.46,\n",
       " 'emline_gflux_cen_nii_6585': 206.271,\n",
       " 'emline_gflux_cen_sii_6718': 80.265,\n",
       " 'emline_gflux_cen_sii_6732': 56.7194,\n",
       " 'emline_gflux_1re_oii_3727': 44.3049,\n",
       " 'emline_gflux_1re_oii_3729': 57.3429,\n",
       " 'emline_gflux_1re_hthe_3798': 8.36326,\n",
       " 'emline_gflux_1re_heta_3836': 5.22986,\n",
       " 'emline_gflux_1re_neiii_3869': 1.94241,\n",
       " 'emline_gflux_1re_hzet_3890': 17.7498,\n",
       " 'emline_gflux_1re_neiii_3968': 0.0240209,\n",
       " 'emline_gflux_1re_heps_3971': 11.6298,\n",
       " 'emline_gflux_1re_hdel_4102': 21.3803,\n",
       " 'emline_gflux_1re_hgam_4341': 47.1128,\n",
       " 'emline_gflux_1re_heii_4687': 1.19922,\n",
       " 'emline_gflux_1re_hb_4862': 112.42,\n",
       " 'emline_gflux_1re_oiii_4960': 8.81263,\n",
       " 'emline_gflux_1re_oiii_5008': 25.9195,\n",
       " 'emline_gflux_1re_hei_5877': 12.863,\n",
       " 'emline_gflux_1re_oi_6302': 8.00018,\n",
       " 'emline_gflux_1re_oi_6365': 2.62406,\n",
       " 'emline_gflux_1re_nii_6549': 67.4505,\n",
       " 'emline_gflux_1re_ha_6564': 518.46,\n",
       " 'emline_gflux_1re_nii_6585': 206.271,\n",
       " 'emline_gflux_1re_sii_6718': 80.265,\n",
       " 'emline_gflux_1re_sii_6732': 56.7194,\n",
       " 'emline_gflux_tot_oii_3727': 153.158,\n",
       " 'emline_gflux_tot_oii_3729': 204.934,\n",
       " 'emline_gflux_tot_hthe_3798': 32.7129,\n",
       " 'emline_gflux_tot_heta_3836': 27.3276,\n",
       " 'emline_gflux_tot_neiii_3869': 19.9697,\n",
       " 'emline_gflux_tot_hzet_3890': 56.1466,\n",
       " 'emline_gflux_tot_neiii_3968': 5.95323,\n",
       " 'emline_gflux_tot_heps_3971': 38.8775,\n",
       " 'emline_gflux_tot_hdel_4102': 68.5102,\n",
       " 'emline_gflux_tot_hgam_4341': 132.946,\n",
       " 'emline_gflux_tot_heii_4687': 24.9267,\n",
       " 'emline_gflux_tot_hb_4862': 318.375,\n",
       " 'emline_gflux_tot_oiii_4960': 28.7995,\n",
       " 'emline_gflux_tot_oiii_5008': 84.7045,\n",
       " 'emline_gflux_tot_hei_5877': 41.2657,\n",
       " 'emline_gflux_tot_oi_6302': 35.6315,\n",
       " 'emline_gflux_tot_oi_6365': 11.6872,\n",
       " 'emline_gflux_tot_nii_6549': 185.207,\n",
       " 'emline_gflux_tot_ha_6564': 1361.66,\n",
       " 'emline_gflux_tot_nii_6585': 566.384,\n",
       " 'emline_gflux_tot_sii_6718': 237.782,\n",
       " 'emline_gflux_tot_sii_6732': 162.729,\n",
       " 'emline_gsb_1re_oii_3727': 2.10976,\n",
       " 'emline_gsb_1re_oii_3729': 2.73061,\n",
       " 'emline_gsb_1re_hthe_3798': 0.39825,\n",
       " 'emline_gsb_1re_heta_3836': 0.249041,\n",
       " 'emline_gsb_1re_neiii_3869': 0.0924957,\n",
       " 'emline_gsb_1re_hzet_3890': 0.845228,\n",
       " 'emline_gsb_1re_neiii_3968': 0.00114385,\n",
       " 'emline_gsb_1re_heps_3971': 0.553798,\n",
       " 'emline_gsb_1re_hdel_4102': 1.01811,\n",
       " 'emline_gsb_1re_hgam_4341': 2.24347,\n",
       " 'emline_gsb_1re_heii_4687': 0.0571056,\n",
       " 'emline_gsb_1re_hb_4862': 5.35334,\n",
       " 'emline_gsb_1re_oiii_4960': 0.419649,\n",
       " 'emline_gsb_1re_oiii_5008': 1.23426,\n",
       " 'emline_gsb_1re_hei_5877': 0.612524,\n",
       " 'emline_gsb_1re_oi_6302': 0.380961,\n",
       " 'emline_gsb_1re_oi_6365': 0.124955,\n",
       " 'emline_gsb_1re_nii_6549': 3.21193,\n",
       " 'emline_gsb_1re_ha_6564': 24.6886,\n",
       " 'emline_gsb_1re_nii_6585': 9.82242,\n",
       " 'emline_gsb_1re_sii_6718': 3.82214,\n",
       " 'emline_gsb_1re_sii_6732': 2.70092,\n",
       " 'emline_gsb_peak_oii_3727': 2.49971,\n",
       " 'emline_gsb_peak_oii_3729': 3.51859,\n",
       " 'emline_gsb_peak_hthe_3798': 0.543122,\n",
       " 'emline_gsb_peak_heta_3836': 0.445955,\n",
       " 'emline_gsb_peak_neiii_3869': 0.486302,\n",
       " 'emline_gsb_peak_hzet_3890': 1.10308,\n",
       " 'emline_gsb_peak_neiii_3968': 0.160955,\n",
       " 'emline_gsb_peak_heps_3971': 0.728988,\n",
       " 'emline_gsb_peak_hdel_4102': 1.2455,\n",
       " 'emline_gsb_peak_hgam_4341': 2.83761,\n",
       " 'emline_gsb_peak_heii_4687': 0.281244,\n",
       " 'emline_gsb_peak_hb_4862': 6.72949,\n",
       " 'emline_gsb_peak_oiii_4960': 0.535376,\n",
       " 'emline_gsb_peak_oiii_5008': 1.57463,\n",
       " 'emline_gsb_peak_hei_5877': 0.813704,\n",
       " 'emline_gsb_peak_oi_6302': 0.456323,\n",
       " 'emline_gsb_peak_oi_6365': 0.149674,\n",
       " 'emline_gsb_peak_nii_6549': 4.10029,\n",
       " 'emline_gsb_peak_ha_6564': 32.1308,\n",
       " 'emline_gsb_peak_nii_6585': 12.5391,\n",
       " 'emline_gsb_peak_sii_6718': 4.79944,\n",
       " 'emline_gsb_peak_sii_6732': 3.55443,\n",
       " 'emline_gew_1re_oii_3727': 4.26555,\n",
       " 'emline_gew_1re_oii_3729': 5.45771,\n",
       " 'emline_gew_1re_hthe_3798': 0.650474,\n",
       " 'emline_gew_1re_heta_3836': 0.389609,\n",
       " 'emline_gew_1re_neiii_3869': 0.140805,\n",
       " 'emline_gew_1re_hzet_3890': 1.27004,\n",
       " 'emline_gew_1re_neiii_3968': 0.00179238,\n",
       " 'emline_gew_1re_heps_3971': 0.804495,\n",
       " 'emline_gew_1re_hdel_4102': 1.35833,\n",
       " 'emline_gew_1re_hgam_4341': 2.84447,\n",
       " 'emline_gew_1re_heii_4687': 0.0650424,\n",
       " 'emline_gew_1re_hb_4862': 6.10616,\n",
       " 'emline_gew_1re_oiii_4960': 0.476799,\n",
       " 'emline_gew_1re_oiii_5008': 1.43597,\n",
       " 'emline_gew_1re_hei_5877': 0.710001,\n",
       " 'emline_gew_1re_oi_6302': 0.434327,\n",
       " 'emline_gew_1re_oi_6365': 0.139302,\n",
       " 'emline_gew_1re_nii_6549': 3.58051,\n",
       " 'emline_gew_1re_ha_6564': 27.4982,\n",
       " 'emline_gew_1re_nii_6585': 10.961,\n",
       " 'emline_gew_1re_sii_6718': 4.30393,\n",
       " 'emline_gew_1re_sii_6732': 3.03167,\n",
       " 'emline_gew_peak_oii_3727': 81.7699,\n",
       " 'emline_gew_peak_oii_3729': 47.9409,\n",
       " 'emline_gew_peak_hthe_3798': 25.8161,\n",
       " 'emline_gew_peak_heta_3836': 19.8707,\n",
       " 'emline_gew_peak_neiii_3869': 39.4136,\n",
       " 'emline_gew_peak_hzet_3890': 57.0011,\n",
       " 'emline_gew_peak_neiii_3968': 10.7675,\n",
       " 'emline_gew_peak_heps_3971': 19.1801,\n",
       " 'emline_gew_peak_hdel_4102': 15.1338,\n",
       " 'emline_gew_peak_hgam_4341': 14.5215,\n",
       " 'emline_gew_peak_heii_4687': 15.5558,\n",
       " 'emline_gew_peak_hb_4862': 16.031,\n",
       " 'emline_gew_peak_oiii_4960': 3.51889,\n",
       " 'emline_gew_peak_oiii_5008': 9.51302,\n",
       " 'emline_gew_peak_hei_5877': 12.108,\n",
       " 'emline_gew_peak_oi_6302': 3.77613,\n",
       " 'emline_gew_peak_oi_6365': 1.35955,\n",
       " 'emline_gew_peak_nii_6549': 4.07574,\n",
       " 'emline_gew_peak_ha_6564': 38.9328,\n",
       " 'emline_gew_peak_nii_6585': 12.7555,\n",
       " 'emline_gew_peak_sii_6718': 8.06361,\n",
       " 'emline_gew_peak_sii_6732': 11.5143,\n",
       " 'specindex_lo_cn1': -0.385819,\n",
       " 'specindex_lo_cn2': -0.485568,\n",
       " 'specindex_lo_ca4227': -6.49659,\n",
       " 'specindex_lo_g4300': -4.76423,\n",
       " 'specindex_lo_fe4383': -8.18299,\n",
       " 'specindex_lo_ca4455': -9.57681,\n",
       " 'specindex_lo_fe4531': -6.77229,\n",
       " 'specindex_lo_c24668': -21.9193,\n",
       " 'specindex_lo_hb': -3.28381,\n",
       " 'specindex_lo_fe5015': -22.1422,\n",
       " 'specindex_lo_mg1': -0.0872268,\n",
       " 'specindex_lo_mg2': -0.105768,\n",
       " 'specindex_lo_mgb': -2.20914,\n",
       " 'specindex_lo_fe5270': -10.7289,\n",
       " 'specindex_lo_fe5335': -999.0,\n",
       " 'specindex_lo_fe5406': -7.10106,\n",
       " 'specindex_lo_fe5709': -11.7459,\n",
       " 'specindex_lo_fe5782': -8.23168,\n",
       " 'specindex_lo_nad': -10.7727,\n",
       " 'specindex_lo_tio1': -0.145828,\n",
       " 'specindex_lo_tio2': 0.00489405,\n",
       " 'specindex_lo_hdeltaa': -2.22777,\n",
       " 'specindex_lo_hgammaa': -13.2703,\n",
       " 'specindex_lo_hdeltaf': -2.32744,\n",
       " 'specindex_lo_hgammaf': -0.462504,\n",
       " 'specindex_lo_cahk': -40.765,\n",
       " 'specindex_lo_caii1': 0.0,\n",
       " 'specindex_lo_caii2': 0.0,\n",
       " 'specindex_lo_caii3': 0.0,\n",
       " 'specindex_lo_pa17': 0.0,\n",
       " 'specindex_lo_pa14': 0.0,\n",
       " 'specindex_lo_pa12': 0.0,\n",
       " 'specindex_lo_mgicvd': -5.94358,\n",
       " 'specindex_lo_naicvd': 0.0,\n",
       " 'specindex_lo_mgiir': 0.0,\n",
       " 'specindex_lo_fehcvd': -999.0,\n",
       " 'specindex_lo_nai': 0.0,\n",
       " 'specindex_lo_btio': -0.311019,\n",
       " 'specindex_lo_atio': -0.0977396,\n",
       " 'specindex_lo_cah1': -0.175425,\n",
       " 'specindex_lo_cah2': -0.211529,\n",
       " 'specindex_lo_naisdss': 0.0,\n",
       " 'specindex_lo_tio2sdss': -0.0248258,\n",
       " 'specindex_lo_d4000': 2.29264,\n",
       " 'specindex_lo_dn4000': 2.13209,\n",
       " 'specindex_lo_tiocvd': 0.709605,\n",
       " 'specindex_hi_cn1': 0.131247,\n",
       " 'specindex_hi_cn2': 0.136242,\n",
       " 'specindex_hi_ca4227': 7.47015,\n",
       " 'specindex_hi_g4300': 13.1993,\n",
       " 'specindex_hi_fe4383': 19.2254,\n",
       " 'specindex_hi_ca4455': 7.57996,\n",
       " 'specindex_hi_fe4531': 14.0339,\n",
       " 'specindex_hi_c24668': 13.1459,\n",
       " 'specindex_hi_hb': 9.76595,\n",
       " 'specindex_hi_fe5015': 10.447,\n",
       " 'specindex_hi_mg1': 0.175285,\n",
       " 'specindex_hi_mg2': 0.185942,\n",
       " 'specindex_hi_mgb': 7.80642,\n",
       " 'specindex_hi_fe5270': 7.04388,\n",
       " 'specindex_hi_fe5335': -999.0,\n",
       " 'specindex_hi_fe5406': 6.76932,\n",
       " 'specindex_hi_fe5709': 7.82672,\n",
       " 'specindex_hi_fe5782': 7.71598,\n",
       " 'specindex_hi_nad': 8.07816,\n",
       " 'specindex_hi_tio1': 0.175818,\n",
       " 'specindex_hi_tio2': 0.224572,\n",
       " 'specindex_hi_hdeltaa': 13.3157,\n",
       " 'specindex_hi_hgammaa': 12.8899,\n",
       " 'specindex_hi_hdeltaf': 8.13399,\n",
       " 'specindex_hi_hgammaf': 8.24157,\n",
       " 'specindex_hi_cahk': 39.6948,\n",
       " 'specindex_hi_caii1': 0.0,\n",
       " 'specindex_hi_caii2': 0.0,\n",
       " 'specindex_hi_caii3': 0.0,\n",
       " 'specindex_hi_pa17': 0.0,\n",
       " 'specindex_hi_pa14': 0.0,\n",
       " 'specindex_hi_pa12': 0.0,\n",
       " 'specindex_hi_mgicvd': 11.2776,\n",
       " 'specindex_hi_naicvd': 0.0,\n",
       " 'specindex_hi_mgiir': 0.0,\n",
       " 'specindex_hi_fehcvd': -999.0,\n",
       " 'specindex_hi_nai': 0.0,\n",
       " 'specindex_hi_btio': 0.133232,\n",
       " 'specindex_hi_atio': 0.182326,\n",
       " 'specindex_hi_cah1': 0.183453,\n",
       " 'specindex_hi_cah2': 0.134479,\n",
       " 'specindex_hi_naisdss': 0.0,\n",
       " 'specindex_hi_tio2sdss': 0.223624,\n",
       " 'specindex_hi_d4000': 3.61342,\n",
       " 'specindex_hi_dn4000': 3.31988,\n",
       " 'specindex_hi_tiocvd': 1.21371,\n",
       " 'specindex_lo_clip_cn1': -0.280524,\n",
       " 'specindex_lo_clip_cn2': -0.303259,\n",
       " 'specindex_lo_clip_ca4227': -3.15338,\n",
       " 'specindex_lo_clip_g4300': -4.76696,\n",
       " 'specindex_lo_clip_fe4383': -7.07412,\n",
       " 'specindex_lo_clip_ca4455': -5.24708,\n",
       " 'specindex_lo_clip_fe4531': -4.70908,\n",
       " 'specindex_lo_clip_c24668': -10.4835,\n",
       " 'specindex_lo_clip_hb': -0.581457,\n",
       " 'specindex_lo_clip_fe5015': -7.47642,\n",
       " 'specindex_lo_clip_mg1': -0.0719978,\n",
       " 'specindex_lo_clip_mg2': -0.0302495,\n",
       " 'specindex_lo_clip_mgb': -1.89058,\n",
       " 'specindex_lo_clip_fe5270': -4.5851,\n",
       " 'specindex_lo_clip_fe5335': -999.0,\n",
       " 'specindex_lo_clip_fe5406': -2.3743,\n",
       " 'specindex_lo_clip_fe5709': -4.47277,\n",
       " 'specindex_lo_clip_fe5782': -6.25382,\n",
       " 'specindex_lo_clip_nad': -4.24834,\n",
       " 'specindex_lo_clip_tio1': -0.129133,\n",
       " 'specindex_lo_clip_tio2': 0.00316684,\n",
       " 'specindex_lo_clip_hdeltaa': -1.13411,\n",
       " 'specindex_lo_clip_hgammaa': -9.22131,\n",
       " 'specindex_lo_clip_hdeltaf': -0.196434,\n",
       " 'specindex_lo_clip_hgammaf': -0.455337,\n",
       " 'specindex_lo_clip_cahk': -3.20679,\n",
       " 'specindex_lo_clip_caii1': 0.0,\n",
       " 'specindex_lo_clip_caii2': 0.0,\n",
       " 'specindex_lo_clip_caii3': 0.0,\n",
       " 'specindex_lo_clip_pa17': 0.0,\n",
       " 'specindex_lo_clip_pa14': 0.0,\n",
       " 'specindex_lo_clip_pa12': 0.0,\n",
       " 'specindex_lo_clip_mgicvd': -3.10888,\n",
       " 'specindex_lo_clip_naicvd': 0.0,\n",
       " 'specindex_lo_clip_mgiir': 0.0,\n",
       " 'specindex_lo_clip_fehcvd': -999.0,\n",
       " 'specindex_lo_clip_nai': 0.0,\n",
       " 'specindex_lo_clip_btio': -0.233497,\n",
       " 'specindex_lo_clip_atio': -0.0989413,\n",
       " 'specindex_lo_clip_cah1': -0.175536,\n",
       " 'specindex_lo_clip_cah2': -0.121976,\n",
       " 'specindex_lo_clip_naisdss': 0.0,\n",
       " 'specindex_lo_clip_tio2sdss': -0.0178701,\n",
       " 'specindex_lo_clip_d4000': 2.29061,\n",
       " 'specindex_lo_clip_dn4000': 2.13696,\n",
       " 'specindex_lo_clip_tiocvd': 0.738448,\n",
       " 'specindex_hi_clip_cn1': 0.0384814,\n",
       " 'specindex_hi_clip_cn2': 0.110505,\n",
       " 'specindex_hi_clip_ca4227': 5.70183,\n",
       " 'specindex_hi_clip_g4300': 12.8581,\n",
       " 'specindex_hi_clip_fe4383': 12.7337,\n",
       " 'specindex_hi_clip_ca4455': 5.89701,\n",
       " 'specindex_hi_clip_fe4531': 10.4785,\n",
       " 'specindex_hi_clip_c24668': 11.5595,\n",
       " 'specindex_hi_clip_hb': 6.33448,\n",
       " 'specindex_hi_clip_fe5015': 10.2687,\n",
       " 'specindex_hi_clip_mg1': 0.166036,\n",
       " 'specindex_hi_clip_mg2': 0.184872,\n",
       " 'specindex_hi_clip_mgb': 6.97964,\n",
       " 'specindex_hi_clip_fe5270': 6.44288,\n",
       " 'specindex_hi_clip_fe5335': -999.0,\n",
       " 'specindex_hi_clip_fe5406': 5.79711,\n",
       " 'specindex_hi_clip_fe5709': 5.73954,\n",
       " 'specindex_hi_clip_fe5782': 7.03384,\n",
       " 'specindex_hi_clip_nad': 7.65141,\n",
       " 'specindex_hi_clip_tio1': 0.155296,\n",
       " 'specindex_hi_clip_tio2': 0.193627,\n",
       " 'specindex_hi_clip_hdeltaa': 11.6962,\n",
       " 'specindex_hi_clip_hgammaa': 11.4393,\n",
       " 'specindex_hi_clip_hdeltaf': 7.36328,\n",
       " 'specindex_hi_clip_hgammaf': 7.32675,\n",
       " 'specindex_hi_clip_cahk': 29.4772,\n",
       " 'specindex_hi_clip_caii1': 0.0,\n",
       " 'specindex_hi_clip_caii2': 0.0,\n",
       " 'specindex_hi_clip_caii3': 0.0,\n",
       " 'specindex_hi_clip_pa17': 0.0,\n",
       " 'specindex_hi_clip_pa14': 0.0,\n",
       " 'specindex_hi_clip_pa12': 0.0,\n",
       " 'specindex_hi_clip_mgicvd': 7.97149,\n",
       " 'specindex_hi_clip_naicvd': 0.0,\n",
       " 'specindex_hi_clip_mgiir': 0.0,\n",
       " 'specindex_hi_clip_fehcvd': -999.0,\n",
       " 'specindex_hi_clip_nai': 0.0,\n",
       " 'specindex_hi_clip_btio': 0.134292,\n",
       " 'specindex_hi_clip_atio': 0.120311,\n",
       " 'specindex_hi_clip_cah1': 0.18148,\n",
       " 'specindex_hi_clip_cah2': 0.124943,\n",
       " 'specindex_hi_clip_naisdss': 0.0,\n",
       " 'specindex_hi_clip_tio2sdss': 0.170729,\n",
       " 'specindex_hi_clip_d4000': 2.81797,\n",
       " 'specindex_hi_clip_dn4000': 2.591,\n",
       " 'specindex_hi_clip_tiocvd': 1.19969,\n",
       " 'specindex_1re_cn1': -0.0864013,\n",
       " 'specindex_1re_cn2': -0.0437025,\n",
       " 'specindex_1re_ca4227': 0.581439,\n",
       " 'specindex_1re_g4300': 2.19867,\n",
       " 'specindex_1re_fe4383': 2.80762,\n",
       " 'specindex_1re_ca4455': 0.863865,\n",
       " 'specindex_1re_fe4531': 2.32275,\n",
       " 'specindex_1re_c24668': 4.10516,\n",
       " 'specindex_1re_hb': 3.24,\n",
       " 'specindex_1re_fe5015': 2.72222,\n",
       " 'specindex_1re_mg1': 0.0401765,\n",
       " 'specindex_1re_mg2': 0.115802,\n",
       " 'specindex_1re_mgb': 2.42074,\n",
       " 'specindex_1re_fe5270': 1.52689,\n",
       " 'specindex_1re_fe5335': -999.0,\n",
       " 'specindex_1re_fe5406': 1.38777,\n",
       " 'specindex_1re_fe5709': 0.869846,\n",
       " 'specindex_1re_fe5782': 1.12106,\n",
       " 'specindex_1re_nad': 1.97273,\n",
       " 'specindex_1re_tio1': 0.0231212,\n",
       " 'specindex_1re_tio2': 0.0514304,\n",
       " 'specindex_1re_hdeltaa': 4.05036,\n",
       " 'specindex_1re_hgammaa': 1.67876,\n",
       " 'specindex_1re_hdeltaf': 3.57781,\n",
       " 'specindex_1re_hgammaf': 2.70133,\n",
       " 'specindex_1re_cahk': 11.2445,\n",
       " 'specindex_1re_caii1': 1.26339,\n",
       " 'specindex_1re_caii2': 4.18618,\n",
       " 'specindex_1re_caii3': 2.8872,\n",
       " 'specindex_1re_pa17': 0.0824072,\n",
       " 'specindex_1re_pa14': 0.135233,\n",
       " 'specindex_1re_pa12': 0.646918,\n",
       " 'specindex_1re_mgicvd': 2.89587,\n",
       " 'specindex_1re_naicvd': 0.305609,\n",
       " 'specindex_1re_mgiir': 0.645052,\n",
       " 'specindex_1re_fehcvd': -999.0,\n",
       " 'specindex_1re_nai': 0.984291,\n",
       " 'specindex_1re_btio': 0.00355249,\n",
       " 'specindex_1re_atio': 0.00551309,\n",
       " 'specindex_1re_cah1': 0.00279579,\n",
       " 'specindex_1re_cah2': 0.0115499,\n",
       " 'specindex_1re_naisdss': 0.446588,\n",
       " 'specindex_1re_tio2sdss': 0.0594138,\n",
       " 'specindex_1re_d4000': 1.52411,\n",
       " 'specindex_1re_dn4000': 1.33745,\n",
       " 'specindex_1re_tiocvd': 1.05346,\n",
       " 'sfr_1re': 0.0528483,\n",
       " 'sfr_tot': 0.138799,\n",
       " 'stellar_rchi2_1re': None,\n",
       " 'emline_rchi2_1re': None,\n",
       " 'emline_sflux_cen_hei_3889': None,\n",
       " 'emline_sflux_cen_ni_5199': None,\n",
       " 'emline_sflux_cen_ni_5201': None,\n",
       " 'emline_sflux_1re_hei_3889': None,\n",
       " 'emline_sflux_1re_ni_5199': None,\n",
       " 'emline_sflux_1re_ni_5201': None,\n",
       " 'emline_sflux_tot_hei_3889': None,\n",
       " 'emline_sflux_tot_ni_5199': None,\n",
       " 'emline_sflux_tot_ni_5201': None,\n",
       " 'emline_ssb_1re_hei_3889': None,\n",
       " 'emline_ssb_1re_ni_5199': None,\n",
       " 'emline_ssb_1re_ni_5201': None,\n",
       " 'emline_ssb_peak_hei_3889': None,\n",
       " 'emline_ssb_peak_ni_5199': None,\n",
       " 'emline_ssb_peak_ni_5201': None,\n",
       " 'emline_sew_1re_hei_3889': None,\n",
       " 'emline_sew_1re_ni_5199': None,\n",
       " 'emline_sew_1re_ni_5201': None,\n",
       " 'emline_sew_peak_hei_3889': None,\n",
       " 'emline_sew_peak_ni_5199': None,\n",
       " 'emline_sew_peak_ni_5201': None,\n",
       " 'emline_gflux_cen_hei_3889': None,\n",
       " 'emline_gflux_cen_ni_5199': None,\n",
       " 'emline_gflux_cen_ni_5201': None,\n",
       " 'emline_gflux_1re_hei_3889': None,\n",
       " 'emline_gflux_1re_ni_5199': None,\n",
       " 'emline_gflux_1re_ni_5201': None,\n",
       " 'emline_gflux_tot_hei_3889': None,\n",
       " 'emline_gflux_tot_ni_5199': None,\n",
       " 'emline_gflux_tot_ni_5201': None,\n",
       " 'emline_gsb_1re_hei_3889': None,\n",
       " 'emline_gsb_1re_ni_5199': None,\n",
       " 'emline_gsb_1re_ni_5201': None,\n",
       " 'emline_gsb_peak_hei_3889': None,\n",
       " 'emline_gsb_peak_ni_5199': None,\n",
       " 'emline_gsb_peak_ni_5201': None,\n",
       " 'emline_gew_1re_hei_3889': None,\n",
       " 'emline_gew_1re_ni_5199': None,\n",
       " 'emline_gew_1re_ni_5201': None,\n",
       " 'emline_gew_peak_hei_3889': None,\n",
       " 'emline_gew_peak_ni_5199': None,\n",
       " 'emline_gew_peak_ni_5201': None,\n",
       " 'emline_sflux_cen_h12_3751': None,\n",
       " 'emline_sflux_cen_h11_3771': None,\n",
       " 'emline_sflux_cen_hei_7067': None,\n",
       " 'emline_sflux_cen_ariii_7137': None,\n",
       " 'emline_sflux_cen_ariii_7753': None,\n",
       " 'emline_sflux_cen_peta_9017': None,\n",
       " 'emline_sflux_cen_siii_9071': None,\n",
       " 'emline_sflux_cen_pzet_9231': None,\n",
       " 'emline_sflux_cen_siii_9533': None,\n",
       " 'emline_sflux_cen_peps_9548': None,\n",
       " 'emline_sflux_1re_h12_3751': None,\n",
       " 'emline_sflux_1re_h11_3771': None,\n",
       " 'emline_sflux_1re_hei_7067': None,\n",
       " 'emline_sflux_1re_ariii_7137': None,\n",
       " 'emline_sflux_1re_ariii_7753': None,\n",
       " 'emline_sflux_1re_peta_9017': None,\n",
       " 'emline_sflux_1re_siii_9071': None,\n",
       " 'emline_sflux_1re_pzet_9231': None,\n",
       " 'emline_sflux_1re_siii_9533': None,\n",
       " 'emline_sflux_1re_peps_9548': None,\n",
       " 'emline_sflux_tot_h12_3751': None,\n",
       " 'emline_sflux_tot_h11_3771': None,\n",
       " 'emline_sflux_tot_hei_7067': None,\n",
       " 'emline_sflux_tot_ariii_7137': None,\n",
       " 'emline_sflux_tot_ariii_7753': None,\n",
       " 'emline_sflux_tot_peta_9017': None,\n",
       " 'emline_sflux_tot_siii_9071': None,\n",
       " 'emline_sflux_tot_pzet_9231': None,\n",
       " 'emline_sflux_tot_siii_9533': None,\n",
       " 'emline_sflux_tot_peps_9548': None,\n",
       " 'emline_ssb_1re_h12_3751': None,\n",
       " 'emline_ssb_1re_h11_3771': None,\n",
       " 'emline_ssb_1re_hei_7067': None,\n",
       " 'emline_ssb_1re_ariii_7137': None,\n",
       " 'emline_ssb_1re_ariii_7753': None,\n",
       " 'emline_ssb_1re_peta_9017': None,\n",
       " 'emline_ssb_1re_siii_9071': None,\n",
       " 'emline_ssb_1re_pzet_9231': None,\n",
       " 'emline_ssb_1re_siii_9533': None,\n",
       " 'emline_ssb_1re_peps_9548': None,\n",
       " 'emline_ssb_peak_h12_3751': None,\n",
       " 'emline_ssb_peak_h11_3771': None,\n",
       " 'emline_ssb_peak_hei_7067': None,\n",
       " 'emline_ssb_peak_ariii_7137': None,\n",
       " 'emline_ssb_peak_ariii_7753': None,\n",
       " 'emline_ssb_peak_peta_9017': None,\n",
       " 'emline_ssb_peak_siii_9071': None,\n",
       " 'emline_ssb_peak_pzet_9231': None,\n",
       " 'emline_ssb_peak_siii_9533': None,\n",
       " 'emline_ssb_peak_peps_9548': None,\n",
       " 'emline_sew_1re_h12_3751': None,\n",
       " 'emline_sew_1re_h11_3771': None,\n",
       " 'emline_sew_1re_hei_7067': None,\n",
       " 'emline_sew_1re_ariii_7137': None,\n",
       " 'emline_sew_1re_ariii_7753': None,\n",
       " 'emline_sew_1re_peta_9017': None,\n",
       " 'emline_sew_1re_siii_9071': None,\n",
       " 'emline_sew_1re_pzet_9231': None,\n",
       " 'emline_sew_1re_siii_9533': None,\n",
       " 'emline_sew_1re_peps_9548': None,\n",
       " 'emline_sew_peak_h12_3751': None,\n",
       " 'emline_sew_peak_h11_3771': None,\n",
       " 'emline_sew_peak_hei_7067': None,\n",
       " 'emline_sew_peak_ariii_7137': None,\n",
       " 'emline_sew_peak_ariii_7753': None,\n",
       " 'emline_sew_peak_peta_9017': None,\n",
       " 'emline_sew_peak_siii_9071': None,\n",
       " 'emline_sew_peak_pzet_9231': None,\n",
       " 'emline_sew_peak_siii_9533': None,\n",
       " 'emline_sew_peak_peps_9548': None,\n",
       " 'emline_gflux_cen_h12_3751': None,\n",
       " 'emline_gflux_cen_h11_3771': None,\n",
       " 'emline_gflux_cen_hei_7067': None,\n",
       " 'emline_gflux_cen_ariii_7137': None,\n",
       " 'emline_gflux_cen_ariii_7753': None,\n",
       " 'emline_gflux_cen_peta_9017': None,\n",
       " 'emline_gflux_cen_siii_9071': None,\n",
       " 'emline_gflux_cen_pzet_9231': None,\n",
       " 'emline_gflux_cen_siii_9533': None,\n",
       " 'emline_gflux_cen_peps_9548': None,\n",
       " 'emline_gflux_1re_h12_3751': None,\n",
       " 'emline_gflux_1re_h11_3771': None,\n",
       " 'emline_gflux_1re_hei_7067': None,\n",
       " 'emline_gflux_1re_ariii_7137': None,\n",
       " 'emline_gflux_1re_ariii_7753': None,\n",
       " 'emline_gflux_1re_peta_9017': None,\n",
       " 'emline_gflux_1re_siii_9071': None,\n",
       " 'emline_gflux_1re_pzet_9231': None,\n",
       " 'emline_gflux_1re_siii_9533': None,\n",
       " 'emline_gflux_1re_peps_9548': None,\n",
       " 'emline_gflux_tot_h12_3751': None,\n",
       " 'emline_gflux_tot_h11_3771': None,\n",
       " 'emline_gflux_tot_hei_7067': None,\n",
       " 'emline_gflux_tot_ariii_7137': None,\n",
       " 'emline_gflux_tot_ariii_7753': None,\n",
       " 'emline_gflux_tot_peta_9017': None,\n",
       " 'emline_gflux_tot_siii_9071': None,\n",
       " 'emline_gflux_tot_pzet_9231': None,\n",
       " 'emline_gflux_tot_siii_9533': None,\n",
       " 'emline_gflux_tot_peps_9548': None,\n",
       " 'emline_gsb_1re_h12_3751': None,\n",
       " 'emline_gsb_1re_h11_3771': None,\n",
       " 'emline_gsb_1re_hei_7067': None,\n",
       " 'emline_gsb_1re_ariii_7137': None,\n",
       " 'emline_gsb_1re_ariii_7753': None,\n",
       " 'emline_gsb_1re_peta_9017': None,\n",
       " 'emline_gsb_1re_siii_9071': None,\n",
       " 'emline_gsb_1re_pzet_9231': None,\n",
       " 'emline_gsb_1re_siii_9533': None,\n",
       " 'emline_gsb_1re_peps_9548': None,\n",
       " 'emline_gsb_peak_h12_3751': None,\n",
       " 'emline_gsb_peak_h11_3771': None,\n",
       " 'emline_gsb_peak_hei_7067': None,\n",
       " 'emline_gsb_peak_ariii_7137': None,\n",
       " 'emline_gsb_peak_ariii_7753': None,\n",
       " 'emline_gsb_peak_peta_9017': None,\n",
       " 'emline_gsb_peak_siii_9071': None,\n",
       " 'emline_gsb_peak_pzet_9231': None,\n",
       " 'emline_gsb_peak_siii_9533': None,\n",
       " 'emline_gsb_peak_peps_9548': None,\n",
       " 'emline_gew_1re_h12_3751': None,\n",
       " 'emline_gew_1re_h11_3771': None,\n",
       " 'emline_gew_1re_hei_7067': None,\n",
       " 'emline_gew_1re_ariii_7137': None,\n",
       " 'emline_gew_1re_ariii_7753': None,\n",
       " 'emline_gew_1re_peta_9017': None,\n",
       " 'emline_gew_1re_siii_9071': None,\n",
       " 'emline_gew_1re_pzet_9231': None,\n",
       " 'emline_gew_1re_siii_9533': None,\n",
       " 'emline_gew_1re_peps_9548': None,\n",
       " 'emline_gew_peak_h12_3751': None,\n",
       " 'emline_gew_peak_h11_3771': None,\n",
       " 'emline_gew_peak_hei_7067': None,\n",
       " 'emline_gew_peak_ariii_7137': None,\n",
       " 'emline_gew_peak_ariii_7753': None,\n",
       " 'emline_gew_peak_peta_9017': None,\n",
       " 'emline_gew_peak_siii_9071': None,\n",
       " 'emline_gew_peak_pzet_9231': None,\n",
       " 'emline_gew_peak_siii_9533': None,\n",
       " 'emline_gew_peak_peps_9548': None}"
      ]
     },
     "execution_count": 32,
     "metadata": {},
     "output_type": "execute_result"
    }
   ],
   "source": [
    "# look at the DAP all properties from the maps instance\n",
    "maps.dapall"
   ]
  },
  {
   "cell_type": "markdown",
   "metadata": {},
   "source": [
    "SDSS members produce Value-Added Catalogs (VACS) of MaNGA products.  These products can be incorporated into Marvin.  Any incorporated VACS in Marvin are contained in the ``vacs`` attribute attached to each tool.  More information on VACs in Marvin can be found [here](https://sdss-marvin.readthedocs.io/en/stable/tools/catalogues.html#value-added-catalogs-vacs).  Currently the MaNGA-HI VAC for DR15 has been contributed into Marvin.  Let's take a look at it.  "
   ]
  },
  {
   "cell_type": "code",
   "execution_count": 33,
   "metadata": {
    "execution": {
     "iopub.execute_input": "2021-12-05T21:56:29.070287Z",
     "iopub.status.busy": "2021-12-05T21:56:29.069578Z",
     "iopub.status.idle": "2021-12-05T21:56:29.083357Z",
     "shell.execute_reply": "2021-12-05T21:56:29.081133Z",
     "shell.execute_reply.started": "2021-12-05T21:56:29.070194Z"
    }
   },
   "outputs": [
    {
     "data": {
      "text/plain": [
       "<VACContainer ('firefly', 'galaxyzoo', 'gema', 'HI', 'visual_morphology')>"
      ]
     },
     "execution_count": 33,
     "metadata": {},
     "output_type": "execute_result"
    }
   ],
   "source": [
    "# access the available VACs for this object\n",
    "vacs = cube.vacs\n",
    "vacs"
   ]
  },
  {
   "cell_type": "markdown",
   "metadata": {},
   "source": [
    "**vacs** is a container (list) of all names of the vacs contributed into Marvin.  These names are dottable to access to vac data.  These contributed custom products can be of any format chosen by the VAC owner, a Python class, a dictionary, an array, etc.  "
   ]
  },
  {
   "cell_type": "code",
   "execution_count": 35,
   "metadata": {
    "execution": {
     "iopub.execute_input": "2021-12-05T21:56:44.067797Z",
     "iopub.status.busy": "2021-12-05T21:56:44.067107Z",
     "iopub.status.idle": "2021-12-05T21:56:45.709674Z",
     "shell.execute_reply": "2021-12-05T21:56:45.707506Z",
     "shell.execute_reply.started": "2021-12-05T21:56:44.067744Z"
    },
    "tags": []
   },
   "outputs": [
    {
     "name": "stdout",
     "output_type": "stream",
     "text": [
      "Target(8485-1901)\n",
      "data type: <class 'marvin.contrib.vacs.hi.HITarget'>\n"
     ]
    },
    {
     "data": {
      "text/plain": [
       "'No data exists for 8485-1901'"
      ]
     },
     "execution_count": 35,
     "metadata": {},
     "output_type": "execute_result"
    }
   ],
   "source": [
    "# access the mangahi vac\n",
    "hi = vacs.HI\n",
    "print(hi)\n",
    "print('data type:', type(hi))\n",
    "\n",
    "# access any HI data available for 8485-1901\n",
    "hi.data"
   ]
  },
  {
   "cell_type": "markdown",
   "metadata": {},
   "source": [
    "Let's load HI data for another galaxy"
   ]
  },
  {
   "cell_type": "code",
   "execution_count": 37,
   "metadata": {
    "execution": {
     "iopub.execute_input": "2021-12-05T21:56:52.069324Z",
     "iopub.status.busy": "2021-12-05T21:56:52.068633Z",
     "iopub.status.idle": "2021-12-05T21:56:52.278180Z",
     "shell.execute_reply": "2021-12-05T21:56:52.276317Z",
     "shell.execute_reply.started": "2021-12-05T21:56:52.069271Z"
    },
    "tags": []
   },
   "outputs": [
    {
     "name": "stderr",
     "output_type": "stream",
     "text": [
      "Exception ignored in: <function MarvinToolsClass.__del__ at 0x7fa7e80e6310>\n",
      "Traceback (most recent call last):\n",
      "  File \"/home/idies/miniconda3/envs/py38/lib/python3.8/site-packages/marvin/tools/core.py\", line 253, in __del__\n",
      "    self.close()\n",
      "  File \"/home/idies/miniconda3/envs/py38/lib/python3.8/site-packages/marvin/tools/core.py\", line 240, in close\n",
      "    if self.source_is_fits_hdulist:\n",
      "AttributeError: 'Cube' object has no attribute 'source_is_fits_hdulist'\n"
     ]
    },
    {
     "name": "stdout",
     "output_type": "stream",
     "text": [
      "Target(7443-12701)\n",
      "[('7443-12701', '12-98126', 230.5074624, 43.53234133, 6139, '16A-14', 767.4, 1.76, 8.82, -999., -999., -999., -999., -999, -999., -999, -999, -999, -999, -999, -999., -999., -999., -999., -999., -999.)]\n"
     ]
    }
   ],
   "source": [
    "c = Cube('7443-12701')\n",
    "hi = c.vacs.HI\n",
    "print(hi)\n",
    "print(hi.data)"
   ]
  },
  {
   "cell_type": "markdown",
   "metadata": {},
   "source": [
    "We can plot the HI spectrum for the object with the `plot_spectrum` method."
   ]
  },
  {
   "cell_type": "code",
   "execution_count": 38,
   "metadata": {
    "execution": {
     "iopub.execute_input": "2021-12-05T21:56:54.314897Z",
     "iopub.status.busy": "2021-12-05T21:56:54.314181Z",
     "iopub.status.idle": "2021-12-05T21:56:54.872417Z",
     "shell.execute_reply": "2021-12-05T21:56:54.870759Z",
     "shell.execute_reply.started": "2021-12-05T21:56:54.314845Z"
    }
   },
   "outputs": [
    {
     "data": {
      "text/plain": [
       "<AxesSubplot:title={'center':'7443-12701'}, xlabel='$\\\\mathrm{Velocity}\\\\,[$$\\\\mathrm{\\\\frac{km}{s}}$$]$', ylabel='$\\\\mathrm{HI\\\\ Flux}\\\\,[$$\\\\mathrm{Jy}$$]$'>"
      ]
     },
     "execution_count": 38,
     "metadata": {},
     "output_type": "execute_result"
    },
    {
     "data": {
      "image/png": "[encoded data removed]",
      "text/plain": [
       "<Figure size 432x288 with 1 Axes>"
      ]
     },
     "metadata": {},
     "output_type": "display_data"
    }
   ],
   "source": [
    "hi.plot_spectrum()"
   ]
  },
  {
   "cell_type": "markdown",
   "metadata": {},
   "source": [
    "<a id=\"spaxels\"></a>\n",
    "### Interacting with Spaxels\n",
    "All of the core Marvin Galaxy Tools have the ability to extract one ore more ``Spaxel`` objects.  ``Spaxel`` objects are special Marvin objects to make it easier to deal with individual spaxels in galaxies and access their properties.  See the [Getting Started with Spaxels](https://sdss-marvin.readthedocs.io/en/stable/tools/spaxel.html#marvin-spaxel) for more information on how to interact with ``Spaxels``.  We can either use the standard array slicing notation (0-indexed, origin of coordinates in the lower left corner of the array)"
   ]
  },
  {
   "cell_type": "code",
   "execution_count": 39,
   "metadata": {
    "execution": {
     "iopub.execute_input": "2021-12-05T21:56:57.179840Z",
     "iopub.status.busy": "2021-12-05T21:56:57.179067Z",
     "iopub.status.idle": "2021-12-05T21:56:57.496279Z",
     "shell.execute_reply": "2021-12-05T21:56:57.494424Z",
     "shell.execute_reply.started": "2021-12-05T21:56:57.179787Z"
    }
   },
   "outputs": [
    {
     "data": {
      "text/plain": [
       "<Marvin Spaxel (plateifu=8485-1901, x=10, y=15; x_cen=-7, y_cen=-2, loaded=cube)>"
      ]
     },
     "execution_count": 39,
     "metadata": {},
     "output_type": "execute_result"
    }
   ],
   "source": [
    "# extract the spaxel at array index x=10, y=15\n",
    "spaxel = cube[15, 10]\n",
    "spaxel"
   ]
  },
  {
   "cell_type": "markdown",
   "metadata": {},
   "source": [
    "or we can use ``getSpaxel`` method, which accepts multiple arguments. Note that by default, (x, y) coordinates passed to ``getSpaxel`` are measured from the center of the array."
   ]
  },
  {
   "cell_type": "code",
   "execution_count": 40,
   "metadata": {
    "execution": {
     "iopub.execute_input": "2021-12-05T21:56:58.332672Z",
     "iopub.status.busy": "2021-12-05T21:56:58.331934Z",
     "iopub.status.idle": "2021-12-05T21:56:58.367740Z",
     "shell.execute_reply": "2021-12-05T21:56:58.365355Z",
     "shell.execute_reply.started": "2021-12-05T21:56:58.332620Z"
    }
   },
   "outputs": [
    {
     "data": {
      "text/plain": [
       "<Marvin Spaxel (plateifu=8485-1901, x=17, y=17; x_cen=0, y_cen=0, loaded=cube)>"
      ]
     },
     "execution_count": 40,
     "metadata": {},
     "output_type": "execute_result"
    }
   ],
   "source": [
    "# get the spaxel at the center of the target galaxy\n",
    "central_spaxel = cube.getSpaxel(x=0, y=0)\n",
    "central_spaxel"
   ]
  },
  {
   "cell_type": "code",
   "execution_count": 41,
   "metadata": {
    "execution": {
     "iopub.execute_input": "2021-12-05T21:56:59.065064Z",
     "iopub.status.busy": "2021-12-05T21:56:59.064407Z",
     "iopub.status.idle": "2021-12-05T21:56:59.865472Z",
     "shell.execute_reply": "2021-12-05T21:56:59.863138Z",
     "shell.execute_reply.started": "2021-12-05T21:56:59.064995Z"
    }
   },
   "outputs": [
    {
     "data": {
      "text/plain": [
       "<AxesSubplot:xlabel='$\\\\mathrm{Wavelength}\\\\,[$$\\\\mathrm{\\\\mathring{A}}$$]$', ylabel='$\\\\mathrm{Flux}\\\\,[$$\\\\mathrm{1 \\\\times 10^{-17}\\\\,erg\\\\,\\\\mathring{A}^{-1}\\\\,s^{-1}\\\\,spaxel^{-1}\\\\,cm^{-2}}$$]$'>"
      ]
     },
     "execution_count": 41,
     "metadata": {},
     "output_type": "execute_result"
    },
    {
     "data": {
      "image/png": "[encoded data removed]",
      "text/plain": [
       "<Figure size 432x288 with 1 Axes>"
      ]
     },
     "metadata": {},
     "output_type": "display_data"
    }
   ],
   "source": [
    "# we can plot the spectrum of the spaxel\n",
    "spaxel.flux.plot()"
   ]
  },
  {
   "cell_type": "code",
   "execution_count": null,
   "metadata": {},
   "outputs": [],
   "source": []
  },
  {
   "cell_type": "markdown",
   "metadata": {},
   "source": [
    "### Additional Resources\n",
    "\n",
    "- Go through the [Lean Tutorial](https://sdss-marvin.readthedocs.io/en/latest/tutorials/lean-tutorial.html#marvin-lean-tutorial)\n",
    "- Learn more [Plotting Techniques](https://sdss-marvin.readthedocs.io/en/latest/tutorials/plotting-tutorial.html)\n",
    "- Dig into the [Galaxy Tools](https://sdss-marvin.readthedocs.io/en/latest/tools/index.html) in more detail.\n",
    "- Try out [Marvin Queries](https://sdss-marvin.readthedocs.io/en/latest/query/index.html)"
   ]
  },
  {
   "cell_type": "code",
   "execution_count": null,
   "metadata": {},
   "outputs": [],
   "source": []
  }
 ],
 "metadata": {
  "anaconda-cloud": {},
  "kernelspec": {
   "display_name": "Python 3.8 (py38)",
   "language": "python",
   "name": "py38"
  },
  "language_info": {
   "codemirror_mode": {
    "name": "ipython",
    "version": 3
   },
   "file_extension": ".py",
   "mimetype": "text/x-python",
   "name": "python",
   "nbconvert_exporter": "python",
   "pygments_lexer": "ipython3",
   "version": "3.8.5"
  }
 },
 "nbformat": 4,
 "nbformat_minor": 4
}
