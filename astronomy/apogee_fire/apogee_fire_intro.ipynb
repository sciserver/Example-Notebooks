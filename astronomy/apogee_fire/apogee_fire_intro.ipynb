{
 "cells": [
  {
   "cell_type": "markdown",
   "metadata": {},
   "source": [
    "# APOGEE on FIRE on SciServer\n",
    "\n",
    "SciServer now hosts both the raw fits files (via SAS) and database versions (via Casjobs) of the APOGEE-on-FIRE VAC for SDSS DR17 (see\n",
    "https://www.sdss.org/dr17/data_access/value-added-catalogs/?vac_id=apogee-on-fire-simulation-mocks)\n",
    "\n",
    "This notebook presents a breif tutorial on how to access the APOGEE-FIRE database using the SciServer CasJobs client, and presents some information on what is contained in the catalog."
   ]
  },
  {
   "cell_type": "code",
   "execution_count": null,
   "metadata": {},
   "outputs": [],
   "source": [
    "import pandas as pd\n",
    "import numpy as np\n",
    "from matplotlib import pyplot as plt\n",
    "from SciServer import CasJobs as cj"
   ]
  },
  {
   "cell_type": "markdown",
   "metadata": {},
   "source": [
    "### APOGEE-FIRE databoase context\n",
    "\n",
    "All catalog tables exist in a database context, which is a unit of access in CasJobs. The default database context in CasJobs is MyDB (your personal storage space and staging area), so we must specify the desired context to query APOGEE-FIRE - which will be passed to queries below."
   ]
  },
  {
   "cell_type": "code",
   "execution_count": null,
   "metadata": {},
   "outputs": [],
   "source": [
    "db_context = 'apogee_fire_test'"
   ]
  },
  {
   "cell_type": "markdown",
   "metadata": {},
   "source": [
    "### Simulation tables\n",
    "\n",
    "The Apogee-FIRE suite has 4 simulated catalogs in each of 3 milky-way-like galaxy, 3 full catalogs for different local standard of rest (LSR) locations, and one 1%-sampled test catalog at one of the LSR positions - for a total of 12 tables containing over 40B records."
   ]
  },
  {
   "cell_type": "code",
   "execution_count": null,
   "metadata": {
    "scrolled": true
   },
   "outputs": [],
   "source": [
    "pd.DataFrame(cj.getTables(db_context)).query('Name.str.contains(\"m12\")', engine='python')"
   ]
  },
  {
   "cell_type": "markdown",
   "metadata": {},
   "source": [
    "### Explore schema\n",
    "\n",
    "Each table has over 130 columns. These are largely grouped by type of measurement in the naming scheme, so we can vizualize a tree structure of columns in the dataset. This is mostly an exercise for fun :)\n",
    "\n",
    "For more details on the columns see (research note reference, if available)"
   ]
  },
  {
   "cell_type": "code",
   "execution_count": null,
   "metadata": {},
   "outputs": [],
   "source": [
    "schema = cj.executeQuery('SELECT TOP 1 * FROM m12f_test WHERE parallax > 0 AND feh_apogee IS NOT NULL', db_context)\n",
    "len(schema.columns)"
   ]
  },
  {
   "cell_type": "markdown",
   "metadata": {},
   "source": [
    "to make the vizualization, we use the graphviz package, so install dependencies using pip. The capture magic makes things less verbose"
   ]
  },
  {
   "cell_type": "code",
   "execution_count": null,
   "metadata": {},
   "outputs": [],
   "source": [
    "%%capture \n",
    "%pip install graphviz pydot"
   ]
  },
  {
   "cell_type": "code",
   "execution_count": null,
   "metadata": {},
   "outputs": [],
   "source": [
    "import pydot, graphviz\n",
    "def create_tree_view(df, filt=lambda x: True):\n",
    "    graph = pydot.Dot()\n",
    "    graph.add_node(pydot.Node('root', shape='box'))\n",
    "    for c in [c for c in df.columns if filt(c)]:\n",
    "        i = c.split('_')\n",
    "        for j in range(len(i)):\n",
    "            n = '_'.join(i[:j+1])\n",
    "            dt = df[n].dtype if n in df else ''\n",
    "            nl = i[j]\n",
    "            if not graph.get_node(n):\n",
    "                c = 'palegreen1' if 'true' in n else 'khaki1' if 'obs' in n else 'coral' if 'error' in n else ''\n",
    "                s = 'filled' if c else 'dashed' if j != len(i) - 1 else ''\n",
    "                graph.add_node(pydot.Node(n, label=f'{n}\\n{dt}', shape='box', fontsize='7', fillcolor=c, style=s))\n",
    "            src = 'root' if j == 0 else '_'.join(i[:j])\n",
    "            if not graph.get_edge(src, n):\n",
    "                graph.add_edge(pydot.Edge(src, n, weight='1.2', color='gray'))\n",
    "    graph.set_ranksep('0.2')\n",
    "    graph.set_nodesep('0.2')\n",
    "    return graph"
   ]
  },
  {
   "cell_type": "code",
   "execution_count": null,
   "metadata": {
    "scrolled": false
   },
   "outputs": [],
   "source": [
    "graphviz.Source(create_tree_view(schema).to_string())\n",
    "# Or try with a filter on columns:\n",
    "#graphviz.Source(create_tree_view(schema, lambda x: x.startswith('v')).to_string())"
   ]
  },
  {
   "cell_type": "markdown",
   "metadata": {},
   "source": [
    "### Generate Toomre-diagram for \"local\" stellar population\n",
    "\n",
    "Select those stars that are within 3 kpc observered heliocentric distance, and magnitude limited to 17 in G. In order to get good dynamic range on the abundance plot, we discard those stars with very low metallicity (which comprise a very small portion). Given the dataset size, for some queries it will be infeasible to download all records to work with locally, so in this case we offload the 2-d histogram binning to CasJobs, calculating stellar density and mean [FE/H] on a 1 km/s x 1 km/s grid in velocity, which can then be plotted using matplotlib's hexbin"
   ]
  },
  {
   "cell_type": "code",
   "execution_count": null,
   "metadata": {},
   "outputs": [],
   "source": [
    "sql = '''\n",
    "SELECT count(*) N\n",
    "FROM m12f_lsr0\n",
    "WHERE dhel_obs BETWEEN 0 AND 3 AND phot_g_mean_mag < 17 AND vrho_cyl_obs IS NOT NULL AND feh_apogee > -2\n",
    "'''\n",
    "cj.executeQuery(sql, db_context).N"
   ]
  },
  {
   "cell_type": "code",
   "execution_count": null,
   "metadata": {
    "scrolled": true
   },
   "outputs": [],
   "source": [
    "sql = '''\n",
    "SELECT t_Y, t_X, COUNT(*) AS N, AVG(FEH) AS FEH\n",
    "FROM (\n",
    "    SELECT FLOOR(SQRT((POWER(U, 2) + POWER(W, 2)))) AS t_Y, FLOOR(V) as t_X, FEH\n",
    "    FROM (\n",
    "      SELECT vrho_cyl_obs AS U, vphi_cyl_obs AS V, vz_cyl_obs AS W, feh_apogee AS FEH\n",
    "      FROM m12f_lsr1\n",
    "      WHERE dhel_obs BETWEEN 0 AND 3 AND phot_g_mean_mag < 17 AND vrho_cyl_obs IS NOT NULL AND feh_apogee > -2\n",
    "    ) AS unbinned\n",
    ") AS binned\n",
    "GROUP BY t_Y, t_X\n",
    "'''\n",
    "toomre_data = cj.executeQuery(sql, db_context)\n",
    "toomre_data.head(3)"
   ]
  },
  {
   "cell_type": "code",
   "execution_count": null,
   "metadata": {},
   "outputs": [],
   "source": [
    "f,a = plt.subplots(1, 2, figsize=[16, 6])\n",
    "div_r = np.arange(-np.pi / 2 , np.pi / 2, 0.05)\n",
    "div_x = 220 + 220 * np.sin(div_r)\n",
    "div_y = 220 * np.cos(div_r)\n",
    "plt.sca(a[0])\n",
    "plt.hexbin(toomre_data.t_X, toomre_data.t_Y, C=toomre_data.N, mincnt=1, bins='log', cmap='jet')\n",
    "plt.plot(div_x, div_y, c='silver', lw=3, ls='--')\n",
    "plt.xlabel(r'V$_\\phi$')\n",
    "plt.ylabel(r'$\\sqrt{V_\\rho^{2} + V_z^{2}}$')\n",
    "plt.colorbar(label='Density')\n",
    "plt.sca(a[1])\n",
    "plt.hexbin(toomre_data.t_X, toomre_data.t_Y, C=toomre_data.FEH, cmap='jet')\n",
    "plt.plot(div_x, div_y, c='k', lw=3, ls='--')\n",
    "plt.xlabel(r'V$_\\phi$')\n",
    "plt.ylabel(r'$\\sqrt{V_\\rho^{2} + V_z^{2}}$')\n",
    "_ = plt.colorbar(label='mean [Fe/H]')"
   ]
  },
  {
   "cell_type": "markdown",
   "metadata": {},
   "source": [
    "### Alpha-FE relationship\n",
    "\n",
    "Using a similar binning scheme, but selecting a resolution of 0.001 dex for binning we can plot the alpha (using [MG/FE] as proxy) to Fe trend in the same stellar population."
   ]
  },
  {
   "cell_type": "code",
   "execution_count": null,
   "metadata": {
    "scrolled": true
   },
   "outputs": [],
   "source": [
    "sql = '''\n",
    "SELECT MGFE, FEH, COUNT(*) AS N \n",
    "FROM (\n",
    " SELECT FLOOR(mgfe_apogee*1000)/1000 AS MGFE, FLOOR(feh_apogee*1000)/1000 as FEH \n",
    " FROM m12f_lsr0\n",
    " WHERE dhel_obs BETWEEN 0 AND 3 AND phot_g_mean_mag < 17 AND vrho_cyl_obs IS NOT NULL AND feh_apogee > -2\n",
    ") AS a\n",
    "GROUP BY MGFE, FEH\n",
    "'''\n",
    "mgfe = cj.executeQuery(sql, db_context)\n",
    "mgfe.head(3)"
   ]
  },
  {
   "cell_type": "code",
   "execution_count": null,
   "metadata": {
    "scrolled": false
   },
   "outputs": [],
   "source": [
    "from mpl_toolkits.axes_grid1.inset_locator import inset_axes, mark_inset\n",
    "plt.subplots(1, 1, figsize=[16, 8])\n",
    "plt.hexbin(mgfe.FEH, mgfe.MGFE, C=mgfe.N, mincnt=1, bins='log', gridsize=(400,400))\n",
    "plt.colorbar(label='Density')\n",
    "plt.xlabel('[FE/H] (dex)')\n",
    "plt.ylabel('[MG/FE] (dex)')\n",
    "outer = plt.gca()\n",
    "inset = inset_axes(outer, width='50%', height='40%', loc=3, borderpad=4)\n",
    "plt.sca(inset)\n",
    "plt.hexbin(mgfe.FEH, mgfe.MGFE, C=mgfe.N, mincnt=1, bins='log', gridsize=(600, 600))\n",
    "plt.xlim(-1,0.5), plt.ylim(0.1, 0.45)\n",
    "_ = mark_inset(outer, inset, loc1=2, loc2=4, ec='0.5')"
   ]
  },
  {
   "cell_type": "markdown",
   "metadata": {},
   "source": [
    "### Healpix IDs\n",
    "\n",
    "The catalog further contains healpix identifiers to aid in spatial searches and aggregations. The column `heal20id` are the pixel id in which the object lies on a map with *nside* of `2 ^ 20`.\n",
    "\n",
    "We can use this to downsample to another resoluton by deviding the pixel value by `(2^20)^2 / N**2`, where `N` is the desired value of *nside*. For example, we can create an all sky map by grouping by a downsampled pixel resolution, using the healpy visualization utilities.\n",
    "\n",
    "**Note** that the healpix ids are using a **Nested** scheme."
   ]
  },
  {
   "cell_type": "code",
   "execution_count": null,
   "metadata": {},
   "outputs": [],
   "source": [
    "%%capture\n",
    "%pip install healpy"
   ]
  },
  {
   "cell_type": "code",
   "execution_count": null,
   "metadata": {},
   "outputs": [],
   "source": [
    "import healpy"
   ]
  },
  {
   "cell_type": "markdown",
   "metadata": {},
   "source": [
    "calculate the downsample denominator, here we will get a map with *nside* of 64"
   ]
  },
  {
   "cell_type": "code",
   "execution_count": null,
   "metadata": {},
   "outputs": [],
   "source": [
    "nside = 64\n",
    "downsample =  int((2**20)**2 / nside**2)"
   ]
  },
  {
   "cell_type": "markdown",
   "metadata": {},
   "source": [
    "Here we use the test dataset since we cannot execute this query within the timeout for interactive queries on the larger dataset due to the calculations involved:"
   ]
  },
  {
   "cell_type": "code",
   "execution_count": null,
   "metadata": {},
   "outputs": [],
   "source": [
    "hpmap = cj.executeQuery(f'''\n",
    "SELECT hp, count(*) N, avg(feh) FEH FROM (\n",
    " SELECT heal20id / {downsample} as hp, feh_apogee as feh from m12f_test WHERE feh_apogee BETWEEN -1.5 AND 0.5\n",
    ") as A\n",
    "GROUP BY hp\n",
    "ORDER BY hp ASC\n",
    "''', db_context)"
   ]
  },
  {
   "cell_type": "code",
   "execution_count": null,
   "metadata": {},
   "outputs": [],
   "source": [
    "hpmap.shape"
   ]
  },
  {
   "cell_type": "markdown",
   "metadata": {},
   "source": [
    "#### Spatial density map\n",
    "\n",
    "For example, we can get the object counts spatially distributed"
   ]
  },
  {
   "cell_type": "code",
   "execution_count": null,
   "metadata": {},
   "outputs": [],
   "source": [
    "f = plt.figure(figsize=[14,6])\n",
    "healpy.visufunc.mollview(hpmap['N'], nest=True, norm='log', cmap='jet', fig=1)"
   ]
  },
  {
   "cell_type": "markdown",
   "metadata": {},
   "source": [
    "#### [FE/H] distribution\n",
    "\n",
    "Or we can plot the mean metallicity across spatial components of the galaxy"
   ]
  },
  {
   "cell_type": "code",
   "execution_count": null,
   "metadata": {},
   "outputs": [],
   "source": [
    "f = plt.figure(figsize=[14,6])\n",
    "healpy.visufunc.mollview(hpmap['FEH'], nest=True, norm=None, cmap='jet', fig=1)"
   ]
  },
  {
   "cell_type": "code",
   "execution_count": null,
   "metadata": {},
   "outputs": [],
   "source": []
  }
 ],
 "metadata": {
  "kernelspec": {
   "display_name": "Python 3.8 (py38)",
   "language": "python",
   "name": "py38"
  },
  "language_info": {
   "codemirror_mode": {
    "name": "ipython",
    "version": 3
   },
   "file_extension": ".py",
   "mimetype": "text/x-python",
   "name": "python",
   "nbconvert_exporter": "python",
   "pygments_lexer": "ipython3",
   "version": "3.8.5"
  },
  "sciserver": {
   "copySource": {
    "path": "apogee_fire_input_check",
    "volId": "49850",
    "volType": "uservolumes"
   },
   "imageInfo": {
    "cachedContainer": {
     "arik": 149473
    },
    "dataVolumes": [],
    "domain": 6,
    "name": "SciServer Essentials 2.0",
    "userVolumes": [
     49850,
     49851,
     92300
    ]
   },
   "lastEdit": {
    "time": 1653668464395,
    "user": "arik"
   },
   "notebookId": "YXJpazE2NTM0MjI2MjE2NjA="
  },
  "toc": {
   "base_numbering": 1,
   "nav_menu": {},
   "number_sections": false,
   "sideBar": false,
   "skip_h1_title": false,
   "title_cell": "Table of Contents",
   "title_sidebar": "Contents",
   "toc_cell": true,
   "toc_position": {
    "height": "47.6px",
    "left": "1237px",
    "top": "107.8px",
    "width": "159px"
   },
   "toc_section_display": false,
   "toc_window_display": false
  }
 },
 "nbformat": 4,
 "nbformat_minor": 4
}
