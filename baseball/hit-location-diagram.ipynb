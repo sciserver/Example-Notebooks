{
 "cells": [
  {
   "attachments": {},
   "cell_type": "markdown",
   "metadata": {},
   "source": [
    "# Baseball hit diagram\n",
    "This example notebook uses pandas and matplot to breakdown the most common location for a strike out.\n",
    "\n",
    "// Need to add more details about how arrays are manipulated to create sections.\n",
    "\n",
    "// Should we delete the results of python cells so new users don't know the result?"
   ]
  },
  {
   "attachments": {},
   "cell_type": "markdown",
   "metadata": {},
   "source": [
    "# Import needed modules"
   ]
  },
  {
   "cell_type": "code",
   "execution_count": 1,
   "metadata": {},
   "outputs": [
    {
     "ename": "ModuleNotFoundError",
     "evalue": "No module named 'pandas'",
     "output_type": "error",
     "traceback": [
      "\u001b[1;31m---------------------------------------------------------------------------\u001b[0m",
      "\u001b[1;31mModuleNotFoundError\u001b[0m                       Traceback (most recent call last)",
      "Cell \u001b[1;32mIn[1], line 2\u001b[0m\n\u001b[0;32m      1\u001b[0m \u001b[39mimport\u001b[39;00m \u001b[39mnumpy\u001b[39;00m \u001b[39mas\u001b[39;00m \u001b[39mnp\u001b[39;00m \n\u001b[1;32m----> 2\u001b[0m \u001b[39mimport\u001b[39;00m \u001b[39mpandas\u001b[39;00m \n\u001b[0;32m      3\u001b[0m \u001b[39mimport\u001b[39;00m \u001b[39mos\u001b[39;00m\n\u001b[0;32m      4\u001b[0m \u001b[39mimport\u001b[39;00m \u001b[39mre\u001b[39;00m\n",
      "\u001b[1;31mModuleNotFoundError\u001b[0m: No module named 'pandas'"
     ]
    }
   ],
   "source": [
    "import numpy as np \n",
    "import pandas \n",
    "import os\n",
    "import re\n",
    "import time\n",
    "import matplotlib.pyplot as plt\n",
    "import matplotlib as mpl\n",
    "pandas.set_option('max_colwidth', None)\n",
    "datadir = '/home/idies/workspace/getting_started/bigdata/baseball/seasons/'\n",
    "print('ok')"
   ]
  },
  {
   "attachments": {},
   "cell_type": "markdown",
   "metadata": {},
   "source": [
    "# Back up MLB season from bigdata/baseball"
   ]
  },
  {
   "cell_type": "code",
   "execution_count": 2,
   "metadata": {},
   "outputs": [
    {
     "name": "stdout",
     "output_type": "stream",
     "text": [
      "Reading events in the 2022 season...\n",
      "backing up...\n",
      "ok\n"
     ]
    }
   ],
   "source": [
    "events_df = pandas.DataFrame()\n",
    "events_by_season_files = sorted([datadir+x for x in os.listdir(datadir) if ('.csv' in x)])\n",
    "events_by_season_files\n",
    "for thisfile in events_by_season_files[-1:]:\n",
    "    print('Reading events in the {0:} season...'.format(int(thisfile[-10:-6])))\n",
    "    events_df = pandas.concat((events_df, pandas.read_csv(thisfile, low_memory=False, index_col='eventID')))\n",
    "print('backing up...')\n",
    "events_df_bk = events_df\n",
    "print('ok')"
   ]
  },
  {
   "attachments": {},
   "cell_type": "markdown",
   "metadata": {},
   "source": [
    "# Breakdown the results of each play"
   ]
  },
  {
   "cell_type": "code",
   "execution_count": 3,
   "metadata": {},
   "outputs": [
    {
     "name": "stdout",
     "output_type": "stream",
     "text": [
      "getting from backup...\n",
      "parsing events...\n",
      "backing up...\n",
      "\n",
      "\n",
      "214038\n",
      "event_type\n",
      "Field out           82804\n",
      "Strikeout           40812\n",
      "Field hit           34460\n",
      "No play             26673\n",
      "Walk                16973\n",
      "Non-batter event     5278\n",
      "Home run             5215\n",
      "Error                1118\n",
      "Fielders choice       705\n",
      "dtype: int64\n",
      "\n",
      "\n",
      "214038\n",
      "batter_hand\n",
      "R    128878\n",
      "L     85160\n",
      "dtype: int64\n",
      "\n",
      "\n",
      "82804\n",
      "batter_hand\n",
      "R    49731\n",
      "L    33073\n",
      "dtype: int64\n",
      "\n",
      "\n"
     ]
    }
   ],
   "source": [
    "print('getting from backup...')\n",
    "events_df = events_df_bk\n",
    "events_df = events_df.assign(parsed = False)\n",
    "events_df = events_df.assign(event_type = np.nan)\n",
    "\n",
    "print('parsing events...')\n",
    "events_df.loc[(events_df['theplay'] == 'NP') & (~events_df['parsed']), ['parsed', 'event_type']] = [True, 'No play']\n",
    "events_df.loc[(events_df['theplay'].apply(lambda x: str(x)[0:2] in ['SB', 'CS', 'PO', 'WP', 'PB', 'DI', 'OA', 'BK'])) & (~events_df['parsed']), ['parsed', 'event_type']] = [True, 'Non-batter event']\n",
    "events_df.loc[events_df['theplay'].apply(lambda x: x[0] == 'K')  & (~events_df['parsed']), ['parsed', 'event_type']] = [True, 'Strikeout']\n",
    "events_df.loc[events_df['theplay'].apply(lambda x: (x[0] == 'W') | (x[0:2] == 'IW') | (x[0:2] == 'HP') | (x[0] == 'C'))  & (~events_df['parsed']), ['parsed', 'event_type']] = [True, 'Walk']\n",
    "\n",
    "events_df.loc[events_df['theplay'].apply(lambda x: x[0:2] == 'HR')  & (~events_df['parsed']), ['parsed', 'event_type']] = [True, 'Home run']\n",
    "events_df.loc[events_df['theplay'].apply(lambda x: (x[0] == 'E') | (x[0:3] == 'FLE'))  & (~events_df['parsed']), ['parsed', 'event_type']] = [True, 'Error']\n",
    "events_df.loc[events_df['theplay'].apply(lambda x: x[0:2] == 'FC')  & (~events_df['parsed']), ['parsed', 'event_type']] = [True, 'Fielders choice']\n",
    "events_df.loc[events_df['theplay'].apply(lambda x: x[0] in ['S', 'D', 'T'])  & (~events_df['parsed']), ['parsed', 'event_type']] = [True, 'Field hit']\n",
    "\n",
    "events_df.loc[events_df['theplay'].apply(lambda x: re.match('^\\d+', x) != None)  & (~events_df['parsed']), ['parsed', 'event_type']] = [True, 'Field out']\n",
    "\n",
    "print('backing up...')\n",
    "events_df_bk = events_df\n",
    "\n",
    "print('\\n')\n",
    "print(len(events_df['event_type'].dropna()))\n",
    "print(events_df.groupby('event_type').size().sort_values(ascending=False))\n",
    "print('\\n')\n",
    "print(len(events_df['batter_hand'].dropna()))\n",
    "print(events_df.groupby('batter_hand').size().sort_values(ascending=False))\n",
    "print('\\n')\n",
    "print(len(events_df[(events_df['batter_hand'].notnull()) & (events_df['event_type'] == 'Field out')]))\n",
    "print(events_df[events_df['event_type'] == 'Field out'].groupby('batter_hand').size().sort_values(ascending=False))\n",
    "print('\\n')\n"
   ]
  },
  {
   "attachments": {},
   "cell_type": "markdown",
   "metadata": {},
   "source": [
    "# Filter out \"\" plays\n",
    "\n",
    "TODO(KoT17): Breakdown of what each acronym means"
   ]
  },
  {
   "cell_type": "code",
   "execution_count": 5,
   "metadata": {},
   "outputs": [
    {
     "name": "stdout",
     "output_type": "stream",
     "text": [
      "getting from backup...\n",
      "loading out info for field outs...\n",
      "\n",
      "\n",
      "removing (N)DP/TP  (n = 3,801)...\n",
      "removing INT (n = 28)...\n",
      "removing FO (n = 3,839)...\n",
      "removing IF/SF/SH (n = 2,397)...\n",
      "removing FL (n = 3,505)...\n",
      "removing TH (n = 1)...\n",
      "removing some special cases (n = 1)...\n",
      "finding and fixing bunts (n = 673)...\n",
      "finding and fixing speeds (n = 11,789)...\n",
      "backing up...\n",
      "\n",
      "\n",
      "Done in 9 seconds!\n"
     ]
    },
    {
     "data": {
      "text/plain": [
       "eventID\n",
       "15893544     P3D\n",
       "15893545      G4\n",
       "15893548    G34D\n",
       "15893553      L8\n",
       "15893560      L9\n",
       "            ... \n",
       "16107559    F7LD\n",
       "16107564      L8\n",
       "16107566     L8D\n",
       "16107570      G6\n",
       "16107576      G6\n",
       "Name: out_info, Length: 59557, dtype: object"
      ]
     },
     "execution_count": 5,
     "metadata": {},
     "output_type": "execute_result"
    }
   ],
   "source": [
    "s = time.time()\n",
    "print('getting from backup...')\n",
    "events_df = events_df_bk\n",
    "events_df = events_df.assign(out_info = np.nan)\n",
    "events_df = events_df.assign(edited = False)\n",
    "\n",
    "print('loading out info for field outs...')\n",
    "events_df.loc[events_df['event_type'] == 'Field out', 'out_info'] = events_df[events_df['event_type'] == 'Field out']['theplay'].apply(lambda x: '/'.join(str(x).split('/')[1:]))\n",
    "\n",
    "dp_re = re.compile('(\\/)*(L|G|N)*(D|T)+(P)+(\\/)*')\n",
    "ix = events_df[\n",
    "    (events_df['event_type'] == 'Field out') \n",
    "        & (events_df['out_info'].apply(lambda x: re.search(dp_re, str(x)) != None))\n",
    "].index\n",
    "\n",
    "print('\\n')\n",
    "print('removing (N)DP/TP  (n = {0:,.0f})...'.format(len(ix)))\n",
    "events_df.loc[ix, 'edited'] = True\n",
    "events_df.loc[ix, 'out_info'] = events_df[events_df.index.isin(ix)\n",
    "                                         ]['out_info'].apply(lambda x: re.sub(dp_re, '', str(x)))\n",
    "\n",
    "int_re = re.compile('(\\/)*(R|B)*(INT)+(\\/)*')\n",
    "ix = events_df[\n",
    "    (events_df['event_type'] == 'Field out') \n",
    "        & (events_df['out_info'].apply(lambda x: re.search(int_re, str(x)) != None))\n",
    "].index\n",
    "\n",
    "print('removing INT (n = {0:,.0f})...'.format(len(ix)))\n",
    "events_df.loc[ix, 'edited'] = True\n",
    "events_df.loc[ix, 'out_info'] = events_df[events_df.index.isin(ix)\n",
    "                                         ]['out_info'].apply(lambda x: re.sub(int_re, '', str(x)))\n",
    "\n",
    "fo_re = re.compile('(\\/)*(FO)+(\\/)*')\n",
    "ix = events_df[\n",
    "    (events_df['event_type'] == 'Field out') \n",
    "        & (events_df['out_info'].apply(lambda x: re.search(fo_re, str(x)) != None))\n",
    "].index\n",
    "\n",
    "print('removing FO (n = {0:,.0f})...'.format(len(ix)))\n",
    "events_df.loc[ix, 'edited'] = True\n",
    "events_df.loc[ix, 'out_info'] = events_df[events_df.index.isin(ix)\n",
    "                                         ]['out_info'].apply(lambda x: re.sub(fo_re, '', str(x)))\n",
    "\n",
    "if_sf_re = re.compile('(\\/)*(IF|SF|SH)+(\\/)*')\n",
    "ix = events_df[(events_df['event_type'] == 'Field out') & (events_df['out_info'].apply(lambda x: re.search(if_sf_re, str(x)) != None))].index\n",
    "\n",
    "print('removing IF/SF/SH (n = {0:,.0f})...'.format(len(ix)))\n",
    "events_df.loc[ix, 'edited'] = True\n",
    "events_df.loc[ix, 'out_info'] = events_df[events_df.index.isin(ix)\n",
    "                                         ]['out_info'].apply(lambda x: re.sub(if_sf_re, '', str(x)))\n",
    "\n",
    "fl_re = re.compile('(\\/)*(FL)+(\\/)*')\n",
    "ix = events_df[\n",
    "    (events_df['event_type'] == 'Field out') \n",
    "        & (events_df['out_info'].apply(lambda x: re.search(fl_re, str(x)) != None))\n",
    "].index\n",
    "\n",
    "print('removing FL (n = {0:,.0f})...'.format(len(ix)))\n",
    "events_df.loc[ix, 'edited'] = True\n",
    "events_df.loc[ix, 'out_info'] = events_df[events_df.index.isin(ix)\n",
    "                                         ]['out_info'].apply(lambda x: re.sub(fl_re, '', str(x)))\n",
    "\n",
    "th_re = re.compile('(\\/)*(TH)+(\\/)*')\n",
    "ix = events_df[\n",
    "    (events_df['event_type'] == 'Field out') \n",
    "        & (events_df['out_info'].apply(lambda x: re.search(th_re, str(x)) != None))\n",
    "].index\n",
    "\n",
    "print('removing TH (n = {0:,.0f})...'.format(len(ix)))\n",
    "events_df.loc[ix, 'edited'] = True\n",
    "events_df.loc[ix, 'out_info'] = events_df[events_df.index.isin(ix)\n",
    "                                         ]['out_info'].apply(lambda x: re.sub(th_re, '', str(x)))\n",
    "\n",
    "ix = events_df[events_df['theplay'] == '54/SH/25'].index\n",
    "print('removing some special cases (n = {0:,.0f})...'.format(len(ix)))\n",
    "events_df.loc[ix, 'edited'] = True\n",
    "events_df.loc[ix, 'out_info'] = ''\n",
    "\n",
    "events_df = events_df.assign(bunt = False)\n",
    "ix = events_df[\n",
    "    (events_df['event_type'] == 'Field out')\n",
    "    & (events_df['out_info'].apply(lambda x: re.search('^B+', str(x)) != None))\n",
    "].index\n",
    "print('finding and fixing bunts (n = {0:,.0f})...'.format(len(ix)))\n",
    "events_df.loc[ix, 'bunt'] = True\n",
    "events_df.loc[ix, 'edited'] = True\n",
    "events_df.loc[ix, 'out_info'] = events_df[events_df.index.isin(ix)]['out_info'].apply(lambda x: x[1:])\n",
    "\n",
    "events_df = events_df.assign(speed = np.nan)\n",
    "ix = events_df[\n",
    "    (events_df['event_type'] == 'Field out')\n",
    "    & (events_df['out_info'].apply(lambda x: re.search('(\\+|-)$', str(x)) != None))\n",
    "].index\n",
    "print('finding and fixing speeds (n = {0:,.0f})...'.format(len(ix)))\n",
    "events_df.loc[ix, 'speed'] = events_df[events_df.index.isin(ix)]['out_info'].apply(lambda x: x[-1])\n",
    "events_df.loc[ix, 'edited'] = True\n",
    "events_df.loc[ix, 'out_info'] = events_df[events_df.index.isin(ix)]['out_info'].apply(lambda x: x[:-1])\n",
    "\n",
    "\n",
    "print('backing up...')\n",
    "events_df_bk = events_df\n",
    "\n",
    "\n",
    "e = time.time()\n",
    "print('\\n')\n",
    "print('Done in {0:.0f} seconds!'.format(e-s))"
   ]
  },
  {
   "attachments": {},
   "cell_type": "markdown",
   "metadata": {},
   "source": [
    "# Determine the out type and location"
   ]
  },
  {
   "cell_type": "code",
   "execution_count": 6,
   "metadata": {},
   "outputs": [
    {
     "name": "stdout",
     "output_type": "stream",
     "text": [
      "getting from backup...\n",
      "Finding out types and out locations...\n",
      "\n",
      "\n",
      "Done in 2 seconds!\n"
     ]
    }
   ],
   "source": [
    "s = time.time()\n",
    "print('getting from backup...')\n",
    "events_df = events_df_bk\n",
    "\n",
    "print('Finding out types and out locations...')\n",
    "events_df = events_df.assign(out_type = np.nan)\n",
    "events_df = events_df.assign(out_loc = np.nan)\n",
    "\n",
    "events_df.loc[\n",
    "    (events_df['event_type'] == 'Field out')\n",
    "    & (events_df['out_info'].apply(lambda x: len(str(x)) > 0))\n",
    "    , 'out_type'] = events_df[(events_df['event_type'] == 'Field out') & (events_df['out_info'].apply(lambda x: len(str(x)) > 0))]['out_info'].apply(lambda x: x[0])\n",
    "\n",
    "events_df.loc[\n",
    "    (events_df['event_type'] == 'Field out')\n",
    "    & (events_df['out_info'].apply(lambda x: len(str(x)) > 0))\n",
    "    , 'out_loc'] = events_df[(events_df['event_type'] == 'Field out') & (events_df['out_info'].apply(lambda x: len(str(x)) > 0))]['out_info'].apply(lambda x: x[1:])\n",
    "\n",
    "e = time.time()\n",
    "print('\\n')\n",
    "print('Done in {0:.0f} seconds!'.format(e-s))"
   ]
  },
  {
   "attachments": {},
   "cell_type": "markdown",
   "metadata": {},
   "source": [
    "# Populate plot with amount of outs"
   ]
  },
  {
   "cell_type": "code",
   "execution_count": 7,
   "metadata": {},
   "outputs": [
    {
     "name": "stdout",
     "output_type": "stream",
     "text": [
      "\n",
      "\n",
      "Done in 1 seconds!\n"
     ]
    }
   ],
   "source": [
    "s = time.time()\n",
    "rdf = pandas.DataFrame(events_df[\n",
    "    (events_df['batter_hand'] == 'R')\n",
    "    & ((events_df['out_loc'].notnull()) & (events_df['out_loc'] != ''))\n",
    "].groupby('out_loc', as_index=False).size()).set_index('out_loc')\n",
    "rdf = rdf.rename(columns={'size': 'nOuts'})\n",
    "\n",
    "rdf.loc['7LSF', 'nOuts'] = 0\n",
    "rdf.loc['9LSF', 'nOuts'] = 0\n",
    "\n",
    "ldf = pandas.DataFrame(events_df[\n",
    "    (events_df['batter_hand'] == 'L')\n",
    "    & ((events_df['out_loc'].notnull()) & (events_df['out_loc'] != ''))\n",
    "].groupby('out_loc', as_index=False).size()).set_index('out_loc')\n",
    "ldf = ldf.rename(columns={'size': 'nOuts'})\n",
    "\n",
    "ldf.loc['7LSF', 'nOuts'] = 0\n",
    "ldf.loc['9LSF', 'nOuts'] = 0\n",
    "\n",
    "e = time.time()\n",
    "print('\\n')\n",
    "print('Done in {0:.0f} seconds!'.format(e-s))"
   ]
  },
  {
   "cell_type": "code",
   "execution_count": 8,
   "metadata": {},
   "outputs": [
    {
     "name": "stdout",
     "output_type": "stream",
     "text": [
      "Preparing to plot right-handed batters...\n",
      "\tn = 49,721\n",
      "\t\tChecksum = 49,721\n",
      "\n",
      "\n",
      "Preparing to plot left-handed batters...\n",
      "backing up...\n",
      "\tn = 33,070\n",
      "\t\tChecksum = 33,070\n"
     ]
    }
   ],
   "source": [
    "s = time.time()\n",
    "print('Preparing to plot right-handed batters...')\n",
    "rightdata = np.array(\n",
    "    [\n",
    "        [np.nan,np.nan,\n",
    "         np.nan, rdf.loc['78XD']['nOuts'], rdf.loc['8XD']['nOuts'],\n",
    "         rdf.loc['89XD']['nOuts'], np.nan,np.nan,\n",
    "         np.nan,np.nan],  # blank\n",
    "\n",
    "        [rdf.loc['7LDF']['nOuts'], rdf.loc['7LD']['nOuts'], \n",
    "         rdf.loc['7D']['nOuts'], rdf.loc['78D']['nOuts'], rdf.loc['8D']['nOuts'],\n",
    "         rdf.loc['89D']['nOuts'], rdf.loc['9D']['nOuts'], rdf.loc['9LD']['nOuts'], \n",
    "         rdf.loc['9LDF']['nOuts'], np.nan],  # deep outfield\n",
    "\n",
    "        [rdf.loc['7LF']['nOuts'], rdf.loc['7L']['nOuts'], \n",
    "         rdf.loc['7']['nOuts'], rdf.loc['78']['nOuts'], rdf.loc['8']['nOuts'],\n",
    "         rdf.loc['89']['nOuts'], rdf.loc['9']['nOuts'], rdf.loc['9L']['nOuts'], \n",
    "         rdf.loc['9LF']['nOuts'], np.nan],  # outfield\n",
    "\n",
    "        [rdf.loc['7LSF']['nOuts'], rdf.loc['7LS']['nOuts'], \n",
    "         rdf.loc['7S']['nOuts'], rdf.loc['78S']['nOuts'], rdf.loc['8S']['nOuts'],\n",
    "         rdf.loc['89S']['nOuts'], rdf.loc['9S']['nOuts'], rdf.loc['9LS']['nOuts'], \n",
    "         rdf.loc['9LSF']['nOuts'], np.nan],  # shallow outfield\n",
    "        \n",
    "        [rdf.loc['5DF']['nOuts'], rdf.loc['5D']['nOuts'], \n",
    "         rdf.loc['56D']['nOuts'], rdf.loc['6D']['nOuts'], rdf.loc['6MD']['nOuts'],\n",
    "         rdf.loc['4MD']['nOuts'], rdf.loc['4D']['nOuts'], rdf.loc['34D']['nOuts'], \n",
    "         rdf.loc['3D']['nOuts'], rdf.loc['3DF']['nOuts']],  # deep infield\n",
    "        \n",
    "        [rdf.loc['5F']['nOuts'], rdf.loc['5']['nOuts'], \n",
    "         rdf.loc['56']['nOuts'], rdf.loc['6']['nOuts'], rdf.loc['6M']['nOuts'],\n",
    "         rdf.loc['4M']['nOuts'], rdf.loc['4']['nOuts'], rdf.loc['34']['nOuts'], \n",
    "         rdf.loc['3']['nOuts'], rdf.loc['3F']['nOuts']],  # infield\n",
    "        \n",
    "        [np.nan, rdf.loc['5S']['nOuts'], \n",
    "         rdf.loc['56S']['nOuts'], rdf.loc['6S']['nOuts'], rdf.loc['6MS']['nOuts'], \n",
    "         rdf.loc['4MS']['nOuts'], rdf.loc['4S']['nOuts'], rdf.loc['34S']['nOuts'], \n",
    "         rdf.loc['3S']['nOuts'], np.nan],  # shallow infield      \n",
    "        \n",
    "        [np.nan,np.nan,\n",
    "         np.nan,np.nan, rdf.loc['15']['nOuts'], \n",
    "         rdf.loc['1']['nOuts'], rdf.loc['13']['nOuts'], np.nan,\n",
    "         np.nan,np.nan],  # pitcher\n",
    "        \n",
    "        [np.nan,np.nan,\n",
    "         np.nan, rdf.loc['25F']['nOuts'], rdf.loc['25']['nOuts'], \n",
    "         rdf.loc['1S']['nOuts'], rdf.loc['23']['nOuts'], rdf.loc['23F']['nOuts'],\n",
    "         np.nan,np.nan],  # infield/catcher\n",
    "        \n",
    "        [np.nan,np.nan,\n",
    "         np.nan,np.nan,np.nan,\n",
    "         rdf.loc['2']['nOuts'] ,np.nan,np.nan,\n",
    "         np.nan,np.nan],   # catcher\n",
    "        \n",
    "        [np.nan,np.nan,\n",
    "         np.nan,np.nan,np.nan,\n",
    "         rdf.loc['2F']['nOuts'] ,np.nan,np.nan,\n",
    "         np.nan,np.nan]#,  # catcher\n",
    "    ])\n",
    "\n",
    "rightsumtotal = 0\n",
    "for i in range(0, rightdata.shape[0]):\n",
    "    for j in range(0, rightdata.shape[1]):\n",
    "        if (not(np.isnan(rightdata[i,j]))):\n",
    "            rightsumtotal += rightdata[i,j]\n",
    "    \n",
    "print('n = {0:,.0f}'.format(rightsumtotal))\n",
    "print('Checksum = {0:,.0f}'.format(rdf.to_numpy().sum()))\n",
    "\n",
    "\n",
    "print('\\n')\n",
    "print('Preparing to plot left-handed batters...')\n",
    "leftdata = np.array(\n",
    "    [\n",
    "        [np.nan,np.nan,\n",
    "         np.nan, ldf.loc['78XD']['nOuts'], ldf.loc['8XD']['nOuts'],\n",
    "         ldf.loc['89XD']['nOuts'], np.nan,np.nan,\n",
    "         np.nan, np.nan],  # extra-deep outfield\n",
    "\n",
    "        [ldf.loc['7LDF']['nOuts'], ldf.loc['7LD']['nOuts'], \n",
    "         ldf.loc['7D']['nOuts'], ldf.loc['78D']['nOuts'], ldf.loc['8D']['nOuts'],\n",
    "         ldf.loc['89D']['nOuts'], ldf.loc['9D']['nOuts'], ldf.loc['9LD']['nOuts'], \n",
    "         ldf.loc['9LDF']['nOuts'], np.nan],  # deep outfield\n",
    "\n",
    "        [ldf.loc['7LF']['nOuts'], \n",
    "         ldf.loc['7L']['nOuts'], ldf.loc['7']['nOuts'], ldf.loc['78']['nOuts'], \n",
    "         ldf.loc['8']['nOuts'], ldf.loc['89']['nOuts'], ldf.loc['9']['nOuts'], \n",
    "         ldf.loc['9L']['nOuts'], ldf.loc['9LF']['nOuts'], np.nan],  # outfield\n",
    "\n",
    "        [ldf.loc['7LSF']['nOuts'], \n",
    "         ldf.loc['7LS']['nOuts'], ldf.loc['7S']['nOuts'], ldf.loc['78S']['nOuts'], \n",
    "         ldf.loc['8S']['nOuts'], ldf.loc['89S']['nOuts'], ldf.loc['9S']['nOuts'], \n",
    "         ldf.loc['9LS']['nOuts'], ldf.loc['9LSF']['nOuts'], np.nan],  # shallow outfield\n",
    "        \n",
    "        [ldf.loc['5DF']['nOuts'], ldf.loc['5D']['nOuts'], \n",
    "         ldf.loc['56D']['nOuts'], ldf.loc['6D']['nOuts'], ldf.loc['6MD']['nOuts'], \n",
    "         ldf.loc['4MD']['nOuts'], ldf.loc['4D']['nOuts'], ldf.loc['34D']['nOuts'], \n",
    "         ldf.loc['3D']['nOuts'], ldf.loc['3DF']['nOuts']],  # deep infield\n",
    "        \n",
    "        [ldf.loc['5F']['nOuts'], ldf.loc['5']['nOuts'], \n",
    "         ldf.loc['56']['nOuts'], ldf.loc['6']['nOuts'], ldf.loc['6M']['nOuts'],\n",
    "         ldf.loc['4M']['nOuts'], ldf.loc['4']['nOuts'], ldf.loc['34']['nOuts'], \n",
    "         ldf.loc['3']['nOuts'], ldf.loc['3F']['nOuts']],  # infield\n",
    "        \n",
    "        [np.nan, ldf.loc['5S']['nOuts'], \n",
    "         ldf.loc['56S']['nOuts'], ldf.loc['6S']['nOuts'], ldf.loc['6MS']['nOuts'],\n",
    "         ldf.loc['4MS']['nOuts'], ldf.loc['4S']['nOuts'], ldf.loc['34S']['nOuts'], \n",
    "         ldf.loc['3S']['nOuts'], np.nan],  # shallow infield      \n",
    "        \n",
    "        [np.nan,np.nan,\n",
    "         np.nan,np.nan, ldf.loc['15']['nOuts'], \n",
    "         ldf.loc['1']['nOuts'], ldf.loc['13']['nOuts'], np.nan,\n",
    "         np.nan,np.nan],  # pitcher\n",
    "        \n",
    "        [np.nan,np.nan,\n",
    "         np.nan, ldf.loc['25F']['nOuts'], ldf.loc['25']['nOuts'], \n",
    "         ldf.loc['1S']['nOuts'], ldf.loc['23']['nOuts'], ldf.loc['23F']['nOuts'],\n",
    "         np.nan,np.nan],  # infield/catcher\n",
    "        \n",
    "        [np.nan,np.nan,\n",
    "         np.nan,np.nan,np.nan,\n",
    "         ldf.loc['2']['nOuts'] ,np.nan,np.nan,\n",
    "         np.nan,np.nan],  # catcher\n",
    "        \n",
    "        [np.nan,np.nan,\n",
    "         np.nan,np.nan,np.nan,\n",
    "         ldf.loc['2F']['nOuts'] ,np.nan,np.nan,\n",
    "         np.nan,np.nan]#,  # behind catcher\n",
    "    ])\n",
    "\n",
    "leftsumtotal = 0\n",
    "for i in range(0, leftdata.shape[0]):\n",
    "    for j in range(0, leftdata.shape[1]):\n",
    "        if (not(np.isnan(leftdata[i,j]))):\n",
    "            leftsumtotal += leftdata[i,j]\n",
    "\n",
    "print('backing up...')\n",
    "rightdata_bk = rightdata\n",
    "leftdata_bk = leftdata\n",
    "\n",
    "print('n = {0:,.0f}'.format(leftsumtotal))\n",
    "print('Checksum = {0:,.0f}'.format(ldf.to_numpy().sum()))\n",
    "\n"
   ]
  },
  {
   "attachments": {},
   "cell_type": "markdown",
   "metadata": {},
   "source": [
    "# Plot out heatmap for left and right handed batters"
   ]
  },
  {
   "cell_type": "code",
   "execution_count": 10,
   "metadata": {},
   "outputs": [
    {
     "data": {
      "image/png": "[encoded data removed]",
      "text/plain": [
       "<Figure size 576x432 with 4 Axes>"
      ]
     },
     "metadata": {
      "needs_background": "light"
     },
     "output_type": "display_data"
    }
   ],
   "source": [
    "fig, ((ax, ax2)) = plt.subplots(1, 2, figsize=(8, 6))\n",
    "cmapname = 'Wistia'\n",
    "thelabelcolors = ('white', 'black')\n",
    "\n",
    "# Replicate the above example with a different font size and colormap.\n",
    "depthlabels = ['OXD', 'OD', 'O', 'OS', 'ID', 'I', 'IS', 'P', 'PC', 'C', 'BC']\n",
    "oflabels = ['', '7LF', '7L', '7', '78', '8', '89', '9', '9L', '9LF']\n",
    "iflabels = ['5F', '5', '56', '6', '6M', '4M', '4', '34', '3', '3F']\n",
    "\n",
    "im, _ = plt.heatmap(leftdata, ax=ax,\n",
    "                cmap=cmapname, cbarlabel=\"Outs to sector\")#, cbar_kw={'location': 'bottom'})\n",
    "#annotate_heatmap(im, valfmt=\"{x:.0f}\", size=7, textcolors=thelabelcolors)\n",
    "\n",
    "ax.set_xticks([])\n",
    "ax.set_yticks([])\n",
    "#ax.spines[:].set_visible(False)\n",
    "ax.set_title('LEFT-handed batters')\n",
    "\n",
    "im, _ = plt.heatmap(rightdata, ax=ax2,\n",
    "                cmap=cmapname, cbarlabel=\"Outs to sector\")#, cbar_kw={'location': 'bottom'})\n",
    "#annotate_heatmap(im, valfmt=\"{x:.0f}\", size=7, textcolors=thelabelcolors)\n",
    "\n",
    "ax2.set_xticks([])\n",
    "ax2.set_yticks([])\n",
    "#ax2.spines[:].set_visible(False)\n",
    "ax2.set_title('RIGHT-handed batters')\n",
    "\n",
    "plt.tight_layout()\n",
    "plt.show()\n",
    "#plt.savefig('outlocations.svg'.format(cmapname), format='svg', bbox_inches='tight')\n"
   ]
  },
  {
   "cell_type": "code",
   "execution_count": null,
   "metadata": {},
   "outputs": [],
   "source": []
  }
 ],
 "metadata": {
  "kernelspec": {
   "display_name": "Python 3",
   "language": "python",
   "name": "python3"
  },
  "language_info": {
   "codemirror_mode": {
    "name": "ipython",
    "version": 3
   },
   "file_extension": ".py",
   "mimetype": "text/x-python",
   "name": "python",
   "nbconvert_exporter": "python",
   "pygments_lexer": "ipython3",
   "version": "3.9.0"
  },
  "vscode": {
   "interpreter": {
    "hash": "a8712b7f88d470a3450a2747036c2653d8e7da53ae1b559f2a80ca921b7ec002"
   }
  }
 },
 "nbformat": 4,
 "nbformat_minor": 4
}
