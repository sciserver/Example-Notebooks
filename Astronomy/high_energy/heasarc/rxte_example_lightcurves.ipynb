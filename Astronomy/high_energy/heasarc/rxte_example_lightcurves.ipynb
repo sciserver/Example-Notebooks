{
 "cells": [
  {
   "cell_type": "markdown",
   "metadata": {},
   "source": [
    "# RXTE example\n",
    "\n",
    "This notebook demonstrates an analysis of 16 years of RXTE data, which would be difficult outside of SciServer.  We extract all of the standard product lightcurves, but then we decide that we need different channel boundaries.  So we re-exctract light curves following the RXTE documentation and using the heasoftpy wrappers.  "
   ]
  },
  {
   "cell_type": "code",
   "execution_count": 1,
   "metadata": {},
   "outputs": [],
   "source": [
    "import sys,os, shutil\n",
    "import pyvo as vo\n",
    "import numpy as np\n",
    "from astropy.io import fits\n",
    "import matplotlib.pyplot as plt\n",
    "%matplotlib inline  \n",
    "import astropy.io.fits as pyfits\n",
    "import datetime\n",
    "#from tqdm import tqdm"
   ]
  },
  {
   "cell_type": "code",
   "execution_count": 2,
   "metadata": {},
   "outputs": [],
   "source": [
    "## Until integrated with heasoft\n",
    "os.environ[\"HEADASNOQUERY\"]=\"True\"\n",
    "\n",
    "import heasoftpy as hsp"
   ]
  },
  {
   "cell_type": "markdown",
   "metadata": {},
   "source": [
    "### Step 1:  find the data\n",
    "\n",
    "We can use the Virtual Observatory interfaces to the HEASARC to find the data we're  interested in.  Specifically, we want to look at the observation tables.  So first we get a list of all the tables HEASARC serves and then look for the ones related to RXTE:"
   ]
  },
  {
   "cell_type": "code",
   "execution_count": 3,
   "metadata": {},
   "outputs": [
    {
     "name": "stderr",
     "output_type": "stream",
     "text": [
      "WARNING: UnknownElementWarning: None:3:1106: UnknownElementWarning: Unknown element mirrorURL [pyvo.utils.xml.elements]\n",
      "WARNING: UnknownElementWarning: None:100:4268: UnknownElementWarning: Unknown element mirrorURL [pyvo.utils.xml.elements]\n",
      "WARNING: UnknownElementWarning: None:100:4585: UnknownElementWarning: Unknown element mirrorURL [pyvo.utils.xml.elements]\n",
      "WARNING: UnknownElementWarning: None:100:4897: UnknownElementWarning: Unknown element mirrorURL [pyvo.utils.xml.elements]\n",
      "WARNING: UnknownElementWarning: None:100:5197: UnknownElementWarning: Unknown element mirrorURL [pyvo.utils.xml.elements]\n"
     ]
    }
   ],
   "source": [
    "tap_services=vo.regsearch(servicetype='table',keywords=['heasarc'])\n",
    "heasarc_tables=tap_services[0].service.tables"
   ]
  },
  {
   "cell_type": "code",
   "execution_count": 4,
   "metadata": {},
   "outputs": [
    {
     "name": "stdout",
     "output_type": "stream",
     "text": [
      " xteao                XTE Proposal Info & Abstracts\n",
      " xteasmlong           XTE All-Sky Monitor Long-Term Observed Sources\n",
      " xteassagn            XTE All-Sky Slew Survey AGN Catalog\n",
      " xteasscat            XTE All-Sky Slew Survey Catalog\n",
      " xteindex             XTE Target Index Catalog\n",
      " xtemaster            XTE Master Catalog\n",
      " xtemlcat             XTE Mission-Long Source Catalog\n",
      " xteslew              XTE Archived Public Slew Data\n"
     ]
    }
   ],
   "source": [
    "for tablename in heasarc_tables.keys():\n",
    "    if \"xte\" in tablename:  \n",
    "        print(\" {:20s} {}\".format(tablename,heasarc_tables[tablename].description))\n"
   ]
  },
  {
   "cell_type": "markdown",
   "metadata": {},
   "source": [
    "The \"xtemaster\" catalog is the one that we're interested in.  \n",
    "\n",
    "Let's see what this table has in it.  Alternatively, we can google it and find the same information here:\n",
    "\n",
    "https://heasarc.gsfc.nasa.gov/W3Browse/all/xtemaster.html\n"
   ]
  },
  {
   "cell_type": "code",
   "execution_count": 5,
   "metadata": {
    "scrolled": true
   },
   "outputs": [
    {
     "name": "stdout",
     "output_type": "stream",
     "text": [
      "pi_lname             Principal Investigator Last Name\n",
      "target_name          Target Name\n",
      "hexte_angleb         HEXTE Angle B\n",
      "hexte_anglea         HEXTE Angle A\n",
      "cycle                Proposal Cycle Number\n",
      "hexte_energya        HEXTE Energy A\n",
      "hexte_energyb        HEXTE Energy B\n",
      "pca_config4          PCA Configuration 4\n",
      "priority             Target Priority\n",
      "\"__row\"              System index column\n",
      "lii                  Galactic Longitude\n",
      "hexte_modea          HEXTE Mode A\n",
      "\"time\"               Start Date of Observation\n",
      "pca_config3          PCA Configuration 3\n",
      "status               Status: accepted, sched (long), sched (short), observed, processed, or archived\n",
      "obsid                Observation ID of Scheduled Observation\n",
      "pi_fname             Principal Investigator First Name\n",
      "tar_no               Target Number\n",
      "pi_no                Principal Investigator Unique Number\n",
      "observed_date        Start Date of Observation\n",
      "pca_config1          PCA Configuration 1\n",
      "pca_config2          PCA Configuration 2\n",
      "pca_config6          PCA Configuration 6\n",
      "bii                  Galactic Latitude\n",
      "prnb                 Proposal Number\n",
      "scheduled_date       Scheduled Start Date of Observation\n",
      "time_awarded         Total Observation Time (s)\n",
      "subject_category     Subject Category of Proposal\n",
      "\"__y_ra_dec\"         System unit vector column\n",
      "hexte_modeb          HEXTE Mode B\n",
      "hexte_dwellb         HEXTE Dwell B\n",
      "\"__z_ra_dec\"         System unit vector column\n",
      "\"__x_ra_dec\"         System unit vector column\n",
      "dec                  Declination\n",
      "archived_date        Date Observation Data Was Archived\n",
      "processed_date       Date Observation Data Was Processed\n",
      "duration             Duration of the Observation (s)\n",
      "pca_config5          PCA Configuration 5\n",
      "hexte_dwella         HEXTE Dwell A\n",
      "exposure             Total Good Time of the Observation (s)\n",
      "ra                   Right Ascension\n"
     ]
    }
   ],
   "source": [
    "for c in heasarc_tables['xtemaster'].columns:\n",
    "    print(\"{:20s} {}\".format(c.name,c.description))"
   ]
  },
  {
   "cell_type": "markdown",
   "metadata": {},
   "source": [
    "We're interested in Eta Carinae, and we want to get the RXTE cycle, proposal, and observation ID etc. for every observation it took of this source based on its position.  (Just in case the name has been entered differently, which can happen.)  This constructs a query in the ADQL language to select the columns (target_name, cycle, prnb, obsid, time, exposure, ra, dec) where the point defined by the observation's RA and DEC lies inside a circle defined by our chosen source position.  The results will be sorted by time.  See the [NAVO website](https://heasarc.gsfc.nasa.gov/vo/summary/python.html) for more information on how to use these services with python and how to construct ADQL queries for catalog searches."
   ]
  },
  {
   "cell_type": "code",
   "execution_count": 6,
   "metadata": {},
   "outputs": [],
   "source": [
    "# Get the coordinate for Eta Car\n",
    "import astropy.coordinates as coord\n",
    "pos=coord.SkyCoord.from_name(\"eta car\")\n",
    "query=\"\"\"SELECT target_name, cycle, prnb, obsid, \n",
    "         observed_date-50000 as day, time, exposure\n",
    "    FROM public.xtemaster as cat \n",
    "    where \n",
    "    contains(point('ICRS',cat.ra,cat.dec),circle('ICRS',{},{},0.1))=1 \n",
    "    and \n",
    "    cat.exposure > 0 order by cat.time\n",
    "    \"\"\".format(pos.ra.deg, pos.dec.deg)"
   ]
  },
  {
   "cell_type": "code",
   "execution_count": 7,
   "metadata": {
    "scrolled": true
   },
   "outputs": [
    {
     "data": {
      "text/html": [
       "<i>Table length=1368</i>\n",
       "<table id=\"table140044660374256\" class=\"table-striped table-bordered table-condensed\">\n",
       "<thead><tr><th>target_name</th><th>cycle</th><th>prnb</th><th>obsid</th><th>day</th><th>time</th><th>exposure</th></tr></thead>\n",
       "<thead><tr><th></th><th></th><th></th><th></th><th></th><th>mjd</th><th>s</th></tr></thead>\n",
       "<thead><tr><th>object</th><th>int16</th><th>int32</th><th>object</th><th>float64</th><th>float64</th><th>float64</th></tr></thead>\n",
       "<tr><td>ETA_CAR</td><td>1</td><td>10004</td><td>10004-01-40-00</td><td>122.6426300000021</td><td>50122.64263</td><td>1091</td></tr>\n",
       "<tr><td>ETA_CAR</td><td>1</td><td>10004</td><td>10004-01-39-00</td><td>129.4299200000023</td><td>50129.42992</td><td>945</td></tr>\n",
       "<tr><td>ETA_CAR</td><td>1</td><td>10004</td><td>10004-01-38-00</td><td>134.57052999999723</td><td>50134.57053</td><td>1018</td></tr>\n",
       "<tr><td>ETA_CAR</td><td>1</td><td>10004</td><td>10004-01-41-00</td><td>142.85057999999844</td><td>50142.85058</td><td>958</td></tr>\n",
       "<tr><td>ETA_CAR</td><td>1</td><td>10004</td><td>10004-01-37-00</td><td>147.831339999997</td><td>50147.83134</td><td>1778</td></tr>\n",
       "<tr><td>ETA_CAR</td><td>1</td><td>10004</td><td>10004-01-36-00</td><td>150.58692000000156</td><td>50150.58692</td><td>696</td></tr>\n",
       "<tr><td>ETA_CAR</td><td>1</td><td>10004</td><td>10004-01-36-01</td><td>154.99083999999857</td><td>50154.99084</td><td>1098</td></tr>\n",
       "<tr><td>ETA_CAR</td><td>1</td><td>10004</td><td>10004-01-35-00</td><td>162.75742999999784</td><td>50162.75743</td><td>1109</td></tr>\n",
       "<tr><td>ETA_CAR</td><td>1</td><td>10004</td><td>10004-01-32-00</td><td>180.1918399999995</td><td>50180.19184</td><td>921</td></tr>\n",
       "<tr><td>...</td><td>...</td><td>...</td><td>...</td><td>...</td><td>...</td><td>...</td></tr>\n",
       "<tr><td>ETA_CAR</td><td>15</td><td>96002</td><td>96002-01-43-00</td><td>5859.462099999997</td><td>55859.4621</td><td>1147</td></tr>\n",
       "<tr><td>ETA_CAR</td><td>15</td><td>96002</td><td>96002-01-44-00</td><td>5868.915889999997</td><td>55868.91589</td><td>1029</td></tr>\n",
       "<tr><td>ETA_CAR</td><td>15</td><td>96002</td><td>96002-01-45-00</td><td>5874.66102</td><td>55874.66102</td><td>973</td></tr>\n",
       "<tr><td>ETA_CAR</td><td>15</td><td>96002</td><td>96002-01-46-00</td><td>5882.960500000001</td><td>55882.9605</td><td>894</td></tr>\n",
       "<tr><td>ETA_CAR</td><td>15</td><td>96002</td><td>96002-01-47-00</td><td>5889.736190000003</td><td>55889.73619</td><td>1135</td></tr>\n",
       "<tr><td>ETA_CAR</td><td>15</td><td>96002</td><td>96002-01-48-00</td><td>5895.668100000003</td><td>55895.6681</td><td>1550</td></tr>\n",
       "<tr><td>ETA_CAR</td><td>15</td><td>96002</td><td>96002-01-49-00</td><td>5902.510770000001</td><td>55902.51077</td><td>1137</td></tr>\n",
       "<tr><td>ETA_CAR</td><td>15</td><td>96002</td><td>96002-01-50-00</td><td>5909.925909999998</td><td>55909.92591</td><td>1339</td></tr>\n",
       "<tr><td>ETA_CAR</td><td>15</td><td>96002</td><td>96002-01-51-00</td><td>5916.800080000001</td><td>55916.80008</td><td>954</td></tr>\n",
       "<tr><td>ETA_CAR</td><td>15</td><td>96002</td><td>96002-01-52-00</td><td>5923.709799999997</td><td>55923.7098</td><td>1075</td></tr>\n",
       "</table>"
      ],
      "text/plain": [
       "<Table length=1368>\n",
       "target_name cycle  prnb     obsid             day             time    exposure\n",
       "                                                              mjd        s    \n",
       "   object   int16 int32     object          float64         float64   float64 \n",
       "----------- ----- ----- -------------- ------------------ ----------- --------\n",
       "    ETA_CAR     1 10004 10004-01-40-00  122.6426300000021 50122.64263     1091\n",
       "    ETA_CAR     1 10004 10004-01-39-00  129.4299200000023 50129.42992      945\n",
       "    ETA_CAR     1 10004 10004-01-38-00 134.57052999999723 50134.57053     1018\n",
       "    ETA_CAR     1 10004 10004-01-41-00 142.85057999999844 50142.85058      958\n",
       "    ETA_CAR     1 10004 10004-01-37-00   147.831339999997 50147.83134     1778\n",
       "    ETA_CAR     1 10004 10004-01-36-00 150.58692000000156 50150.58692      696\n",
       "    ETA_CAR     1 10004 10004-01-36-01 154.99083999999857 50154.99084     1098\n",
       "    ETA_CAR     1 10004 10004-01-35-00 162.75742999999784 50162.75743     1109\n",
       "    ETA_CAR     1 10004 10004-01-32-00  180.1918399999995 50180.19184      921\n",
       "        ...   ...   ...            ...                ...         ...      ...\n",
       "    ETA_CAR    15 96002 96002-01-43-00  5859.462099999997  55859.4621     1147\n",
       "    ETA_CAR    15 96002 96002-01-44-00  5868.915889999997 55868.91589     1029\n",
       "    ETA_CAR    15 96002 96002-01-45-00         5874.66102 55874.66102      973\n",
       "    ETA_CAR    15 96002 96002-01-46-00  5882.960500000001  55882.9605      894\n",
       "    ETA_CAR    15 96002 96002-01-47-00  5889.736190000003 55889.73619     1135\n",
       "    ETA_CAR    15 96002 96002-01-48-00  5895.668100000003  55895.6681     1550\n",
       "    ETA_CAR    15 96002 96002-01-49-00  5902.510770000001 55902.51077     1137\n",
       "    ETA_CAR    15 96002 96002-01-50-00  5909.925909999998 55909.92591     1339\n",
       "    ETA_CAR    15 96002 96002-01-51-00  5916.800080000001 55916.80008      954\n",
       "    ETA_CAR    15 96002 96002-01-52-00  5923.709799999997  55923.7098     1075"
      ]
     },
     "execution_count": 7,
     "metadata": {},
     "output_type": "execute_result"
    }
   ],
   "source": [
    "results=tap_services[0].search(query).to_table()\n",
    "results"
   ]
  },
  {
   "cell_type": "markdown",
   "metadata": {},
   "source": [
    "Let's just see how long these observations are:"
   ]
  },
  {
   "cell_type": "code",
   "execution_count": 8,
   "metadata": {},
   "outputs": [
    {
     "data": {
      "text/plain": [
       "[<matplotlib.lines.Line2D at 0x7f5eb03c3790>]"
      ]
     },
     "execution_count": 8,
     "metadata": {},
     "output_type": "execute_result"
    },
    {
     "data": {
      "image/png": "[encoded data removed]",
      "text/plain": [
       "<Figure size 432x288 with 1 Axes>"
      ]
     },
     "metadata": {
      "needs_background": "light"
     },
     "output_type": "display_data"
    }
   ],
   "source": [
    "plt.plot(results['time'],results['exposure'])"
   ]
  },
  {
   "cell_type": "markdown",
   "metadata": {},
   "source": [
    "###  Step 2:  combine standard products and plot\n",
    "\n",
    "Let's collect all the standard product light curves for RXTE.  (These are described on the [RXTE analysis pages](https://heasarc.gsfc.nasa.gov/docs/xte/recipes/cook_book.html).)"
   ]
  },
  {
   "cell_type": "code",
   "execution_count": 9,
   "metadata": {},
   "outputs": [
    {
     "data": {
      "text/plain": [
       "array([( 1, 10004, '10004-01-40-00', 50122.64263),\n",
       "       ( 1, 10004, '10004-01-39-00', 50129.42992),\n",
       "       ( 1, 10004, '10004-01-38-00', 50134.57053), ...,\n",
       "       (15, 96002, '96002-01-50-00', 55909.92591),\n",
       "       (15, 96002, '96002-01-51-00', 55916.80008),\n",
       "       (15, 96002, '96002-01-52-00', 55923.7098 )],\n",
       "      dtype=[('cycle', '<i2'), ('prnb', '<i4'), ('obsid', 'O'), ('time', '<f8')])"
      ]
     },
     "execution_count": 9,
     "metadata": {},
     "output_type": "execute_result"
    }
   ],
   "source": [
    "## Need cycle number as well, since after AO9, \n",
    "##  no longer 1st digit of proposal number\n",
    "ids=np.unique( results['cycle','prnb','obsid','time'])\n",
    "ids.sort(order='time')\n",
    "ids"
   ]
  },
  {
   "cell_type": "code",
   "execution_count": 10,
   "metadata": {},
   "outputs": [
    {
     "name": "stdout",
     "output_type": "stream",
     "text": [
      "Found 1364 out of 1368 files\n"
     ]
    }
   ],
   "source": [
    "## Construct a file list.\n",
    "##  In this case, the name changes\n",
    "import glob\n",
    "# Though Jupyter Lab container\n",
    "rootdir=\"/FTP\"\n",
    "# Through batch ?\n",
    "#rootdir=\"/home/idies/workspace/HEASARC\\ data\"\n",
    "rxtedata=\"rxte/data/archive\"\n",
    "filenames=[]\n",
    "for (k,val) in enumerate(ids['obsid']):\n",
    "    fname=\"{}/{}/AO{}/P{}/{}/stdprod/xp{}_n2a.lc.gz\".format(\n",
    "        rootdir,\n",
    "        rxtedata,\n",
    "        ids['cycle'][k],\n",
    "        ids['prnb'][k],\n",
    "        ids['obsid'][k],\n",
    "        ids['obsid'][k].replace('-',''))\n",
    "    #print(fname)\n",
    "    f=glob.glob(fname)\n",
    "    if (len(f) > 0):\n",
    "        filenames.append(f[0])\n",
    "print(\"Found {} out of {} files\".format(len(filenames),len(ids)))"
   ]
  },
  {
   "cell_type": "markdown",
   "metadata": {},
   "source": [
    "Let's collect them all into one light curve:"
   ]
  },
  {
   "cell_type": "code",
   "execution_count": 11,
   "metadata": {
    "scrolled": true
   },
   "outputs": [
    {
     "name": "stdout",
     "output_type": "stream",
     "text": [
      "On file /FTP/rxte/data/archive/AO1/P10004/10004-01-39-00/stdprod/xp10004013900_n2a.lc.gz\n",
      "   adding 58 rows from TSTART=67083939\n",
      "On file /FTP/rxte/data/archive/AO2/P20003/20003-01-34-00/stdprod/xp20003013400_n2a.lc.gz\n",
      "   adding 55 rows from TSTART=112362067\n",
      "On file /FTP/rxte/data/archive/AO3/P30006/30006-03-02-00/stdprod/xp30006030200_n2a.lc.gz\n",
      "   adding 56 rows from TSTART=134573827\n",
      "On file /FTP/rxte/data/archive/AO4/P40003/40003-01-33-00/stdprod/xp40003013300_n2a.lc.gz\n",
      "   adding 65 rows from TSTART=168957235\n",
      "On file /FTP/rxte/data/archive/AO5/P50003/50003-01-28-00/stdprod/xp50003012800_n2a.lc.gz\n",
      "   adding 90 rows from TSTART=204122819\n",
      "On file /FTP/rxte/data/archive/AO6/P60003/60003-01-28-00/stdprod/xp60003012800_n2a.lc.gz\n",
      "   adding 92 rows from TSTART=239054019\n",
      "On file /FTP/rxte/data/archive/AO7/P70001/70001-01-51-00/stdprod/xp70001015100_n2a.lc.gz\n",
      "   adding 88 rows from TSTART=272790707\n",
      "On file /FTP/rxte/data/archive/AO8/P80001/80001-01-36-00/stdprod/xp80001013600_n2a.lc.gz\n",
      "   adding 54 rows from TSTART=292151091\n",
      "On file /FTP/rxte/data/archive/AO8/P80001/80001-01-39-10/stdprod/xp80001013910_n2a.lc.gz\n",
      "   adding 54 rows from TSTART=300861171\n",
      "On file /FTP/rxte/data/archive/AO8/P80001/80001-02-19-00/stdprod/xp80001021900_n2a.lc.gz\n",
      "   adding 53 rows from TSTART=312941971\n",
      "On file /FTP/rxte/data/archive/AO10/P91001/91001-01-23-00/stdprod/xp91001012300_n2a.lc.gz\n",
      "   adding 53 rows from TSTART=380216818\n",
      "On file /FTP/rxte/data/archive/AO12/P93002/93002-02-02-00/stdprod/xp93002020200_n2a.lc.gz\n",
      "   adding 44 rows from TSTART=462724339\n",
      "On file /FTP/rxte/data/archive/AO13/P94418/94418-01-04-00/stdprod/xp94418010400_n2a.lc.gz\n",
      "   adding 48 rows from TSTART=479530099\n",
      "On file /FTP/rxte/data/archive/AO14/P95002/95002-01-41-00/stdprod/xp95002014100_n2a.lc.gz\n",
      "   adding 57 rows from TSTART=529641955\n"
     ]
    }
   ],
   "source": [
    "hdul = fits.open(filenames.pop(0))\n",
    "data = hdul[1].data\n",
    "cnt=0\n",
    "for f in filenames:\n",
    "    hdul = fits.open(f)\n",
    "    d = hdul[1].data\n",
    "    data=np.hstack([data,d])\n",
    "    if cnt % 100 == 0:\n",
    "        print(\"On file {}\".format(f))\n",
    "        print(\"   adding {} rows from TSTART={}\".format(d.shape[0],hdul[1].header['TSTARTI']))\n",
    "    cnt+=1\n",
    "## The above LCs are merged per proposal.  You can see that some proposals\n",
    "##  had data added later, after other proposals, so you need to sort:\n",
    "data.sort(order='TIME')\n"
   ]
  },
  {
   "cell_type": "code",
   "execution_count": 12,
   "metadata": {},
   "outputs": [
    {
     "data": {
      "text/plain": [
       "[<matplotlib.lines.Line2D at 0x7f5eb0210190>]"
      ]
     },
     "execution_count": 12,
     "metadata": {},
     "output_type": "execute_result"
    },
    {
     "data": {
      "image/png": "[encoded data removed]",
      "text/plain": [
       "<Figure size 432x288 with 1 Axes>"
      ]
     },
     "metadata": {
      "needs_background": "light"
     },
     "output_type": "display_data"
    }
   ],
   "source": [
    "plt.plot(data['TIME'],data['RATE'])\n"
   ]
  },
  {
   "cell_type": "markdown",
   "metadata": {},
   "source": [
    "### Step 3:  Re-extract a light-curve\n",
    "\n",
    "Now we go out and read about how to analyze RXTE data, and we decide that we need different channel boundaries than were used in the standard products.  We can write a little function that does the RXTE data analysis steps for every observation to extract a lightcurve and read it into memory to recreate the above dataset.  This function may look complicated, but it only calls three RXTE executables:\n",
    "\n",
    "* pcaprepobsid\n",
    "* maketime\n",
    "* pcaextlc2\n",
    "\n",
    "which extracts the Standard mode 2 data (not to be confused with the \"standard products\") for the channels you're interested in.  It has a bit of error checking that'll help when launching a long job.\n",
    "\n",
    "Note that each call to this function will take 10-20 seconds to complete.  So when we run a whole proposal, we'll have to wait a while. "
   ]
  },
  {
   "cell_type": "code",
   "execution_count": 13,
   "metadata": {},
   "outputs": [],
   "source": [
    "\n",
    "class XlcError( Exception ):\n",
    "    pass\n",
    "\n",
    "\n",
    "#  Define a function that, given an ObsID, does the rxte light curve extraction\n",
    "def rxte_lc( obsid=None, ao=None , chmin=None, chmax=None, cleanup=True):\n",
    "    rootdir=\"/FTP\"\n",
    "    rxtedata=\"rxte/data/archive\"\n",
    "    obsdir=\"{}/{}/AO{}/P{}/{}/\".format(\n",
    "        rootdir,\n",
    "        rxtedata,\n",
    "        ao,\n",
    "        obsid[0:5],\n",
    "        obsid\n",
    "    )\n",
    "    #print(\"Looking for obsdir={}\".format(obsdir))\n",
    "    outdir=\"tmp.{}\".format(obsid)\n",
    "    if (not os.path.isdir(outdir)):\n",
    "        os.mkdir(outdir)\n",
    "\n",
    "    if cleanup and os.path.isdir(outdir):\n",
    "        shutil.rmtree(outdir,ignore_errors=True)\n",
    "\n",
    "    try:\n",
    "        #print(\"Running pcaprepobsid\")\n",
    "        result=hsp.pcaprepobsid(indir=obsdir,\n",
    "                                outdir=outdir\n",
    "                               )\n",
    "        print(result.stdout)\n",
    "        #  This one doesn't seem to return correctly, so this doesn't trap!\n",
    "        if result.returncode != 0:\n",
    "            raise XlcError(\"pcaprepobsid returned status {}\".format(result.returncode))\n",
    "    except:\n",
    "        raise\n",
    "    # Recommended filter from RTE Cookbook pages:\n",
    "    filt_expr = \"(ELV > 4) && (OFFSET < 0.1) && (NUM_PCU_ON > 0) && .NOT. ISNULL(ELV) && (NUM_PCU_ON < 6)\"\n",
    "    try:\n",
    "        filt_file=glob.glob(outdir+\"/FP_*.xfl\")[0]\n",
    "    except:\n",
    "        raise XlcError(\"pcaprepobsid doesn't seem to have made a filter file!\")\n",
    "\n",
    "    try:\n",
    "        #print(\"Running maketime\")\n",
    "        result=hsp.maketime(infile=filt_file, \n",
    "                            outfile=os.path.join(outdir,'rxte_example.gti'),\n",
    "                            expr=filt_expr, name='NAME', \n",
    "                            value='VALUE', \n",
    "                            time='TIME', \n",
    "                            compact='NO')\n",
    "        #print(result.stdout)\n",
    "        if result.returncode != 0:\n",
    "            raise XlcError(\"maketime returned status {}\".format(result.returncode))\n",
    "    except:\n",
    "        raise\n",
    "      \n",
    "    try:\n",
    "        #print(\"Running pcaextlc2\")\n",
    "        result=hsp.pcaextlc2(src_infile=\"@{}/FP_dtstd2.lis\".format(outdir),\n",
    "                             bkg_infile=\"@{}/FP_dtbkg2.lis\".format(outdir),\n",
    "                             outfile=os.path.join(outdir,'rxte_example.lc'), \n",
    "                             gtiandfile=os.path.join(outdir,'rxte_example.gti'),\n",
    "                             chmin=chmin,\n",
    "                             chmax=chmax,\n",
    "                             pculist='ALL', layerlist='ALL', binsz=16)\n",
    "        #print(result.stdout)\n",
    "        if result.returncode != 0:\n",
    "            raise XlcError(\"pcaextlc2 returned status {}\".format(result.returncode))\n",
    "    except:\n",
    "        raise\n",
    "\n",
    "    with pyfits.open(os.path.join(outdir,'rxte_example.lc'),memmap=False) as hdul:\n",
    "        lc=hdul[1].data\n",
    "    if cleanup:\n",
    "        shutil.rmtree(outdir,ignore_errors=True)\n",
    "    return lc\n"
   ]
  },
  {
   "cell_type": "markdown",
   "metadata": {},
   "source": [
    "Let's look just at a small part of the time range, and look at only the first few for speed:"
   ]
  },
  {
   "cell_type": "code",
   "execution_count": 14,
   "metadata": {
    "scrolled": true
   },
   "outputs": [
    {
     "name": "stdout",
     "output_type": "stream",
     "text": [
      "Running pcaprepobsid v1.3\n",
      "----------------------------------------\n",
      "10004-01-40-00 1996-02-09T15:29:45 1996-02-09T15:48:13\n",
      "  FILT: tmp.10004-01-40-00/FP_03f6ab29-03f6af7d.xfl\n",
      "  OBJECT: 'ETA_CAR' (RA=161.26,DEC=-59.68)\n",
      "  STD2: /FTP/rxte/data/archive/AO1/P10004/10004-01-40-00//pca/FS4a_3f6ab29-3f6af7d.gz\n",
      "  STD1: /FTP/rxte/data/archive/AO1/P10004/10004-01-40-00//pca/FS46_3f6ab29-3f6af7d.gz\n",
      "\n",
      "Running pcaprepobsid v1.3\n",
      "----------------------------------------\n",
      "10004-01-39-00 1996-02-16T10:26:10 1996-02-16T10:42:13\n",
      "  FILT: tmp.10004-01-39-00/FP_03ff9e82-03ffa245.xfl\n",
      "  OBJECT: 'ETA_CAR' (RA=161.26,DEC=-59.68)\n",
      "  STD2: /FTP/rxte/data/archive/AO1/P10004/10004-01-39-00//pca/FS4a_3ff9e82-3ffa245.gz\n",
      "  STD1: /FTP/rxte/data/archive/AO1/P10004/10004-01-39-00//pca/FS46_3ff9e82-3ffa245.gz\n",
      "\n",
      "Running pcaprepobsid v1.3\n",
      "----------------------------------------\n",
      "10004-01-38-00 1996-02-21T13:49:07 1996-02-21T14:09:13\n",
      "  FILT: tmp.10004-01-38-00/FP_04066593-04066a49.xfl\n",
      "  OBJECT: 'ETA_CAR' (RA=161.26,DEC=-59.68)\n",
      "  STD2: /FTP/rxte/data/archive/AO1/P10004/10004-01-38-00//pca/FS4a_4066660-4066a49.gz\n",
      "  STD1: /FTP/rxte/data/archive/AO1/P10004/10004-01-38-00//pca/FS46_4066660-4066a49.gz\n",
      "\n",
      "Running pcaprepobsid v1.3\n",
      "----------------------------------------\n",
      "10004-01-41-00 1996-02-29T20:32:39 1996-02-29T20:53:13\n",
      "  FILT: tmp.10004-01-41-00/FP_04115027-041154f9.xfl\n",
      "  OBJECT: 'ETA_CAR' (RA=161.26,DEC=-59.68)\n",
      "  STD2: /FTP/rxte/data/archive/AO1/P10004/10004-01-41-00//pca/FS4a_4115140-41154f9.gz\n",
      "  STD1: /FTP/rxte/data/archive/AO1/P10004/10004-01-41-00//pca/FS46_4115140-41154f9.gz\n",
      "\n",
      "Running pcaprepobsid v1.3\n",
      "----------------------------------------\n",
      "10004-01-37-00 1996-03-05T20:02:16 1996-03-05T20:46:13\n",
      "  FILT: tmp.10004-01-37-00/FP_0417e088-0417ead5.xfl\n",
      "  OBJECT: 'ETA_CAR' (RA=161.26,DEC=-59.68)\n",
      "  STD2: /FTP/rxte/data/archive/AO1/P10004/10004-01-37-00//pca/FS4a_417e088-417e430.gz\n",
      "  STD2: /FTP/rxte/data/archive/AO1/P10004/10004-01-37-00//pca/FS4a_417e7a0-417ead5.gz\n",
      "  STD1: /FTP/rxte/data/archive/AO1/P10004/10004-01-37-00//pca/FS46_417e088-417e420.gz\n",
      "  STD1: /FTP/rxte/data/archive/AO1/P10004/10004-01-37-00//pca/FS46_417e7a0-417ead5.gz\n",
      "\n",
      "Running pcaprepobsid v1.3\n",
      "----------------------------------------\n",
      "10004-01-36-00 1996-03-08T14:10:19 1996-03-08T14:22:13\n",
      "  FILT: tmp.10004-01-36-00/FP_041b828b-041b8555.xfl\n",
      "  OBJECT: 'ETA_CAR' (RA=161.26,DEC=-59.68)\n",
      "  STD2: /FTP/rxte/data/archive/AO1/P10004/10004-01-36-00//pca/FS4a_41b828b-41b8555.gz\n",
      "  STD1: /FTP/rxte/data/archive/AO1/P10004/10004-01-36-00//pca/FS46_41b828b-41b8555.gz\n",
      "\n",
      "Running pcaprepobsid v1.3\n",
      "----------------------------------------\n",
      "10004-01-36-01 1996-03-12T23:54:38 1996-03-13T00:18:13\n",
      "  FILT: tmp.10004-01-36-01/FP_0421517e-04215705.xfl\n",
      "  OBJECT: 'ETA_CAR' (RA=161.26,DEC=-59.68)\n",
      "  STD2: /FTP/rxte/data/archive/AO1/P10004/10004-01-36-01//pca/FS4a_421517e-42155d0.gz\n",
      "  STD1: /FTP/rxte/data/archive/AO1/P10004/10004-01-36-01//pca/FS46_421517e-42155b0.gz\n",
      "\n",
      "Running pcaprepobsid v1.3\n",
      "----------------------------------------\n",
      "10004-01-35-00 1996-03-20T18:15:24 1996-03-20T18:34:13\n",
      "  FILT: tmp.10004-01-35-00/FP_042b8dfc-042b9265.xfl\n",
      "  OBJECT: 'ETA_CAR' (RA=161.26,DEC=-59.68)\n",
      "  STD2: /FTP/rxte/data/archive/AO1/P10004/10004-01-35-00//pca/FS4a_42b8dfc-42b9265.gz\n",
      "  STD1: /FTP/rxte/data/archive/AO1/P10004/10004-01-35-00//pca/FS46_42b8dfc-42b9265.gz\n",
      "\n",
      "Running pcaprepobsid v1.3\n",
      "----------------------------------------\n",
      "10004-01-32-00 1996-04-07T04:52:30 1996-04-07T05:08:13\n",
      "  FILT: tmp.10004-01-32-00/FP_04428cce-0442907d.xfl\n",
      "  OBJECT: 'ETA_CAR' (RA=161.26,DEC=-59.68)\n",
      "  STD2: /FTP/rxte/data/archive/AO1/P10004/10004-01-32-00//pca/FS4a_4428cce-442907d.gz\n",
      "  STD1: /FTP/rxte/data/archive/AO1/P10004/10004-01-32-00//pca/FS46_4428cce-442907d.gz\n",
      "\n",
      "Running pcaprepobsid v1.3\n",
      "----------------------------------------\n",
      "10004-01-31-00 1996-04-12T16:34:11 1996-04-12T16:51:13\n",
      "  FILT: tmp.10004-01-31-00/FP_0449c8c3-0449ccc1.xfl\n",
      "  OBJECT: 'ETA_CAR' (RA=161.26,DEC=-59.68)\n",
      "  STD2: /FTP/rxte/data/archive/AO1/P10004/10004-01-31-00//pca/FS4a_449c8d0-449ccc1.gz\n",
      "  STD1: /FTP/rxte/data/archive/AO1/P10004/10004-01-31-00//pca/FS46_449c8d0-449ccc1.gz\n",
      "\n",
      "Running pcaprepobsid v1.3\n",
      "----------------------------------------\n",
      "10004-01-30-00 1996-04-22T17:33:04 1996-04-22T17:53:13\n",
      "  FILT: tmp.10004-01-30-00/FP_04570590-04570a49.xfl\n",
      "  OBJECT: 'ETA_CAR' (RA=161.26,DEC=-59.68)\n",
      "  STD2: /FTP/rxte/data/archive/AO1/P10004/10004-01-30-00//pca/FS4a_4570590-4570a00.gz\n",
      "  STD1: /FTP/rxte/data/archive/AO1/P10004/10004-01-30-00//pca/FS46_4570590-4570a00.gz\n",
      "\n"
     ]
    }
   ],
   "source": [
    "break_at=10\n",
    "for (k,val) in enumerate(ids):\n",
    "    if k>break_at:  break\n",
    "    l=rxte_lc(ao=val['cycle'], obsid=val['obsid'], chmin=5,chmax=10)    \n",
    "    try:\n",
    "        lc=np.hstack([lc,l])\n",
    "    except:\n",
    "        lc=l\n",
    "        "
   ]
  },
  {
   "cell_type": "code",
   "execution_count": 15,
   "metadata": {},
   "outputs": [],
   "source": [
    "# Because the obsids won't necessarily be processed in time order\n",
    "lc.sort(order='TIME')"
   ]
  },
  {
   "cell_type": "code",
   "execution_count": 16,
   "metadata": {},
   "outputs": [
    {
     "data": {
      "text/plain": [
       "[<matplotlib.lines.Line2D at 0x7f5ee7b816a0>]"
      ]
     },
     "execution_count": 16,
     "metadata": {},
     "output_type": "execute_result"
    },
    {
     "data": {
      "image/png": "[encoded data removed]",
      "text/plain": [
       "<Figure size 432x288 with 1 Axes>"
      ]
     },
     "metadata": {
      "needs_background": "light"
     },
     "output_type": "display_data"
    }
   ],
   "source": [
    "plt.plot(lc['TIME'],lc['RATE'])"
   ]
  },
  {
   "cell_type": "code",
   "execution_count": 17,
   "metadata": {},
   "outputs": [],
   "source": [
    "hdu = pyfits.BinTableHDU(lc)\n",
    "pyfits.HDUList([pyfits.PrimaryHDU(),hdu]).writeto('eta_car.lc',overwrite=True)\n"
   ]
  },
  {
   "cell_type": "markdown",
   "metadata": {},
   "source": [
    "You could then remove the break in the above loop and submit this job to the [batch queue](https://apps.sciserver.org/compute/jobs)."
   ]
  }
 ],
 "metadata": {
  "kernelspec": {
   "display_name": "Python 3.8 (Heasarc)",
   "language": "python",
   "name": "python3.8"
  },
  "language_info": {
   "codemirror_mode": {
    "name": "ipython",
    "version": 3
   },
   "file_extension": ".py",
   "mimetype": "text/x-python",
   "name": "python",
   "nbconvert_exporter": "python",
   "pygments_lexer": "ipython3",
   "version": "3.8.5"
  }
 },
 "nbformat": 4,
 "nbformat_minor": 4
}
