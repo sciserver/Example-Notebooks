{
 "cells": [
  {
   "cell_type": "markdown",
   "metadata": {},
   "source": [
    "\n",
    "\n",
    "# Building a Finder Chart with SDSS and Montage\n",
    "\n",
    "<p style=\"color:#c00000;\">In this notebook we will choose a region of the sky and dataset to mosaic, retrieve the SDSS archive data, reproject the images, search a catalog to be used as an overlay and finally build an output mosaic.  You are free to modify any of the mosaic parameters but beware that as you go larger all of the steps will take longer (possibly <b>much</b> longer).  If you do this for three different wavelenths, you can put them together in a full-color composite.</p>\n",
    "\n",
    "As with many notebooks, this was derived from a longer script by breaking the processing up into sequential steps.\n",
    "These steps (cells) have to be run one in sequence.  Wait for each cell to finish (watch for the step number in the brackets on the left to stop showing an asterisk) before starting the execution of next cell or run them all as a set.\n",
    "\n",
    "\n",
    "\n",
    "## Setup\n",
    "\n",
    "The Montage Python package is a mixture of pure Python and Python binary extension code.  It can be downloaded using <tt style=\"color: #c00000;\">pip install MontagePy</tt>.  This notebook also assumes that Astropy and Astroquery have been installed.\n"
   ]
  },
  {
   "cell_type": "code",
   "execution_count": 7,
   "metadata": {},
   "outputs": [
    {
     "name": "stdout",
     "output_type": "stream",
     "text": [
      "Collecting package metadata (current_repodata.json): done\n",
      "Solving environment: failed with initial frozen solve. Retrying with flexible solve.\n",
      "Collecting package metadata (repodata.json): done\n",
      "Solving environment: failed with initial frozen solve. Retrying with flexible solve.\n",
      "\n",
      "PackagesNotFoundError: The following packages are not available from current channels:\n",
      "\n",
      "  - astroquery\n",
      "\n",
      "Current channels:\n",
      "\n",
      "  - https://repo.anaconda.com/pkgs/main/linux-64\n",
      "  - https://repo.anaconda.com/pkgs/main/noarch\n",
      "  - https://repo.anaconda.com/pkgs/r/linux-64\n",
      "  - https://repo.anaconda.com/pkgs/r/noarch\n",
      "\n",
      "To search for alternate channels that may provide the conda package you're\n",
      "looking for, navigate to\n",
      "\n",
      "    https://anaconda.org\n",
      "\n",
      "and use the search bar at the top of the page.\n",
      "\n",
      "\n"
     ]
    }
   ],
   "source": [
    "!conda install astroquery"
   ]
  },
  {
   "cell_type": "code",
   "execution_count": 6,
   "metadata": {},
   "outputs": [
    {
     "ename": "ModuleNotFoundError",
     "evalue": "No module named 'astroquery'",
     "output_type": "error",
     "traceback": [
      "\u001b[0;31m\u001b[0m",
      "\u001b[0;31mModuleNotFoundError\u001b[0mTraceback (most recent call last)",
      "\u001b[0;32m<ipython-input-6-085102b5cf2d>\u001b[0m in \u001b[0;36m<module>\u001b[0;34m\u001b[0m\n\u001b[1;32m      8\u001b[0m \u001b[0;32mfrom\u001b[0m \u001b[0mastropy\u001b[0m\u001b[0;34m.\u001b[0m\u001b[0mio\u001b[0m \u001b[0;32mimport\u001b[0m \u001b[0mascii\u001b[0m\u001b[0;34m\u001b[0m\u001b[0;34m\u001b[0m\u001b[0m\n\u001b[1;32m      9\u001b[0m \u001b[0;34m\u001b[0m\u001b[0m\n\u001b[0;32m---> 10\u001b[0;31m \u001b[0;32mfrom\u001b[0m \u001b[0mastroquery\u001b[0m\u001b[0;34m.\u001b[0m\u001b[0mutils\u001b[0m\u001b[0;34m.\u001b[0m\u001b[0mtap\u001b[0m\u001b[0;34m.\u001b[0m\u001b[0mcore\u001b[0m \u001b[0;32mimport\u001b[0m \u001b[0mTap\u001b[0m\u001b[0;34m\u001b[0m\u001b[0;34m\u001b[0m\u001b[0m\n\u001b[0m\u001b[1;32m     11\u001b[0m \u001b[0;34m\u001b[0m\u001b[0m\n\u001b[1;32m     12\u001b[0m \u001b[0;32mfrom\u001b[0m \u001b[0mMontagePy\u001b[0m\u001b[0;34m.\u001b[0m\u001b[0mmain\u001b[0m    \u001b[0;32mimport\u001b[0m \u001b[0;34m*\u001b[0m\u001b[0;34m\u001b[0m\u001b[0;34m\u001b[0m\u001b[0m\n",
      "\u001b[0;31mModuleNotFoundError\u001b[0m: No module named 'astroquery'"
     ]
    }
   ],
   "source": [
    "import os\n",
    "import sys\n",
    "import shutil\n",
    "import warnings\n",
    "import sdss_archive\n",
    "import datetime\n",
    "\n",
    "from astropy.io import ascii\n",
    "\n",
    "from astroquery.utils.tap.core import Tap\n",
    "\n",
    "from MontagePy.main    import *\n",
    "from MontagePy.archive import *\n",
    "\n",
    "from IPython.display import Image\n",
    "\n",
    "start = datetime.datetime.now()\n",
    "print('Start: ' + str(start))\n",
    "\n",
    "\n",
    "# These are the parameters defining the mosaic we want to make.\n",
    "\n",
    "location  = \"M51\"\n",
    "size      = 0.25\n",
    "band      = \"g\"\n",
    "workdir   = \"M51g\"\n",
    "\n",
    "workdir = \"/home/idies/workspace/Temporary/raddick/montage_temp/\" + workdir + '/'"
   ]
  },
  {
   "cell_type": "markdown",
   "metadata": {},
   "source": [
    "\n",
    "## Working Environment\n",
    "\n",
    "Before we get to actually building the mosaic, we need to set up our working environment.  Given the volume of data possible, the Montage processing is file based and we need to set up some subdirectories to hold bits of it.  This will all be under an instance-specific directory specified above (\"workdir\").  It is best not to use directory names with embedded spaces."
   ]
  },
  {
   "cell_type": "code",
   "execution_count": null,
   "metadata": {},
   "outputs": [],
   "source": [
    "try:\n",
    "    home\n",
    "except:\n",
    "    home = os.getcwd()\n",
    "\n",
    "os.chdir(home)\n",
    "\n",
    "print(\"Startup folder: \" + home)\n",
    "\n",
    "\n",
    "# Clean out any old copy of the work tree, then remake it\n",
    "# and the set of the subdirectories we will need.\n",
    "\n",
    "try:\n",
    "    shutil.rmtree(workdir)\n",
    "except:\n",
    "    print(\"Can't delete work tree; may not exist or the device may be busy.\", flush=True)\n",
    "\n",
    "print(\"Work directory: \" + workdir, flush=True)\n",
    "\n",
    "try:\n",
    "    os.makedirs(workdir)  \n",
    "except:\n",
    "    pass\n",
    "    \n",
    "os.chdir(workdir)\n",
    "\n",
    "try:\n",
    "    os.makedirs(\"raw\")\n",
    "except:\n",
    "    pass\n",
    "\n",
    "try:\n",
    "    os.makedirs(\"projected\") \n",
    "except:\n",
    "    pass\n",
    "\n",
    "try:\n",
    "    os.makedirs(\"diffs\")\n",
    "except:\n",
    "    pass \n",
    "\n",
    "try:\n",
    "    os.makedirs(\"corrected\")\n",
    "except:\n",
    "    pass"
   ]
  },
  {
   "cell_type": "markdown",
   "metadata": {},
   "source": [
    "## Retrieving Data from an Archive\n",
    "\n",
    "Now the first bit of Montage processing.  Montage uses standard FITS files throughout and FITS files have all the metadata describing the image (for us that mainly means pixel scale, projection type and center, rotation and so on).  To drive the processing we need a \"FITS header\" specification from the user, which we capture in a header \"template\" file that looks just like a FITS header though with newlines (FITS headers have fixed 80-character card images with no line breaks).  The mHdr routine is a utility that creates a simple FITS header template with limited control over all the above (<i>e.g.</i> the projection is always gnomonic (TAN)).  Other common options are to use a header extracted from some pre-existing FITS file (to create a matching mosaic) or to use mMakeHdr, which fits a bounding box around a set of images (usually the ones you are about to mosaic).\n",
    "\n",
    "We also use the location and size to retrieve the data we want from a remote archive.  Montage provides an image metadata search service (using mSearch &mdash; a very fast R-Tree / memory-mapped utility &mdash; for most datasets).  This service returns URLs for all the images covering the region of interest, which are then downloaded.\n",
    "\n",
    "There are many other ways to find images.  The International Virtual Astronomy Alliance (IVOA) has developed a couple of standards for querying metadata (Simple Image Access: SIAP and Table Access Protocol: TAP) which many data providers support.  Our service is focused on a few large uniform datasets (2MASS, DSS, SDSS, WISE).  Other datasets require more care.  For instance, simply downloading all pointed observations of a specific region for a non-survey instrument will include a wide range of integration times (and therefore noise levels) and the mosaicking should involve user-specified weighting of the images (which Montage supports but does not define)."
   ]
  },
  {
   "cell_type": "code",
   "execution_count": null,
   "metadata": {},
   "outputs": [],
   "source": [
    "# Create the FITS header for the mosaic.\n",
    "#os.chdir(workdir+'raw/')\n",
    "rtn = mHdr(location, size, size, \"region.hdr\")\n",
    "\n",
    "print(\"mHdr:             \" + str(rtn), flush=True)\n",
    "\n",
    "\n",
    "# Retrieve archive images covering the region then scan \n",
    "# the images for their coverage metadata.\n",
    "\n",
    "rtn = sdss_archive.sdssDownload(band, location, size, workdir+\"raw\")\n",
    "\n",
    "print(\"mArchiveDownload: \" + str(rtn), flush=True)\n",
    "\n",
    "rtn = mImgtbl(workdir+\"raw\", \"rimages.tbl\")\n",
    "\n",
    "print(\"mImgtbl (raw):    \" + str(rtn), flush=True)\n"
   ]
  },
  {
   "cell_type": "markdown",
   "metadata": {},
   "source": [
    "## Reprojecting the Images\n",
    "\n",
    "In the last step above, we generated a list of all the images (with projection metadata) that had been successfully downloaded.  Using this and header template from above, we can now reproject all the images to a common frame.\n",
    "\n",
    "Montage supplies four different reprojection modules to fit different needs.  mProject is completely general and is flux conserving but this results in it being fairly slow.  For a subset of projections (specifically where both the source and destination are tangent-plane projections) we can use a custom plane-to-plane algorithm developed by the Spitzer Space Telescope).  While mProjectPP only supports a subset of cases, they are extremely common ones.  mProjectPP is also flux conserving.\n",
    "\n",
    "For fast reprojection, we relax the flux conservation requirement. However, even though we call attention to this explicitly in the name of the module: mProjectQL (quick-look), the results are indistinguishable from the other algorithms for all the tests we have run.\n",
    "\n",
    "The fourth reprojection module, mProjectCube, is specifically for three- and four-dimensional datacubes.\n",
    "\n",
    "mProjExec is a wrapper around the three main reprojection routines that determines whether mProjectPP or mProject should be used for each image (unless overridden with mProjectQL as here).  There is one final twist:  FITS headers allow for distortion parameters.  While these were introduced to deal with instrumental distortions, we can often use them to mimic an arbitrary projection over a small region with a distorted gnomonic projection.  This allows us to use mProjectPP over a wider range of cases and still have flux conservation with increased speed."
   ]
  },
  {
   "cell_type": "code",
   "execution_count": null,
   "metadata": {},
   "outputs": [],
   "source": [
    "# Reproject the original images to the  frame of the \n",
    "# output FITS header we created\n",
    "#os.chdir(workdir+'raw/')\n",
    "\n",
    "rtn = mProjExec(\"raw\", \"rimages.tbl\", \"region.hdr\", projdir=\"projected\", quickMode=True)\n",
    "\n",
    "print(\"mProjExec:           \" + str(rtn), flush=True)\n",
    "\n",
    "mImgtbl(\"projected\", \"pimages.tbl\")\n",
    "\n",
    "print(\"mImgtbl (projected): \" + str(rtn), flush=True)\n"
   ]
  },
  {
   "cell_type": "markdown",
   "metadata": {},
   "source": [
    "## Coadding for a Mosaic\n",
    "\n",
    "Now that we have a set of image all reprojected to a common frame, we can coadd them into a mosaic.  "
   ]
  },
  {
   "cell_type": "code",
   "execution_count": null,
   "metadata": {},
   "outputs": [],
   "source": [
    "# Coadd the projected images without backgound correction.\n",
    "\n",
    "rtn = mAdd(\"projected\", \"pimages.tbl\", \"region.hdr\", \"uncorrected.fits\")\n",
    "\n",
    "print(\"mAdd:    \" + str(rtn), flush=True)"
   ]
  },
  {
   "cell_type": "markdown",
   "metadata": {},
   "source": [
    "\n",
    "## Searching a Catalog \n",
    "\n"
   ]
  },
  {
   "cell_type": "code",
   "execution_count": null,
   "metadata": {},
   "outputs": [],
   "source": [
    "# There are Table Access Protocol services at CDS, IRSA, GAIA, NED etc.\n",
    "\n",
    "warnings.filterwarnings('ignore')\n",
    "   \n",
    "service = Tap(url=\"https://irsa.ipac.caltech.edu/TAP\")\n",
    "\n",
    "job = service.launch_job_async(\"\"\"SELECT ra, dec, j_m, h_m, k_m FROM fp_psc \n",
    "                                  WHERE CONTAINS(POINT('ICRS',ra, dec), CIRCLE('ICRS',202.48417,47.23056,0.4))=1\"\"\",\n",
    "                                  verbose=False, background=True)\n",
    "res = job.get_results()\n",
    "\n",
    "ascii.write(res, output='fp_2mass.tbl', format='ipac')"
   ]
  },
  {
   "cell_type": "markdown",
   "metadata": {},
   "source": [
    "## View the Image\n",
    "\n",
    "FITS files are binary data structures. To see the image we need to render to a JPEG or PNG form.  This involves choosing a stretch, color table (if it is a single image as here) and so on.  Montage provides a general visualization tool (mViewer) which can process a single image or multiple images for full color.  It supports overlays of various sorts.  One of its most useful features is a custom stretch algorithm which is based on gaussian-transformed histogram equalization, optionally with an extra logarithmic transform for really bright excursions.  A large fraction of astronomical images share the general characteristics of having a lot of pixels with something like a gaussian distribution at a low flux level (either background noise of low-level sky structure) coupled with a long histogram tail of very bright point-like sources.  If we apply our algorithm to this, stretching from the -2 or -1 \"sigma\" value of the low-level distribution to the image brightness maximum we usually get a good balance of seeing the low-level structure while still seeing the structure and brightness variations of the bright sources.\n",
    "\n",
    "mViewer specifications can become quite lengthy so the module provides three entry mechanisms.  The most terse (used here) is a \"parameter string\" based on the command-line arguments of the original stand-alone C program.  For more complicated descriptions the user can define a JSON string or JSON file.  See the <a style=\"text-decoration: none; color: #c00000\" href=\"mViewer.ipynb\"> Sky Visualization </a> notebook example.\n",
    "\n",
    "We use the built-in IPython.display utility to show the resultant image, which shrinks it to fit.  There are several other tools you can use instead."
   ]
  },
  {
   "cell_type": "code",
   "execution_count": null,
   "metadata": {},
   "outputs": [],
   "source": [
    "# Make a PNG rendering of the data and display it.\n",
    "\n",
    "rtn = mViewer('''-ct 1 \n",
    "                 -color blue\n",
    "                 -grid equ j2000\n",
    "                 -color red \n",
    "                 -symbol 1.0 circle \n",
    "                 -scalecol j_m 16.0 mag \n",
    "                 -catalog fp_2mass.tbl \n",
    "                 -gray uncorrected.fits -2s max gaussian-log -out uncorrected.png''',\n",
    "               \"\", mode=2)\n",
    "\n",
    "print(\"mViewer: \" + str(rtn), flush=True)\n",
    "\n",
    "Image(filename='uncorrected.png')"
   ]
  },
  {
   "cell_type": "code",
   "execution_count": null,
   "metadata": {},
   "outputs": [],
   "source": [
    "end = datetime.datetime.now()\n",
    "print('End: ' + str(start))\n",
    "\n",
    "runtime = end - start\n",
    "\n",
    "print('\\nTotal time: ' + str(runtime))"
   ]
  },
  {
   "cell_type": "code",
   "execution_count": null,
   "metadata": {},
   "outputs": [],
   "source": []
  }
 ],
 "metadata": {
  "kernelspec": {
   "display_name": "Python 3.8 (py38)",
   "language": "python",
   "name": "py38"
  },
  "language_info": {
   "codemirror_mode": {
    "name": "ipython",
    "version": 3
   },
   "file_extension": ".py",
   "mimetype": "text/x-python",
   "name": "python",
   "nbconvert_exporter": "python",
   "pygments_lexer": "ipython3",
   "version": "3.8.5"
  }
 },
 "nbformat": 4,
 "nbformat_minor": 4
}
