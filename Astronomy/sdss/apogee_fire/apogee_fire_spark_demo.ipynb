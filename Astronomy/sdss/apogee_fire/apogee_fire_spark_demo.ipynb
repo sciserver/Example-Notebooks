{
 "cells": [
  {
   "cell_type": "markdown",
   "metadata": {},
   "source": [
    "# APOGEE-FIRE on SPARK: orbital eccentricities\n",
    "\n",
    "As an example of a non-trivial workload that can take advantage of the distribution of arbitrary code to rows of a large dataset - combined with SQL expressions - we compute orbital eccentricity for a population of stars and compare distributions for different metallicities.\n",
    "\n",
    "For this example we deploy galpy orbital integration to a subset of the full catalog and then aggregate to generate a histogram accumulating object counts in two regimes of iron abundance. "
   ]
  },
  {
   "cell_type": "markdown",
   "metadata": {},
   "source": [
    "### Configure the spark session\n",
    "At startup time, we can tell spark of any requirements we have on amount of memory or other settings. In this case 5 concurrent tasks run under the same process and share 8gb of memory - any number of these units will be run in parallel across the cluster as needed. We also set the HOME directory, as galpy will create a configuration file on startup - but in the cluster we do not have a concept of persistent home directory."
   ]
  },
  {
   "cell_type": "code",
   "execution_count": 1,
   "metadata": {},
   "outputs": [
    {
     "data": {
      "text/html": [
       "Current session configs: <tt>{'executorMemory': '8g', 'executorCores': 5, 'conf': {'spark.sql.files.maxPartitionBytes': 268435456, 'spark.executorEnv.HOME': '/tmp', 'spark.yarn.appMasterEnv.HOME': '/tmp'}, 'kind': 'pyspark'}</tt><br>"
      ],
      "text/plain": [
       "<IPython.core.display.HTML object>"
      ]
     },
     "metadata": {},
     "output_type": "display_data"
    },
    {
     "data": {
      "text/html": [
       "No active sessions."
      ],
      "text/plain": [
       "<IPython.core.display.HTML object>"
      ]
     },
     "metadata": {},
     "output_type": "display_data"
    }
   ],
   "source": [
    "%%configure -f\n",
    "{ \"executorMemory\": \"8g\", \"executorCores\": 5, \n",
    "  \"conf\": { \n",
    "      \"spark.sql.files.maxPartitionBytes\": 268435456,\n",
    "      \"spark.executorEnv.HOME\": \"/tmp\",\n",
    "      \"spark.yarn.appMasterEnv.HOME\": \"/tmp\"\n",
    "  }\n",
    "}"
   ]
  },
  {
   "cell_type": "markdown",
   "metadata": {},
   "source": [
    "Another galpy related settings, ensuring we override the home environment on the driver program, which runs alongside workers managing them. Since this is the first code cell, it triggers the creation of a spark session on the remote cluster."
   ]
  },
  {
   "cell_type": "code",
   "execution_count": 2,
   "metadata": {},
   "outputs": [
    {
     "name": "stdout",
     "output_type": "stream",
     "text": [
      "Starting Spark application\n"
     ]
    },
    {
     "data": {
      "text/html": [
       "<table>\n",
       "<tr><th>ID</th><th>YARN Application ID</th><th>Kind</th><th>State</th><th>Spark UI</th><th>Driver log</th><th>User</th><th>Current session?</th></tr><tr><td>92</td><td>application_1652993163904_0093</td><td>pyspark</td><td>idle</td><td><a target=\"_blank\" href=\"https://apps.sciserver.org/sparkgw/dracula/sparkhistory/history/application_1652993163904_0093\">Link</a></td><td><a target=\"_blank\" href=\"http://worker-14.worker.spark.svc.cluster.local:8042/node/containerlogs/container_e11_1652993163904_0093_01_000001/arik\">Link</a></td><td>arik</td><td>✔</td></tr></table>"
      ],
      "text/plain": [
       "<IPython.core.display.HTML object>"
      ]
     },
     "metadata": {},
     "output_type": "display_data"
    },
    {
     "data": {
      "text/html": [
       "<script>idle()</script>"
      ],
      "text/plain": [
       "<IPython.core.display.HTML object>"
      ]
     },
     "metadata": {},
     "output_type": "display_data"
    },
    {
     "name": "stdout",
     "output_type": "stream",
     "text": [
      "SparkSession available as 'spark'.\n"
     ]
    },
    {
     "data": {
      "text/html": [
       "<script>idle()</script>"
      ],
      "text/plain": [
       "<IPython.core.display.HTML object>"
      ]
     },
     "metadata": {},
     "output_type": "display_data"
    }
   ],
   "source": [
    "import os\n",
    "os.environ['HOME'] = '/tmp'"
   ]
  },
  {
   "cell_type": "code",
   "execution_count": 3,
   "metadata": {
    "scrolled": true
   },
   "outputs": [
    {
     "data": {
      "text/html": [
       "<script>idle()</script>"
      ],
      "text/plain": [
       "<IPython.core.display.HTML object>"
      ]
     },
     "metadata": {},
     "output_type": "display_data"
    }
   ],
   "source": [
    "import pandas as pd\n",
    "import numpy as np\n",
    "import healpy as hp\n",
    "from galpy.orbit import Orbit\n",
    "from galpy.potential import MWPotential2014\n",
    "from matplotlib import pyplot as plt\n",
    "from astropy import units"
   ]
  },
  {
   "cell_type": "markdown",
   "metadata": {},
   "source": [
    "### Setup code for distribution\n",
    "\n",
    "There are a number of ways to distribute python code in Spark. Here we use the [mapInPandas](https://spark.apache.org/docs/latest/api/python/reference/api/pyspark.sql.DataFrame.mapInPandas.html) function of the Spark DataFrame, which takes as input pandas dataframes and produces pandas dataframes as output. We've separated the core functionality of computing the results into a dataframe, with the glue that `mapInPandas` expects (an iterator of dataframes, plus the output schema)"
   ]
  },
  {
   "cell_type": "code",
   "execution_count": 4,
   "metadata": {},
   "outputs": [
    {
     "data": {
      "text/html": [
       "<script>idle()</script>"
      ],
      "text/plain": [
       "<IPython.core.display.HTML object>"
      ]
     },
     "metadata": {},
     "output_type": "display_data"
    }
   ],
   "source": [
    "def get_orbits(df):\n",
    "    o = Orbit(df[['ra','dec','dhel','pmra','pmdec','radial_velocity']].values, radec=True)\n",
    "    lb = np.linspace(0, 10, 1000)\n",
    "    o.integrate(lb, MWPotential2014, method='rk4_c')\n",
    "    r_df = pd.DataFrame({'e': o.e(), 'feh': df['feh_apogee'].values})\n",
    "    return r_df\n",
    "\n",
    "def get_orbits_mapper():\n",
    "    def mapper(it):\n",
    "        for df in it:\n",
    "            yield get_orbits(df)\n",
    "    schema = 'e double, feh double'\n",
    "    return mapper, schema"
   ]
  },
  {
   "cell_type": "markdown",
   "metadata": {},
   "source": [
    "### Deploy\n",
    "\n",
    "First downsample and select the columns of interest. The underlying data are stored in [parquet](https://parquet.apache.org/) format, which is a column-oriented store - meaning that the fewer columns we require, the less data we have to load. For the purpose of orbit integration, we will require that radial_velocities be numbers (in this case, the others are also valid), and we filter out the most extreme low-metallicity stars.\n",
    "\n",
    "The SQL query will return a DataFrame, which we then sample (to enable the query to run in interactive-ish-time) and deploy the galpy integration code as defined above.\n",
    "\n",
    "Finally, we register the output DataFrame as a temporary table so we can reference it in SQL statements. "
   ]
  },
  {
   "cell_type": "code",
   "execution_count": 5,
   "metadata": {
    "scrolled": false
   },
   "outputs": [
    {
     "data": {
      "text/html": [
       "<script>idle()</script>"
      ],
      "text/plain": [
       "<IPython.core.display.HTML object>"
      ]
     },
     "metadata": {},
     "output_type": "display_data"
    }
   ],
   "source": [
    "integrated = spark.sql('''\n",
    "SELECT ra,dec,dhel_obs as dhel,pmra,pmdec,radial_velocity,l,b,feh_apogee\n",
    "FROM apogee_fire.m12f_lsr0\n",
    "WHERE\n",
    "  feh_apogee > -2 AND NOT isnan(radial_velocity) AND NOT isnan(feh_apogee)\n",
    "'''\n",
    ").sample(0.1).mapInPandas(*get_orbits_mapper())\n",
    "integrated.createOrReplaceTempView('integrated')"
   ]
  },
  {
   "cell_type": "markdown",
   "metadata": {},
   "source": [
    "You might note that the above cell executes very quickly! This is because Spark is a lazy execution system. Until we actually ask for results (e.g. by counting, displaying part of the table, collected the whole output, etc.) all spark does is record the required operations in a graph. This enables optimization opportunities in case things like filters get applied by later queries that can be pushed down the graph.\n",
    "\n",
    "In the below query, we generate the final histogram, creating bins in eccentricity at a resolution of 0.01, accumulating stellar counts for case of \"low metallicity\" ([Fe/H] <= -1) and \"high metallicity\" ([Fe/H] > -1).\n",
    "\n",
    "In this case, the `toPandas` collects all results as a pandas dataframe, and thus triggers the execution of the entire graph up to and including this query. Because we've binned and grouped (and because we know e will be between 0 and 1), the result set is limited and feasible to download from the cluster to the drivers memory (if not, it will surely crash the session!)"
   ]
  },
  {
   "cell_type": "code",
   "execution_count": 6,
   "metadata": {},
   "outputs": [
    {
     "data": {
      "text/html": [
       "<script>idle()</script>"
      ],
      "text/plain": [
       "<IPython.core.display.HTML object>"
      ]
     },
     "metadata": {},
     "output_type": "display_data"
    }
   ],
   "source": [
    "eh = spark.sql('''\n",
    "SELECT e, sum(lm) as lm, sum(hm) as hm\n",
    "FROM (\n",
    "  SELECT FLOOR(e * 100)/100 as e, CASE WHEN feh <= -1 THEN 1 ELSE 0 END AS lm, CASE WHEN feh > -1 THEN 1 ELSE 0 END AS hm\n",
    "  FROM integrated\n",
    ")\n",
    "GROUP BY e\n",
    "ORDER BY e\n",
    "''').toPandas()"
   ]
  },
  {
   "cell_type": "markdown",
   "metadata": {},
   "source": [
    "While waiting (on our current cluster - roughly 10 minutes for this query), you can have a look at the spark history UI, which shows details on the operations being performed on the cluster and tracks progress. You can view detailed query plans and the graphs that make up computations sent to the cluster. Unfortunately, since it is primarily meant for viewing the status of batch jobs, it can be slow to load and may have delays to update infromation. Click in the <span style=\"color:blue\">[HIST]</span> link above."
   ]
  },
  {
   "cell_type": "markdown",
   "metadata": {},
   "source": [
    "Just to demonstrate how many objects we have integrated, look at total counts in each group:"
   ]
  },
  {
   "cell_type": "code",
   "execution_count": 7,
   "metadata": {},
   "outputs": [
    {
     "data": {
      "text/html": [
       "<script>idle()</script>"
      ],
      "text/plain": [
       "<IPython.core.display.HTML object>"
      ]
     },
     "metadata": {},
     "output_type": "display_data"
    },
    {
     "name": "stdout",
     "output_type": "stream",
     "text": [
      "lm     202335\n",
      "hm    4960447\n",
      "dtype: int64"
     ]
    }
   ],
   "source": [
    "eh[['lm','hm']].sum()"
   ]
  },
  {
   "cell_type": "markdown",
   "metadata": {},
   "source": [
    "### Plot\n",
    "\n",
    "Finally we can plot the result!"
   ]
  },
  {
   "cell_type": "code",
   "execution_count": 8,
   "metadata": {},
   "outputs": [
    {
     "data": {
      "text/html": [
       "<script>idle()</script>"
      ],
      "text/plain": [
       "<IPython.core.display.HTML object>"
      ]
     },
     "metadata": {},
     "output_type": "display_data"
    },
    {
     "name": "stdout",
     "output_type": "stream",
     "text": [
      "<matplotlib.legend.Legend object at 0x7f0117881460>"
     ]
    }
   ],
   "source": [
    "plt.clf()\n",
    "plt.rcParams['xtick.minor.visible'] = True\n",
    "plt.rcParams['ytick.minor.visible'] = True\n",
    "plt.fill_between(eh['e'], eh['lm'] / eh['lm'].sum(), step='pre', alpha=0.2)\n",
    "plt.step(eh['e'], eh['lm'] / eh['lm'].sum(), label='[Fe/H] <= -1')\n",
    "plt.fill_between(eh['e'], eh['hm'] / eh['hm'].sum(), step='pre', alpha=0.2)\n",
    "plt.step(eh['e'], eh['hm'] / eh['hm'].sum(), label='[Fe/H] > -1')\n",
    "plt.gca().tick_params(direction='in', which='both')\n",
    "plt.xlabel('e')\n",
    "plt.ylabel('P')\n",
    "plt.title('Orbital eccentricity by metallicity')\n",
    "plt.legend()"
   ]
  },
  {
   "cell_type": "code",
   "execution_count": 9,
   "metadata": {
    "scrolled": false
   },
   "outputs": [
    {
     "data": {
      "text/html": [
       "<script>idle()</script>"
      ],
      "text/plain": [
       "<IPython.core.display.HTML object>"
      ]
     },
     "metadata": {},
     "output_type": "display_data"
    },
    {
     "data": {
      "image/png": "[encoded data removed]",
      "text/plain": [
       "<IPython.core.display.Image object>"
      ]
     },
     "metadata": {},
     "output_type": "display_data"
    }
   ],
   "source": [
    "%matplot plt"
   ]
  },
  {
   "cell_type": "markdown",
   "metadata": {},
   "source": [
    "Up until now, all code cells were sent off to the spark driver for execution by the underlying [sparkmagic](https://github.com/jupyter-incubator/sparkmagic) kernel. This means we have no access to the filesystems mounted on our container and thus can't save output objects for use in SciServer outside this environment.\n",
    "\n",
    "While sparkmagic has some built-in ways to get data from the cluster to the local environment - it only supports doing so for spark dataframes at the moment. If we don't want to have to re-execute the entire query, here is a little trick to get the pandas dataframe from the cluster. After this, we can save it to a SciServer user volume. We may design some magics or other functionality for loading results from the cluster directly to SciServer via the api for convenience (and for larger data).\n",
    "\n",
    "the `%%local` cell-magic does all operations locally (and note that any imports we did above were on the cluster, so we need to set up the local environment)"
   ]
  },
  {
   "cell_type": "code",
   "execution_count": 20,
   "metadata": {},
   "outputs": [],
   "source": [
    "%%capture ehcsv\n",
    "%%spark\n",
    "print(eh.to_csv(index=False))"
   ]
  },
  {
   "cell_type": "code",
   "execution_count": 23,
   "metadata": {},
   "outputs": [
    {
     "name": "stdout",
     "output_type": "stream",
     "text": [
      "       lm     hm\n",
      "e               \n",
      "0.00    4   1413\n",
      "0.01   16   4555\n",
      "0.02   63   7954\n",
      "0.03   67  11427\n",
      "0.04  135  14894\n"
     ]
    }
   ],
   "source": [
    "%%local\n",
    "import pandas as pd\n",
    "from io import StringIO\n",
    "eh = pd.read_csv(StringIO(ehcsv.stdout)).set_index('e')\n",
    "print(eh.head())"
   ]
  },
  {
   "cell_type": "code",
   "execution_count": 24,
   "metadata": {},
   "outputs": [],
   "source": [
    "%%local\n",
    "eh.to_csv('apogee_fire_eccentricity_distributions.csv')"
   ]
  },
  {
   "cell_type": "markdown",
   "metadata": {},
   "source": [
    "this magic is also done locally"
   ]
  },
  {
   "cell_type": "code",
   "execution_count": 27,
   "metadata": {},
   "outputs": [
    {
     "name": "stdout",
     "output_type": "stream",
     "text": [
      "-rw-rw-r--. 1 idies idies 1.6K Jun 10 21:15 apogee_fire_eccentricity_distributions.csv\r\n"
     ]
    }
   ],
   "source": [
    "%ls -lh apogee_fire*.csv"
   ]
  }
 ],
 "metadata": {
  "kernelspec": {
   "display_name": "PySpark",
   "language": "python",
   "name": "pysparkkernel"
  },
  "language_info": {
   "codemirror_mode": {
    "name": "python",
    "version": 3
   },
   "file_extension": ".py",
   "mimetype": "text/x-python",
   "name": "pyspark",
   "pygments_lexer": "python3"
  },
  "sciserver": {
   "copySource": {
    "path": "apogee_fire_input_check",
    "volId": "49850",
    "volType": "uservolumes"
   },
   "imageInfo": {
    "cachedContainer": {
     "arik": 149893
    },
    "dataVolumes": [],
    "domain": 6,
    "name": "Dracula Spark",
    "userVolumes": [
     49850,
     49851
    ]
   },
   "lastEdit": {
    "time": 1654896822331,
    "user": "arik"
   },
   "notebookId": "YXJpazE2NTQ3OTY1NTUyNTE="
  },
  "toc": {
   "base_numbering": 1,
   "nav_menu": {},
   "number_sections": false,
   "sideBar": false,
   "skip_h1_title": false,
   "title_cell": "Table of Contents",
   "title_sidebar": "Contents",
   "toc_cell": true,
   "toc_position": {
    "height": "47.6px",
    "left": "1237px",
    "top": "107.8px",
    "width": "159px"
   },
   "toc_section_display": false,
   "toc_window_display": false
  }
 },
 "nbformat": 4,
 "nbformat_minor": 4
}
