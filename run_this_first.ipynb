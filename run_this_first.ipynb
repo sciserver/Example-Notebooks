{
 "cells": [
  {
   "cell_type": "markdown",
   "metadata": {},
   "source": [
    "# Start Here: copy example notebooks"
   ]
  },
  {
   "cell_type": "markdown",
   "metadata": {},
   "source": [
    "SciServer Compute's <strong><code>Getting Started</code></strong> Data Volume is read-only and shared among all users. This means that you can run all the Example Notebooks in any container, and you can make temporary edits, but you cannot save your changes.\n",
    "\n",
    "Use this notebook to copy all the Example Notebooks into a new folder inside your <code>persistent</code> folder, where you can edit and save freely. By default, the folder will be called <b>examples</b>, but you can change the name below.\n",
    "\n",
    "Click inside the gray code cell below, just under the <em>Setup</em> label. Click the Run button above this notebook to run the setup commands. Then run the next code cell, under <em>Copy example notebooks</em>, to start copying. (If you prefer to use GitHub, ignore that code cell, and uncomment and run the cell in the <em>Using GitHub</em> section instead.)\n",
    "\n",
    "Then close this window and navigate to Storage -> {your username} -> persistent ->  {folderName}. Open one of the \"start\" notebooks for your science domain to start working with big data through the SciServer science platform!"
   ]
  },
  {
   "cell_type": "markdown",
   "metadata": {},
   "source": [
    "## Setup"
   ]
  },
  {
   "cell_type": "code",
   "execution_count": null,
   "metadata": {},
   "outputs": [],
   "source": [
    "from SciServer import Authentication\n",
    "import os\n",
    "from shutil import copytree, ignore_patterns\n",
    "from IPython.core.display import HTML, display\n",
    "\n",
    "folderName = 'examples'   # name of folder where example notebooks will be copied\n",
    "\n",
    "msg = 'Run the next code cell to copy all example notebooks into a new folder called <strong>{0:}</strong> inside your persistent folder.'.format(folderName)\n",
    "display(HTML(msg))"
   ]
  },
  {
   "cell_type": "markdown",
   "metadata": {},
   "source": [
    "## Copy example notebooks"
   ]
  },
  {
   "cell_type": "code",
   "execution_count": null,
   "metadata": {},
   "outputs": [],
   "source": [
    "# myUserName = Authentication.getKeystoneUserWithToken(Authentication.getToken()).userName\n",
    "# userPath = \"/home/idies/workspace/Storage/\" + myUserName + \"/persistent/\" \n",
    "\n",
    "# #infilePath = \"/home/idies/workspace/getting_started/example-notebooks/\"\n",
    "# infilePath = \"/home/idies/workspace/Storage/raddick/example-notebooks-sandbox/\"\n",
    "\n",
    "# if (os.path.exists(userPath+folderName)):\n",
    "#     msg = '<p><strong>Error:</strong> directory <b><code>{0:}</code></b> already exists inside <code>persistent</code>.</p><p>Please delete it, or change the value of <code>folderName</code> in the code cell above.'.format(folderName)\n",
    "#     display(HTML(msg))\n",
    "# else:\n",
    "#     print('Copying files...')\n",
    "#     copytree(infilePath, userPath+folderName, ignore=ignore_patterns('.git/', '.git*', '.ipynb_checkpoints*'))\n",
    "#     #os.chdir(infilePath)\n",
    "#     msg = 'Example notebooks copied into <strong><code>{0:}{1:}</code></strong>'.format(userPath, folderName)\n",
    "#     display(HTML(msg))"
   ]
  },
  {
   "cell_type": "markdown",
   "metadata": {},
   "source": [
    "# What's next?"
   ]
  },
  {
   "cell_type": "markdown",
   "metadata": {},
   "source": [
    "Now that you have copied (or cloned) these example Python notebooks into a place where you can edit them, it's time to create your own!\n",
    "\n",
    "The best way to learn is by modifying working examples, so go to the place in your persistent directory where you copied these example notebooks and start exploring!\n",
    "\n",
    "A good place to start is with the <b>start</b> notebooks for each science domain, each of which contains a simple but scientificially meaningful example from that domain.\n",
    "\n",
    "Questions? Email us at sciserver-help@jhu.edu"
   ]
  },
  {
   "cell_type": "markdown",
   "metadata": {},
   "source": [
    "# 3. Clone example notebooks from GitHub (optional alternative)"
   ]
  },
  {
   "cell_type": "markdown",
   "metadata": {},
   "source": [
    "If you prefer to get the sample notebooks through GitHub, uncomment and run the two code cells below, rather than the <em>Copy example notebooks</em> code cell above."
   ]
  },
  {
   "cell_type": "code",
   "execution_count": null,
   "metadata": {},
   "outputs": [],
   "source": [
    "from SciServer import Authentication\n",
    "import os\n",
    "from shutil import copytree, ignore_patterns\n",
    "from IPython.core.display import HTML, display\n",
    "\n",
    "myUserName = Authentication.getKeystoneUserWithToken(Authentication.getToken()).userName\n",
    "userPath = \"/home/idies/workspace/Storage/\" + myUserName + \"/persistent/\"\n",
    "\n",
    "\n",
    "if (os.path.exists(userPath+folderName)):\n",
    "    msg = '<p><strong>Error:</strong> directory <b><code>{0:}</code></b> already exists inside <code>persistent</code>.</p>'.format(folderName)\n",
    "    msg += '<p>Please delete it before running the <code>git clone</code> command below.'\n",
    "    display(HTML(msg))\n",
    "else:\n",
    "    os.chdir(userPath)\n",
    "    os.mkdir(folderName)\n",
    "    os.chdir(folderName)\n",
    "#    msg = '<p>Created new folder <strong><code>{0:}{1:}</code></strong></p>'.format(userPath, folderName)\n",
    "    msg = '<p>Uncomment and run the code cell below to clone the example notebooks into <code>{0:}{1:}</code>.</p>'.format(userPath, folderName)\n",
    "    display(HTML(msg))\n",
    "os.getcwd()"
   ]
  },
  {
   "cell_type": "code",
   "execution_count": null,
   "metadata": {},
   "outputs": [],
   "source": [
    "!git clone https://github.com/sciserver/Example-Notebooks.git"
   ]
  },
  {
   "cell_type": "code",
   "execution_count": null,
   "metadata": {},
   "outputs": [],
   "source": []
  }
 ],
 "metadata": {
  "kernelspec": {
   "display_name": "Python 3.8 (py38)",
   "language": "python",
   "name": "py38"
  },
  "language_info": {
   "codemirror_mode": {
    "name": "ipython",
    "version": 3
   },
   "file_extension": ".py",
   "mimetype": "text/x-python",
   "name": "python",
   "nbconvert_exporter": "python",
   "pygments_lexer": "ipython3",
   "version": "3.8.5"
  }
 },
 "nbformat": 4,
 "nbformat_minor": 2
}
