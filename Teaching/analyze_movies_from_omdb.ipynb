{
 "cells": [
  {
   "cell_type": "code",
   "execution_count": 7,
   "metadata": {},
   "outputs": [
    {
     "name": "stdout",
     "output_type": "stream",
     "text": [
      "ok\n"
     ]
    }
   ],
   "source": [
    "import pandas\n",
    "import numpy as np\n",
    "import os\n",
    "from pprint import pprint\n",
    "import time\n",
    "from matplotlib import pyplot as plt\n",
    "from pathlib import Path\n",
    "\n",
    "print('ok')"
   ]
  },
  {
   "cell_type": "code",
   "execution_count": 32,
   "metadata": {},
   "outputs": [
    {
     "name": "stdout",
     "output_type": "stream",
     "text": [
      "CPU times: user 1.72 ms, sys: 963 µs, total: 2.69 ms\n",
      "Wall time: 1.89 ms\n"
     ]
    }
   ],
   "source": [
    "%%time\n",
    "pathlist = Path('/home/idies/workspace/getting_started/movies/data/').glob('omdb*.csv')\n",
    "for ix,somefile in enumerate(pathlist):\n",
    "    print('Reading {:}...'.format(somefile))\n",
    "    if ix==0:\n",
    "        %time movies_df = pandas.read_csv(somefile, low_memory=False, index_col='imdb_id', encoding='utf-8')\n",
    "    else:\n",
    "        %time movies_df = movies_df.append(pandas.read_csv(somefile, low_memory=False, index_col='imdb_id', encoding='utf-8'), sort=True)"
   ]
  },
  {
   "cell_type": "code",
   "execution_count": 29,
   "metadata": {},
   "outputs": [
    {
     "data": {
      "text/html": [
       "<div>\n",
       "<style scoped>\n",
       "    .dataframe tbody tr th:only-of-type {\n",
       "        vertical-align: middle;\n",
       "    }\n",
       "\n",
       "    .dataframe tbody tr th {\n",
       "        vertical-align: top;\n",
       "    }\n",
       "\n",
       "    .dataframe thead th {\n",
       "        text-align: right;\n",
       "    }\n",
       "</style>\n",
       "<table border=\"1\" class=\"dataframe\">\n",
       "  <thead>\n",
       "    <tr style=\"text-align: right;\">\n",
       "      <th>imdb_id</th>\n",
       "      <th>1825683</th>\n",
       "    </tr>\n",
       "  </thead>\n",
       "  <tbody>\n",
       "    <tr>\n",
       "      <th>Actors</th>\n",
       "      <td>Chadwick Boseman, Michael B. Jordan, Lupita Ny...</td>\n",
       "    </tr>\n",
       "    <tr>\n",
       "      <th>Awards</th>\n",
       "      <td>14 nominations.</td>\n",
       "    </tr>\n",
       "    <tr>\n",
       "      <th>BoxOffice</th>\n",
       "      <td>$501,105,037</td>\n",
       "    </tr>\n",
       "    <tr>\n",
       "      <th>Country</th>\n",
       "      <td>USA</td>\n",
       "    </tr>\n",
       "    <tr>\n",
       "      <th>DVD</th>\n",
       "      <td>15 May 2018</td>\n",
       "    </tr>\n",
       "    <tr>\n",
       "      <th>Director</th>\n",
       "      <td>Ryan Coogler</td>\n",
       "    </tr>\n",
       "    <tr>\n",
       "      <th>Episode</th>\n",
       "      <td>NaN</td>\n",
       "    </tr>\n",
       "    <tr>\n",
       "      <th>Error</th>\n",
       "      <td>NaN</td>\n",
       "    </tr>\n",
       "    <tr>\n",
       "      <th>Genre</th>\n",
       "      <td>Action, Adventure, Sci-Fi</td>\n",
       "    </tr>\n",
       "    <tr>\n",
       "      <th>Language</th>\n",
       "      <td>Swahili, Nama, English, Xhosa, Korean</td>\n",
       "    </tr>\n",
       "    <tr>\n",
       "      <th>Metascore</th>\n",
       "      <td>88</td>\n",
       "    </tr>\n",
       "    <tr>\n",
       "      <th>Plot</th>\n",
       "      <td>T'Challa, the King of Wakanda, rises to the th...</td>\n",
       "    </tr>\n",
       "    <tr>\n",
       "      <th>Poster</th>\n",
       "      <td>https://ia.media-imdb.com/images/M/MV5BMTg1MTY...</td>\n",
       "    </tr>\n",
       "    <tr>\n",
       "      <th>Production</th>\n",
       "      <td>Marvel Studios</td>\n",
       "    </tr>\n",
       "    <tr>\n",
       "      <th>Rated</th>\n",
       "      <td>PG-13</td>\n",
       "    </tr>\n",
       "    <tr>\n",
       "      <th>Ratings</th>\n",
       "      <td>[{'Source': 'Internet Movie Database', 'Value'...</td>\n",
       "    </tr>\n",
       "    <tr>\n",
       "      <th>Released</th>\n",
       "      <td>16 Feb 2018</td>\n",
       "    </tr>\n",
       "    <tr>\n",
       "      <th>Response</th>\n",
       "      <td>True</td>\n",
       "    </tr>\n",
       "    <tr>\n",
       "      <th>Runtime</th>\n",
       "      <td>134 min</td>\n",
       "    </tr>\n",
       "    <tr>\n",
       "      <th>Season</th>\n",
       "      <td>NaN</td>\n",
       "    </tr>\n",
       "    <tr>\n",
       "      <th>Title</th>\n",
       "      <td>Black Panther</td>\n",
       "    </tr>\n",
       "    <tr>\n",
       "      <th>Type</th>\n",
       "      <td>movie</td>\n",
       "    </tr>\n",
       "    <tr>\n",
       "      <th>Website</th>\n",
       "      <td>https://www.facebook.com/BlackPantherMovie/</td>\n",
       "    </tr>\n",
       "    <tr>\n",
       "      <th>Writer</th>\n",
       "      <td>Ryan Coogler, Joe Robert Cole, Stan Lee (based...</td>\n",
       "    </tr>\n",
       "    <tr>\n",
       "      <th>Year</th>\n",
       "      <td>2018</td>\n",
       "    </tr>\n",
       "    <tr>\n",
       "      <th>imdbID</th>\n",
       "      <td>tt1825683</td>\n",
       "    </tr>\n",
       "    <tr>\n",
       "      <th>imdbRating</th>\n",
       "      <td>7.7</td>\n",
       "    </tr>\n",
       "    <tr>\n",
       "      <th>imdbVotes</th>\n",
       "      <td>247,680</td>\n",
       "    </tr>\n",
       "    <tr>\n",
       "      <th>retrieved_at</th>\n",
       "      <td>1.52822e+09</td>\n",
       "    </tr>\n",
       "    <tr>\n",
       "      <th>seriesID</th>\n",
       "      <td>NaN</td>\n",
       "    </tr>\n",
       "    <tr>\n",
       "      <th>totalSeasons</th>\n",
       "      <td>NaN</td>\n",
       "    </tr>\n",
       "  </tbody>\n",
       "</table>\n",
       "</div>"
      ],
      "text/plain": [
       "imdb_id                                                 1825683\n",
       "Actors        Chadwick Boseman, Michael B. Jordan, Lupita Ny...\n",
       "Awards                                          14 nominations.\n",
       "BoxOffice                                          $501,105,037\n",
       "Country                                                     USA\n",
       "DVD                                                 15 May 2018\n",
       "Director                                           Ryan Coogler\n",
       "Episode                                                     NaN\n",
       "Error                                                       NaN\n",
       "Genre                                 Action, Adventure, Sci-Fi\n",
       "Language                  Swahili, Nama, English, Xhosa, Korean\n",
       "Metascore                                                    88\n",
       "Plot          T'Challa, the King of Wakanda, rises to the th...\n",
       "Poster        https://ia.media-imdb.com/images/M/MV5BMTg1MTY...\n",
       "Production                                       Marvel Studios\n",
       "Rated                                                     PG-13\n",
       "Ratings       [{'Source': 'Internet Movie Database', 'Value'...\n",
       "Released                                            16 Feb 2018\n",
       "Response                                                   True\n",
       "Runtime                                                 134 min\n",
       "Season                                                      NaN\n",
       "Title                                             Black Panther\n",
       "Type                                                      movie\n",
       "Website             https://www.facebook.com/BlackPantherMovie/\n",
       "Writer        Ryan Coogler, Joe Robert Cole, Stan Lee (based...\n",
       "Year                                                       2018\n",
       "imdbID                                                tt1825683\n",
       "imdbRating                                                  7.7\n",
       "imdbVotes                                               247,680\n",
       "retrieved_at                                        1.52822e+09\n",
       "seriesID                                                    NaN\n",
       "totalSeasons                                                NaN"
      ]
     },
     "execution_count": 29,
     "metadata": {},
     "output_type": "execute_result"
    }
   ],
   "source": [
    "movies_df[movies_df['Title'] == 'Black Panther'].T"
   ]
  },
  {
   "cell_type": "code",
   "execution_count": 30,
   "metadata": {},
   "outputs": [
    {
     "data": {
      "image/png": "[encoded data removed]",
      "text/plain": [
       "<Figure size 432x288 with 1 Axes>"
      ]
     },
     "metadata": {
      "needs_background": "light"
     },
     "output_type": "display_data"
    }
   ],
   "source": [
    "movies_df['imdbRating'].hist()\n",
    "plt.show()"
   ]
  },
  {
   "cell_type": "code",
   "execution_count": 31,
   "metadata": {},
   "outputs": [
    {
     "data": {
      "image/png": "[encoded data removed]",
      "text/plain": [
       "<Figure size 432x288 with 1 Axes>"
      ]
     },
     "metadata": {
      "needs_background": "light"
     },
     "output_type": "display_data"
    }
   ],
   "source": [
    "movies_df.plot.scatter('imdbRating','Metascore')\n",
    "plt.show()"
   ]
  },
  {
   "cell_type": "code",
   "execution_count": null,
   "metadata": {},
   "outputs": [],
   "source": []
  }
 ],
 "metadata": {
  "kernelspec": {
   "display_name": "Python 3",
   "language": "python",
   "name": "python3"
  },
  "language_info": {
   "codemirror_mode": {
    "name": "ipython",
    "version": 3
   },
   "file_extension": ".py",
   "mimetype": "text/x-python",
   "name": "python",
   "nbconvert_exporter": "python",
   "pygments_lexer": "ipython3",
   "version": "3.6.6"
  }
 },
 "nbformat": 4,
 "nbformat_minor": 2
}
