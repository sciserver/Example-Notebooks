{
 "cells": [
  {
   "cell_type": "markdown",
   "metadata": {},
   "source": [
    "# The SciServer Science Platform\n",
    "* http://www.sciserver.org\n",
    "* http://apps.sciserver.org"
   ]
  },
  {
   "cell_type": "markdown",
   "metadata": {},
   "source": [
    "## What we will look at\n",
    "* **not CasJobs** (you’ve seen)\n",
    "* SciServer/Compute\n",
    "* Querying CasJobs from SciServer/Compute\n",
    "* Dashboard\n",
    " * Groups\n",
    " * Files/Volumes\n",
    "* Sharing\n",
    " * in Dashboard\n",
    " * in Compute \n"
   ]
  },
  {
   "cell_type": "markdown",
   "metadata": {},
   "source": [
    "## SciServer/Compute (Demo)\n",
    "* https://apps.sciserver.org/compute\n",
    " * or click 'Compute' from <a href=\"https://apps.sciserver.org/\">Dashboard</a>\n",
    "* Create a container\n",
    " * choose name (personal)\n",
    " * choose image\n",
    "  * Python + R\n",
    " * choose some user and data volumes\n",
    "  * in particular check ‘Getting Started’\n",
    "* Open the container: \n",
    " * voila! Jupyter, which you should know\n",
    "* JupyterLab\n",
    " * switch back and forth between classic and JupyterLab view\n"
   ]
  },
  {
   "cell_type": "markdown",
   "metadata": {},
   "source": [
    "## <font color=\"red\">STEP 1: use the right storage volume !!</font>\n",
    "* <font color=\"red\">**DO NOT STORE DATA IN THE ROOT OF YOUR CONTAINER !!**</font>\n",
    "* Instead use:\n",
    "* /Storage/&lt;username&gt;/&lt;volumename&gt;\n",
    " * e.g. /persistent\n",
    " * total 10GB \n",
    " * backed up\n",
    "* /Temporary/&lt;username&gt;/&lt;volumename&gt;\n",
    " * e.g. /scratch\n",
    " * total ~100TB\n",
    " * not backed up\n",
    "* these volumes are available in all containers (when mounted)\n",
    "* persist when container is deleted\n"
   ]
  },
  {
   "cell_type": "markdown",
   "metadata": {},
   "source": [
    "## Notebooks\n",
    "* navigate to Storage/&lt;username&gt;/persistent\n",
    "* create a notebook (python 3)\n",
    "* create a .py file\n",
    "* create a folder\n",
    "* do whatever you want!\n",
    "<br/>\n",
    "\n",
    "* Well, don’t run very large jobs interactively\n",
    " * limited memory and CPU\n",
    " * shared with ~100 other users possibly"
   ]
  },
  {
   "cell_type": "markdown",
   "metadata": {},
   "source": [
    "## Moview (Demo)\n",
    "* navigate to /getting_started/movies\n",
    "* notebook and data folder\n",
    "* copy notebook to your persistent folder (easiest in JupyterLab)\n",
    "* try it out"
   ]
  },
  {
   "cell_type": "markdown",
   "metadata": {},
   "source": [
    "## Terminal: linux\n",
    "* Start in /home/idies\n",
    "* Volumes in /home/idies/workspace\n",
    "* linux commands:\n",
    " * ls, whoami, vi\n",
    " * gcc, make\n",
    " * git clone ...\n",
    " * pip install ...\n",
    " * conda install ...\n",
    "<br/>\n",
    "\n",
    "* Note: pip/conda only install in this container\n"
   ]
  },
  {
   "cell_type": "markdown",
   "metadata": {},
   "source": [
    "## \"SciScript\"\n",
    "* special purpose python libraries for accessing SciServer components\n",
    "* installed in all Compute images\n",
    "* hence available in each container\n",
    "* See http://www.sciserver.org/docs/sciscript-python/SciServer.html \n",
    "<br/>"
   ]
  },
  {
   "cell_type": "markdown",
   "metadata": {},
   "source": [
    "## Special case: SciServer.CasJobs (Demo)"
   ]
  },
  {
   "cell_type": "markdown",
   "metadata": {},
   "source": [
    "## Dashboard (Demo)\n",
    "* Home\n",
    "* Files\n",
    " * new volume\n",
    " * share with individuals\n",
    " * copy/move/delete etc\n",
    "* Groups\n",
    " * create group\n",
    " * invite others (MEMBER vs ADMIN)\n",
    " * Share volumes with group\n",
    "* Profile/help etc\n",
    " * TOKEN"
   ]
  },
  {
   "cell_type": "markdown",
   "metadata": {},
   "source": [
    "## revisit Compute\n",
    "* create new container\n",
    "* notice user volumes, share or your own, show up\n",
    "* check inside container\n",
    "\n",
    "* think of usage: \n",
    " * inspect notebook created by group member\n",
    "  * notice auto-save!!\n",
    "  * better create named subfolder for active development\n",
    " * share data sets\n",
    "\n",
    "* COLLABORATE!!"
   ]
  },
  {
   "cell_type": "markdown",
   "metadata": {},
   "source": [
    "## Create team\n",
    "* one of you creates a group (will be OWNER)\n",
    "* invites others, as MEMBER or ADMIN\n",
    "* create a user volume (in Dashboard/Files)\n",
    "* share with group (Read/Write)"
   ]
  }
 ],
 "metadata": {
  "kernelspec": {
   "display_name": "Python 3",
   "language": "python",
   "name": "python3"
  },
  "language_info": {
   "codemirror_mode": {
    "name": "ipython",
    "version": 3
   },
   "file_extension": ".py",
   "mimetype": "text/x-python",
   "name": "python",
   "nbconvert_exporter": "python",
   "pygments_lexer": "ipython3",
   "version": "3.6.6"
  }
 },
 "nbformat": 4,
 "nbformat_minor": 2
}
