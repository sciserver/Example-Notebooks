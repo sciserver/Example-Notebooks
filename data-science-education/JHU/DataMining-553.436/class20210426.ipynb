{
 "cells": [
  {
   "cell_type": "markdown",
   "metadata": {},
   "source": [
    "# The SciServer Science Platform\n",
    "* http://www.sciserver.org\n",
    "* https://apps.sciserver.org"
   ]
  },
  {
   "cell_type": "markdown",
   "metadata": {},
   "source": [
    "## What we will look at:\n",
    "* SciServer/Compute\n",
    " * Create containers, mount data volumes\n",
    " * run notebooks\n",
    "* Dashboard:\n",
    " * Groups\n",
    " * Files/Volumes\n",
    " * Sharing\n",
    "* Creating a team and sharing data with it\n",
    "* SciScript: Running CasJobs queries in notebooks\n",
    "* Running Notebooks as Jobs\n"
   ]
  },
  {
   "cell_type": "markdown",
   "metadata": {},
   "source": [
    "## 1) SciServer/Compute\n",
    "* https://apps.sciserver.org/compute\n",
    " * or click 'Compute' from <a href=\"https://apps.sciserver.org/\">Dashboard</a>\n",
    "* Create a container (software environment):\n",
    " * choose interactive Docker compute domain (particular hardware environment)\n",
    " * choose a name\n",
    " * choose image: \"SciServer Essentials 2.0\" has basic software libraries and functionality\n",
    " * choose both persistent and scratch user volumes\n",
    " * choose ‘Getting Started’ data volume (has class materials)\n",
    "* Open the container: \n",
    " * voila! Jupyter, which you should know\n",
    "* JupyterLab:\n",
    " * improved version of classic Jupyter Notebooks\n",
    " * switch back and forth between classic and JupyterLab view\n"
   ]
  },
  {
   "cell_type": "markdown",
   "metadata": {},
   "source": [
    "### Data storage\n",
    "\n",
    "##### Your personal space:\n",
    " * /Storage/&lt;username&gt;/&lt;volumename&gt;\n",
    "   * e.g. /persistent\n",
    "   * total 10GB \n",
    "   * backed up\n",
    " * /Temporary/&lt;username&gt;/&lt;volumename&gt;\n",
    "   * e.g. /scratch\n",
    "   * total ~100TB\n",
    "   * not backed up\n",
    "* These volumes are available in all containers (when mounted)\n",
    "* Data is stil there even after container is deleted\n",
    "* <font color=\"red\">**DO NOT STORE DATA IN THE ROOT OF YOUR CONTAINER !!**</font>\n",
    "  (data will be gone after container is deleted)\n",
    "\n",
    "##### Public data volumes:\n",
    " * Contain public datasets (read-only). 100+TBs of data\n",
    " * Class materials: ```getting_started/Teaching/JHU/DataMining-553.436/```\n"
   ]
  },
  {
   "cell_type": "markdown",
   "metadata": {},
   "source": [
    "### Notebooks:\n",
    "* navigate to Storage/&lt;username&gt;/persistent\n",
    "* create a pyton Notebook\n",
    "* do whatever you want!\n",
    "\n",
    "* Don’t run computationally intensive and long running code interactively\n",
    " * limited memory and CPU\n",
    " * shared with ~100 other users possibly\n",
    " * Use Jobs functionality instead (shown later)"
   ]
  },
  {
   "cell_type": "markdown",
   "metadata": {},
   "source": [
    "### Try Notebook: Movie dataset \n",
    "* navigate to ```getting_started/Teaching/JHU/DataMining-553.436/```\n",
    "* copy ```analyze_movies_from_omdb.ipynb``` to your persistent folder under Storage/&lt;username&gt;/persistent\n",
    "* try it out"
   ]
  },
  {
   "cell_type": "markdown",
   "metadata": {},
   "source": [
    "### Linux Terminal\n",
    "* Starts in `/home/idies`\n",
    "* Volumes under `/home/idies/workspace`\n",
    "* linux commands:\n",
    " * cd, ls, whoami, vi\n",
    " * gcc, make\n",
    " * git clone ...\n",
    "<br/>\n",
    "\n",
    "\n",
    "* Install new packages with `conda install` or `pip install `\n",
    "* Note: pip/conda only install on current container\n"
   ]
  },
  {
   "cell_type": "markdown",
   "metadata": {},
   "source": [
    "## 2) SciServer Dashboard\n",
    "Landing page: https://apps.sciserver.org\n",
    "* Home\n",
    " * listing of all apps\n",
    " * user activities and invitations\n",
    "* Files\n",
    " * same volumes as seen inside compute\n",
    " * new volume\n",
    " * share with individuals\n",
    " * copy/move/delete etc\n",
    " * volume quota\n",
    "* Groups\n",
    " * create group\n",
    " * invite others (MEMBER vs ADMIN)\n",
    " * Share volumes with group\n",
    "* Profile/help etc"
   ]
  },
  {
   "cell_type": "markdown",
   "metadata": {},
   "source": [
    "## 3) Creating a User Volume\n",
    "\n",
    "* Under Dashboard's `Files` tab\n",
    "* Created under Root Volume `Storage` or `Temporary`\n",
    "* User volumes under `Storage` are subject to total quota (10GB)\n",
    "* Can be shared with individuals or group\n",
    "\n"
   ]
  },
  {
   "cell_type": "markdown",
   "metadata": {},
   "source": [
    "## 4) Creating a team\n",
    "* Under Dashboard's `Groups` tab\n",
    "* one of you creates a group (will be OWNER)\n",
    "* invites others, as MEMBER or ADMIN\n",
    " * ADMINs can invite other members as well\n",
    "* create a user volume (in Dashboard/Files)\n",
    "* share with group (Read/Write)"
   ]
  },
  {
   "cell_type": "markdown",
   "metadata": {},
   "source": [
    "## 5) Sharing in Compute\n",
    "* create new container\n",
    "* notice and mount new shared user volume(s) \n",
    "* check user volume inside container\n",
    "\n",
    "* think of usage: \n",
    " * inspect notebook created by group member\n",
    "  * notice auto-save!!\n",
    "  * better create named subfolder for active development\n",
    " * share data sets\n",
    "\n",
    "* COLLABORATE!!"
   ]
  },
  {
   "cell_type": "markdown",
   "metadata": {},
   "source": [
    "\n",
    "\n"
   ]
  },
  {
   "cell_type": "markdown",
   "metadata": {},
   "source": [
    "## 6) \"SciScript\"\n",
    "* special purpose python libraries for accessing SciServer components within Notebooks\n",
    "* installed in all Compute images\n",
    "* hence available in each container\n",
    "* See http://www.sciserver.org/docs/sciscript-python/SciServer.html \n",
    "\n",
    " #### Special case: SciServer.CasJobs (Demo)\n",
    "* Run  `Getting Started with SQL using SciServer.CasJobs.ipynb` from course materials "
   ]
  },
  {
   "cell_type": "markdown",
   "metadata": {},
   "source": [
    "## 7) JOBS\n",
    "* For long running notebooks, submit them as a Job: https://apps.sciserver.org/compute/jobs\n",
    "* Choose settings same as interactive notebook:\n",
    "  * choose Small Jobs Domain (public, specific num. of cores + RAM.)\n",
    "  * Image, volumes\n",
    "  * Browse notebook to be run as a job\n",
    "  \n",
    "* Jobs status is refreshed regularly\n",
    "* Results directory is created under user volume, included notebook with executed cells\n",
    "* Can also run bash commads as jobs"
   ]
  }
 ],
 "metadata": {
  "kernelspec": {
   "display_name": "Python 3.8 (py38)",
   "language": "python",
   "name": "py38"
  },
  "language_info": {
   "codemirror_mode": {
    "name": "ipython",
    "version": 3
   },
   "file_extension": ".py",
   "mimetype": "text/x-python",
   "name": "python",
   "nbconvert_exporter": "python",
   "pygments_lexer": "ipython3",
   "version": "3.8.5"
  }
 },
 "nbformat": 4,
 "nbformat_minor": 4
}
